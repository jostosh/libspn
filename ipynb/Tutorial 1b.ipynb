{
 "cells": [
  {
   "cell_type": "markdown",
   "metadata": {},
   "source": [
    "# Tutorial 1b: Building the SPN Graph Using Multi-Op Nodes\n",
    "We can also build SPNs using bigger building blocks: e.g. `ParallelSums` which compute multiple sums with identical child inputs or `PermuteProducts` which compute all permutations of children with disjoint scopes."
   ]
  },
  {
   "cell_type": "code",
   "execution_count": 1,
   "metadata": {},
   "outputs": [],
   "source": [
    "import libspn as spn\n",
    "import tensorflow as tf"
   ]
  },
  {
   "cell_type": "markdown",
   "metadata": {},
   "source": [
    "## Build the SPN"
   ]
  },
  {
   "cell_type": "code",
   "execution_count": 2,
   "metadata": {},
   "outputs": [
    {
     "name": "stderr",
     "output_type": "stream",
     "text": [
      "[WARNING] [tensorflow:__getattr__] From /home/jos/spn/libspn/libspn/graph/node.py:40: The name tf.get_default_graph is deprecated. Please use tf.compat.v1.get_default_graph instead.\n",
      "\n",
      "[WARNING] [tensorflow:__getattr__] From /home/jos/spn/libspn/libspn/graph/leaf/indicator.py:63: The name tf.placeholder is deprecated. Please use tf.compat.v1.placeholder instead.\n",
      "\n"
     ]
    }
   ],
   "source": [
    "indicator_leaves = spn.IndicatorLeaf(\n",
    "    num_vars=2, num_vals=2, name=\"indicator_x\")\n",
    "\n",
    "# Connect first two sums to indicators of first variable\n",
    "sums_1 = spn.ParallelSums((indicator_leaves, [0,1]), num_sums=2, name=\"sums_1\")\n",
    "# Connect another two sums to indicators of second variable\n",
    "sums_2 = spn.ParallelSums((indicator_leaves, [2,3]), num_sums=2, name=\"sums_2\")\n",
    "\n",
    "# Connect 2 * 2 == 4 product nodes\n",
    "prods_1 = spn.PermuteProducts(sums_1, sums_2, name=\"prod_1\")\n",
    "\n",
    "# Connect a root sum\n",
    "root = spn.Sum(prods_1, name=\"root\")\n",
    "\n",
    "# Connect a latent indicator\n",
    "indicator_y = root.generate_latent_indicators(name=\"indicator_y\") # Can be added manually\n",
    "\n",
    "# Generate weights\n",
    "spn.generate_weights(root, initializer=tf.initializers.random_uniform()) # Can be added manually"
   ]
  },
  {
   "cell_type": "markdown",
   "metadata": {},
   "source": [
    "## Inspect"
   ]
  },
  {
   "cell_type": "code",
   "execution_count": 3,
   "metadata": {},
   "outputs": [
    {
     "name": "stdout",
     "output_type": "stream",
     "text": [
      "9\n",
      "[Scope({indicator_x:0, indicator_x:1, indicator_y:0})]\n",
      "True\n"
     ]
    }
   ],
   "source": [
    "# Inspect\n",
    "print(root.get_num_nodes())\n",
    "print(root.get_scope())\n",
    "print(root.is_valid())"
   ]
  },
  {
   "cell_type": "markdown",
   "metadata": {},
   "source": [
    "## Visualize the SPN Graph\n",
    "The visualization below uses `graphviz`. Depending on your setup (e.g. `jupyter lab` vs. `jupyter notebook`) this might fail to show. At least `Chrome` + `jupyter notebook` seems to work."
   ]
  },
  {
   "cell_type": "code",
   "execution_count": 4,
   "metadata": {},
   "outputs": [
    {
     "data": {
      "text/html": [
       "<svg id=\"Scacc5ae56be84c9bab38cd16fe9a1bc1\" width=\"950\" height=\"800\"></svg>\n",
       "<script>\n",
       " require.config({\n",
       "   paths: {\n",
       "     d3: 'https://d3js.org/d3.v4.min'\n",
       "   }\n",
       " });\n",
       " require(['d3'], function(d3){\n",
       "\n",
       "   var graph = {\"links\": [{\"value\": 4, \"source\": \"Weights/sums_2_Weights_1\", \"target\": \"sums_2\"}, {\"value\": 2, \"source\": \"indicator_x_2\", \"target\": \"sums_2\"}, {\"value\": 4, \"source\": \"Weights/sums_1_Weights_3\", \"target\": \"sums_1\"}, {\"value\": 2, \"source\": \"indicator_x_4\", \"target\": \"sums_1\"}, {\"value\": 2, \"source\": \"sums_1\", \"target\": \"prod_1\"}, {\"value\": 2, \"source\": \"sums_2\", \"target\": \"prod_1\"}, {\"value\": 4, \"source\": \"Weights/root_Weights_5\", \"target\": \"root\"}, {\"value\": 4, \"source\": \"indicator_y_6\", \"target\": \"root\"}, {\"value\": 4, \"source\": \"prod_1\", \"target\": \"root\"}], \"nodes\": [{\"type\": 2, \"id\": \"sums_2\", \"name\": \"sums_2\", \"tooltip\": \"sums_2\"}, {\"type\": 1, \"id\": \"Weights/sums_2_Weights_1\", \"name\": \"Weights/sums_2_Weights\", \"tooltip\": \"Weights/sums_2_Weights\"}, {\"type\": 0, \"id\": \"indicator_x_2\", \"name\": \"indicator_x[2, 3]\", \"tooltip\": \"indicator_x\"}, {\"type\": 2, \"id\": \"sums_1\", \"name\": \"sums_1\", \"tooltip\": \"sums_1\"}, {\"type\": 1, \"id\": \"Weights/sums_1_Weights_3\", \"name\": \"Weights/sums_1_Weights\", \"tooltip\": \"Weights/sums_1_Weights\"}, {\"type\": 0, \"id\": \"indicator_x_4\", \"name\": \"indicator_x[0, 1]\", \"tooltip\": \"indicator_x\"}, {\"type\": 3, \"id\": \"prod_1\", \"name\": \"prod_1\", \"tooltip\": \"prod_1\"}, {\"type\": 4, \"id\": \"root\", \"name\": \"root\", \"tooltip\": \"root\"}, {\"type\": 1, \"id\": \"Weights/root_Weights_5\", \"name\": \"Weights/root_Weights\", \"tooltip\": \"Weights/root_Weights\"}, {\"type\": 0, \"id\": \"indicator_y_6\", \"name\": \"indicator_y\", \"tooltip\": \"indicator_y\"}]};\n",
       "\n",
       "   var color = d3.scaleOrdinal(d3.schemeCategory10);\n",
       "\n",
       "   var zoom = d3.zoom()\n",
       "                .scaleExtent([0.1, 10])\n",
       "                .on(\"zoom\", zoomed);\n",
       "\n",
       "   var svg = d3.select(\"#Scacc5ae56be84c9bab38cd16fe9a1bc1\").\n",
       "                call(zoom);\n",
       "\n",
       "   var width = svg.attr(\"width\");\n",
       "   var height = svg.attr(\"height\");\n",
       "\n",
       "   var simulation = d3.forceSimulation(graph.nodes)\n",
       "                      .on(\"tick\", ticked)\n",
       "                      .force(\"link\", d3.forceLink(graph.links)\n",
       "                                       .distance(80)\n",
       "                                       .id(function(d) { return d.id; }))\n",
       "                      .force(\"charge\", d3.forceManyBody().\n",
       "                                          strength(-1000))\n",
       "                      .force(\"center\", d3.forceCenter(width / 2, height / 2));\n",
       "\n",
       "   /* Contents */\n",
       "   var container = svg.append(\"g\").\n",
       "                       attr(\"class\", \"container\");\n",
       "\n",
       "   var link = container.append(\"g\")\n",
       "                       .selectAll(\"link\")\n",
       "                       .data(graph.links)\n",
       "                       .enter().append(\"line\")\n",
       "                       .attr(\"stroke\", \"#444\")\n",
       "                       .attr(\"stroke-opacity\", \"0.6\")\n",
       "                       .attr(\"stroke-width\",\n",
       "                             function(d) {\n",
       "                               return d.value;\n",
       "                               /*return Math.sqrt(d.value);*/\n",
       "                             });\n",
       "\n",
       "   var link_value = container.append(\"g\")\n",
       "                             .selectAll(\"linkvalue\")\n",
       "                             .data(graph.links)\n",
       "                             .enter().append(\"text\")\n",
       "                             .attr(\"alignment-baseline\", \"middle\")\n",
       "                             .style(\"text-anchor\", \"middle\")\n",
       "                             .text(function(d) { return d.value; });\n",
       "\n",
       "   var node = container.append(\"g\")\n",
       "                       .selectAll(\"node\")\n",
       "                       .data(graph.nodes)\n",
       "                       .enter().append(\"g\")\n",
       "                       .call(d3.drag()\n",
       "                               .on(\"start\", dragstarted)\n",
       "                               .on(\"drag\", dragged)\n",
       "                               .on(\"end\", dragended));\n",
       "\n",
       "   /* Node appearance */\n",
       "   node.append(\"rect\")\n",
       "       .attr(\"height\", 0)\n",
       "       .attr(\"width\", 0)\n",
       "       .attr(\"fill\", function(d) { return color(d.type); })\n",
       "       .attr(\"stroke\", \"#000\")\n",
       "       .attr(\"stroke-width\", \"1px\");\n",
       "\n",
       "   node.append(\"text\")\n",
       "       .attr(\"alignment-baseline\", \"middle\")\n",
       "       .style(\"text-anchor\", \"middle\")\n",
       "       .text(function(d) { return d.name; });\n",
       "\n",
       "   /* Adjust rect width to text */\n",
       "   var margin=10;\n",
       "   node.selectAll('rect')\n",
       "       .attr(\"x\", function(d) {return d3.select(this).attr(\"x\") - (this.parentNode.getBBox().width + margin)/2.0;})\n",
       "       .attr(\"y\", function(d) {return d3.select(this).attr(\"y\") - (this.parentNode.getBBox().height + margin)/2.0;})\n",
       "       .attr(\"width\", function(d) {return this.parentNode.getBBox().width + margin;})\n",
       "       .attr(\"height\", function(d) {return this.parentNode.getBBox().height + margin;});\n",
       "\n",
       "   /* Tooltips */\n",
       "   node.append(\"title\")\n",
       "       .text(function(d) { return d.tooltip; });\n",
       "\n",
       "   /* Functions */\n",
       "   function zoomed() {\n",
       "     container.attr(\"transform\", d3.event.transform);\n",
       "   }\n",
       "\n",
       "   function ticked() {\n",
       "     link\n",
       "       .attr(\"x1\", function(d) { return d.source.x; })\n",
       "       .attr(\"y1\", function(d) { return d.source.y; })\n",
       "       .attr(\"x2\", function(d) { return d.target.x; })\n",
       "       .attr(\"y2\", function(d) { return d.target.y; });\n",
       "\n",
       "     link_value\n",
       "       .attr(\"x\", function(d) { return (d.source.x+d.target.x)/2; })\n",
       "       .attr(\"y\", function(d) { return (d.source.y+d.target.y)/2; })\n",
       "\n",
       "     node.attr(\"transform\",\n",
       "               function(d) { return \"translate(\" + d.x + \",\" + d.y + \")\"; });\n",
       "   }\n",
       "\n",
       "   function dragstarted(d) {\n",
       "     if (!d3.event.active) simulation.alphaTarget(0.3).restart();\n",
       "     d.fx = d.x;\n",
       "     d.fy = d.y;\n",
       "   }\n",
       "\n",
       "   function dragged(d) {\n",
       "     d.fx = d3.event.x;\n",
       "     d.fy = d3.event.y;\n",
       "   }\n",
       "\n",
       "   function dragended(d) {\n",
       "     if (!d3.event.active) simulation.alphaTarget(0);\n",
       "     d.fx = null;\n",
       "     d.fy = null;\n",
       "   }\n",
       "\n",
       " });\n",
       "</script>\n"
      ],
      "text/plain": [
       "<IPython.core.display.HTML object>"
      ]
     },
     "metadata": {},
     "output_type": "display_data"
    }
   ],
   "source": [
    "# Visualize SPN graph\n",
    "spn.display_spn_graph(root)"
   ]
  }
 ],
 "metadata": {
  "kernelspec": {
   "display_name": "Python 3",
   "language": "python",
   "name": "python3"
  },
  "language_info": {
   "codemirror_mode": {
    "name": "ipython",
    "version": 3
   },
   "file_extension": ".py",
   "mimetype": "text/x-python",
   "name": "python",
   "nbconvert_exporter": "python",
   "pygments_lexer": "ipython3",
   "version": "3.5.2"
  }
 },
 "nbformat": 4,
 "nbformat_minor": 2
}
