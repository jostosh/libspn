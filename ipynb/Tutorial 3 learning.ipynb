{
 "cells": [
  {
   "cell_type": "markdown",
   "metadata": {},
   "source": [
    "# Tutorial 3: Parameter Learning\n",
    "We can learn the weights of an SPN for generative problems using hard EM learning."
   ]
  },
  {
   "cell_type": "code",
   "execution_count": 1,
   "metadata": {},
   "outputs": [],
   "source": [
    "import libspn as spn\n",
    "import tensorflow as tf"
   ]
  },
  {
   "cell_type": "markdown",
   "metadata": {},
   "source": [
    "## Build the SPN"
   ]
  },
  {
   "cell_type": "code",
   "execution_count": 2,
   "metadata": {},
   "outputs": [
    {
     "name": "stderr",
     "output_type": "stream",
     "text": [
      "[WARNING] [tensorflow:__getattr__] From /home/jos/spn/libspn/libspn/graph/node.py:40: The name tf.get_default_graph is deprecated. Please use tf.compat.v1.get_default_graph instead.\n",
      "\n",
      "[WARNING] [tensorflow:__getattr__] From /home/jos/spn/libspn/libspn/graph/leaf/indicator.py:63: The name tf.placeholder is deprecated. Please use tf.compat.v1.placeholder instead.\n",
      "\n"
     ]
    }
   ],
   "source": [
    "indicator_leaves = spn.IndicatorLeaf(\n",
    "    num_vars=2, num_vals=2, name=\"indicator_x\")\n",
    "\n",
    "# Generate random structure with 1 decomposition per product layer\n",
    "# 2 subsets of variables per product (so 2 children) and 2 sums/mixtures per scope\n",
    "dense_spn_generator = spn.DenseSPNGenerator(num_decomps=1, num_subsets=2, num_mixtures=2)\n",
    "root = dense_spn_generator.generate(indicator_leaves)\n",
    "\n",
    "# Connect a latent indicator\n",
    "indicator_y = root.generate_latent_indicators(name=\"indicator_y\") # Can be added manually\n",
    "\n",
    "# Generate weights\n",
    "spn.generate_weights(root, initializer=tf.initializers.random_uniform()) # Can be added manually"
   ]
  },
  {
   "cell_type": "markdown",
   "metadata": {},
   "source": [
    "## Visualize the SPN Graph\n",
    "The visualization below uses `graphviz`. Depending on your setup (e.g. `jupyter lab` vs. `jupyter notebook`) this might fail to show. At least `Chrome` + `jupyter notebook` seems to work."
   ]
  },
  {
   "cell_type": "code",
   "execution_count": 3,
   "metadata": {
    "scrolled": true
   },
   "outputs": [
    {
     "data": {
      "text/html": [
       "<svg id=\"S0ec5cfbb9cdf445ab073115a736aaa55\" width=\"950\" height=\"800\"></svg>\n",
       "<script>\n",
       " require.config({\n",
       "   paths: {\n",
       "     d3: 'https://d3js.org/d3.v4.min'\n",
       "   }\n",
       " });\n",
       " require(['d3'], function(d3){\n",
       "\n",
       "   var graph = {\"links\": [{\"value\": 8, \"target\": \"Layer3/SumsLayer-3.1\", \"source\": \"Weights/Layer3/SumsLayer-3.1_Weights_1\"}, {\"value\": 2, \"target\": \"Layer3/SumsLayer-3.1\", \"source\": \"indicator_x_2\"}, {\"value\": 2, \"target\": \"Layer3/SumsLayer-3.1\", \"source\": \"indicator_x_3\"}, {\"value\": 2, \"target\": \"Layer3/SumsLayer-3.1\", \"source\": \"indicator_x_4\"}, {\"value\": 2, \"target\": \"Layer3/SumsLayer-3.1\", \"source\": \"indicator_x_5\"}, {\"value\": 1, \"target\": \"Layer2/ProductsLayer-2.1\", \"source\": \"Layer3/SumsLayer-3.1\"}, {\"value\": 1, \"target\": \"Layer2/ProductsLayer-2.1\", \"source\": \"Layer3/SumsLayer-3.1\"}, {\"value\": 1, \"target\": \"Layer2/ProductsLayer-2.1\", \"source\": \"Layer3/SumsLayer-3.1\"}, {\"value\": 1, \"target\": \"Layer2/ProductsLayer-2.1\", \"source\": \"Layer3/SumsLayer-3.1\"}, {\"value\": 1, \"target\": \"Layer2/ProductsLayer-2.1\", \"source\": \"Layer3/SumsLayer-3.1\"}, {\"value\": 1, \"target\": \"Layer2/ProductsLayer-2.1\", \"source\": \"Layer3/SumsLayer-3.1\"}, {\"value\": 1, \"target\": \"Layer2/ProductsLayer-2.1\", \"source\": \"Layer3/SumsLayer-3.1\"}, {\"value\": 1, \"target\": \"Layer2/ProductsLayer-2.1\", \"source\": \"Layer3/SumsLayer-3.1\"}, {\"value\": 4, \"target\": \"Node\", \"source\": \"Weights/Node_Weights_6\"}, {\"value\": 4, \"target\": \"Node\", \"source\": \"indicator_y_7\"}, {\"value\": 4, \"target\": \"Node\", \"source\": \"Layer2/ProductsLayer-2.1\"}], \"nodes\": [{\"type\": 2, \"name\": \"Layer3/SumsLayer-3.1\", \"tooltip\": \"Layer3/SumsLayer-3.1\", \"id\": \"Layer3/SumsLayer-3.1\"}, {\"type\": 1, \"name\": \"Weights/Layer3/SumsLayer-3.1_Weights\", \"tooltip\": \"Weights/Layer3/SumsLayer-3.1_Weights\", \"id\": \"Weights/Layer3/SumsLayer-3.1_Weights_1\"}, {\"type\": 0, \"name\": \"indicator_x[2, 3]\", \"tooltip\": \"indicator_x\", \"id\": \"indicator_x_2\"}, {\"type\": 0, \"name\": \"indicator_x[2, 3]\", \"tooltip\": \"indicator_x\", \"id\": \"indicator_x_3\"}, {\"type\": 0, \"name\": \"indicator_x[0, 1]\", \"tooltip\": \"indicator_x\", \"id\": \"indicator_x_4\"}, {\"type\": 0, \"name\": \"indicator_x[0, 1]\", \"tooltip\": \"indicator_x\", \"id\": \"indicator_x_5\"}, {\"type\": 3, \"name\": \"Layer2/ProductsLayer-2.1\", \"tooltip\": \"Layer2/ProductsLayer-2.1\", \"id\": \"Layer2/ProductsLayer-2.1\"}, {\"type\": 4, \"name\": \"Node\", \"tooltip\": \"Node\", \"id\": \"Node\"}, {\"type\": 1, \"name\": \"Weights/Node_Weights\", \"tooltip\": \"Weights/Node_Weights\", \"id\": \"Weights/Node_Weights_6\"}, {\"type\": 0, \"name\": \"indicator_y\", \"tooltip\": \"indicator_y\", \"id\": \"indicator_y_7\"}]};\n",
       "\n",
       "   var color = d3.scaleOrdinal(d3.schemeCategory10);\n",
       "\n",
       "   var zoom = d3.zoom()\n",
       "                .scaleExtent([0.1, 10])\n",
       "                .on(\"zoom\", zoomed);\n",
       "\n",
       "   var svg = d3.select(\"#S0ec5cfbb9cdf445ab073115a736aaa55\").\n",
       "                call(zoom);\n",
       "\n",
       "   var width = svg.attr(\"width\");\n",
       "   var height = svg.attr(\"height\");\n",
       "\n",
       "   var simulation = d3.forceSimulation(graph.nodes)\n",
       "                      .on(\"tick\", ticked)\n",
       "                      .force(\"link\", d3.forceLink(graph.links)\n",
       "                                       .distance(80)\n",
       "                                       .id(function(d) { return d.id; }))\n",
       "                      .force(\"charge\", d3.forceManyBody().\n",
       "                                          strength(-1000))\n",
       "                      .force(\"center\", d3.forceCenter(width / 2, height / 2));\n",
       "\n",
       "   /* Contents */\n",
       "   var container = svg.append(\"g\").\n",
       "                       attr(\"class\", \"container\");\n",
       "\n",
       "   var link = container.append(\"g\")\n",
       "                       .selectAll(\"link\")\n",
       "                       .data(graph.links)\n",
       "                       .enter().append(\"line\")\n",
       "                       .attr(\"stroke\", \"#444\")\n",
       "                       .attr(\"stroke-opacity\", \"0.6\")\n",
       "                       .attr(\"stroke-width\",\n",
       "                             function(d) {\n",
       "                               return d.value;\n",
       "                               /*return Math.sqrt(d.value);*/\n",
       "                             });\n",
       "\n",
       "   var link_value = container.append(\"g\")\n",
       "                             .selectAll(\"linkvalue\")\n",
       "                             .data(graph.links)\n",
       "                             .enter().append(\"text\")\n",
       "                             .attr(\"alignment-baseline\", \"middle\")\n",
       "                             .style(\"text-anchor\", \"middle\")\n",
       "                             .text(function(d) { return d.value; });\n",
       "\n",
       "   var node = container.append(\"g\")\n",
       "                       .selectAll(\"node\")\n",
       "                       .data(graph.nodes)\n",
       "                       .enter().append(\"g\")\n",
       "                       .call(d3.drag()\n",
       "                               .on(\"start\", dragstarted)\n",
       "                               .on(\"drag\", dragged)\n",
       "                               .on(\"end\", dragended));\n",
       "\n",
       "   /* Node appearance */\n",
       "   node.append(\"rect\")\n",
       "       .attr(\"height\", 0)\n",
       "       .attr(\"width\", 0)\n",
       "       .attr(\"fill\", function(d) { return color(d.type); })\n",
       "       .attr(\"stroke\", \"#000\")\n",
       "       .attr(\"stroke-width\", \"1px\");\n",
       "\n",
       "   node.append(\"text\")\n",
       "       .attr(\"alignment-baseline\", \"middle\")\n",
       "       .style(\"text-anchor\", \"middle\")\n",
       "       .text(function(d) { return d.name; });\n",
       "\n",
       "   /* Adjust rect width to text */\n",
       "   var margin=10;\n",
       "   node.selectAll('rect')\n",
       "       .attr(\"x\", function(d) {return d3.select(this).attr(\"x\") - (this.parentNode.getBBox().width + margin)/2.0;})\n",
       "       .attr(\"y\", function(d) {return d3.select(this).attr(\"y\") - (this.parentNode.getBBox().height + margin)/2.0;})\n",
       "       .attr(\"width\", function(d) {return this.parentNode.getBBox().width + margin;})\n",
       "       .attr(\"height\", function(d) {return this.parentNode.getBBox().height + margin;});\n",
       "\n",
       "   /* Tooltips */\n",
       "   node.append(\"title\")\n",
       "       .text(function(d) { return d.tooltip; });\n",
       "\n",
       "   /* Functions */\n",
       "   function zoomed() {\n",
       "     container.attr(\"transform\", d3.event.transform);\n",
       "   }\n",
       "\n",
       "   function ticked() {\n",
       "     link\n",
       "       .attr(\"x1\", function(d) { return d.source.x; })\n",
       "       .attr(\"y1\", function(d) { return d.source.y; })\n",
       "       .attr(\"x2\", function(d) { return d.target.x; })\n",
       "       .attr(\"y2\", function(d) { return d.target.y; });\n",
       "\n",
       "     link_value\n",
       "       .attr(\"x\", function(d) { return (d.source.x+d.target.x)/2; })\n",
       "       .attr(\"y\", function(d) { return (d.source.y+d.target.y)/2; })\n",
       "\n",
       "     node.attr(\"transform\",\n",
       "               function(d) { return \"translate(\" + d.x + \",\" + d.y + \")\"; });\n",
       "   }\n",
       "\n",
       "   function dragstarted(d) {\n",
       "     if (!d3.event.active) simulation.alphaTarget(0.3).restart();\n",
       "     d.fx = d.x;\n",
       "     d.fy = d.y;\n",
       "   }\n",
       "\n",
       "   function dragged(d) {\n",
       "     d.fx = d3.event.x;\n",
       "     d.fy = d3.event.y;\n",
       "   }\n",
       "\n",
       "   function dragended(d) {\n",
       "     if (!d3.event.active) simulation.alphaTarget(0);\n",
       "     d.fx = null;\n",
       "     d.fy = null;\n",
       "   }\n",
       "\n",
       " });\n",
       "</script>\n"
      ],
      "text/plain": [
       "<IPython.core.display.HTML object>"
      ]
     },
     "metadata": {},
     "output_type": "display_data"
    }
   ],
   "source": [
    "# Visualize SPN graph\n",
    "spn.display_spn_graph(root)"
   ]
  },
  {
   "cell_type": "markdown",
   "metadata": {},
   "source": [
    "## Specify Training Data"
   ]
  },
  {
   "cell_type": "code",
   "execution_count": 4,
   "metadata": {},
   "outputs": [],
   "source": [
    "indicator_x_data = [[0,0],[0,0],[1,1],[1,1],[1,1],[0,1],[0,1],[0,1]]\n",
    "indicator_y_data =[[-1]] * len(indicator_x_data)"
   ]
  },
  {
   "cell_type": "markdown",
   "metadata": {},
   "source": [
    "## Add Learning Ops"
   ]
  },
  {
   "cell_type": "code",
   "execution_count": 5,
   "metadata": {},
   "outputs": [
    {
     "name": "stderr",
     "output_type": "stream",
     "text": [
      "[WARNING] [tensorflow:__getattr__] From /home/jos/spn/libspn/libspn/graph/leaf/indicator.py:91: The name tf.log is deprecated. Please use tf.math.log instead.\n",
      "\n",
      "[WARNING] [tensorflow:new_func] From /home/jos/.local/lib/python3.5/site-packages/tensorflow/python/ops/math_ops.py:2403: add_dispatch_support.<locals>.wrapper (from tensorflow.python.ops.array_ops) is deprecated and will be removed in a future version.\n",
      "Instructions for updating:\n",
      "Use tf.where in 2.0, which has the same broadcast rule as np.where\n",
      "[WARNING] [tensorflow:new_func] From /home/jos/spn/libspn/libspn/graph/op/base_sum.py:658: multinomial (from tensorflow.python.ops.random_ops) is deprecated and will be removed in a future version.\n",
      "Instructions for updating:\n",
      "Use `tf.random.categorical` instead.\n",
      "[WARNING] [tensorflow:__getattr__] From /home/jos/spn/libspn/libspn/learning/em.py:91: The name tf.assign_add is deprecated. Please use tf.compat.v1.assign_add instead.\n",
      "\n",
      "[WARNING] [tensorflow:__getattr__] From /home/jos/spn/libspn/libspn/graph/weights.py:117: The name tf.is_nan is deprecated. Please use tf.math.is_nan instead.\n",
      "\n"
     ]
    }
   ],
   "source": [
    "hard_em_learning = spn.HardEMLearning(root=root)\n",
    "update_op = hard_em_learning.accumulate_and_update_weights()\n",
    "llh_op = tf.reduce_mean(root.get_log_value())"
   ]
  },
  {
   "cell_type": "code",
   "execution_count": 6,
   "metadata": {},
   "outputs": [
    {
     "name": "stdout",
     "output_type": "stream",
     "text": [
      "Avg. Likelihood: -1.3665967\n",
      "Avg. Likelihood: -1.207653\n",
      "Avg. Likelihood: -1.163633\n",
      "Avg. Likelihood: -1.142268\n",
      "Avg. Likelihood: -1.1297168\n",
      "Avg. Likelihood: -1.1214797\n",
      "Avg. Likelihood: -1.1156663\n",
      "Avg. Likelihood: -1.1113467\n",
      "Avg. Likelihood: -1.1080122\n",
      "Avg. Likelihood: -1.1053607\n",
      "Avg. Likelihood: -1.1032022\n",
      "Avg. Likelihood: -1.1014113\n",
      "Avg. Likelihood: -1.0999012\n",
      "Avg. Likelihood: -1.098611\n",
      "Avg. Likelihood: -1.0974958\n",
      "Avg. Likelihood: -1.0965226\n",
      "Avg. Likelihood: -1.0956655\n",
      "Avg. Likelihood: -1.0949051\n",
      "Avg. Likelihood: -1.094226\n",
      "Avg. Likelihood: -1.0936158\n"
     ]
    }
   ],
   "source": [
    "num_epochs = 20\n",
    "\n",
    "with tf.Session() as sess:\n",
    "    sess.run(tf.global_variables_initializer())\n",
    "    likelihoods = []\n",
    "    \n",
    "    for epoch in range(num_epochs):\n",
    "        likelihood, _ = sess.run(\n",
    "            [llh_op, update_op], \n",
    "            feed_dict={indicator_leaves: indicator_x_data, indicator_y: indicator_y_data}\n",
    "        )\n",
    "        likelihoods.append(likelihood)\n",
    "        \n",
    "        print(\"Avg. Likelihood: %s\" % (likelihood,))"
   ]
  },
  {
   "cell_type": "code",
   "execution_count": 7,
   "metadata": {},
   "outputs": [
    {
     "data": {
      "image/png": "[encoded data removed]",
      "text/plain": [
       "<Figure size 432x288 with 1 Axes>"
      ]
     },
     "metadata": {},
     "output_type": "display_data"
    }
   ],
   "source": [
    "%matplotlib inline\n",
    "import matplotlib.pyplot as plt\n",
    "plt.style.use('ggplot')\n",
    "plt.plot(likelihoods)\n",
    "plt.show()"
   ]
  }
 ],
 "metadata": {
  "kernelspec": {
   "display_name": "Python 3",
   "language": "python",
   "name": "python3"
  },
  "language_info": {
   "codemirror_mode": {
    "name": "ipython",
    "version": 3
   },
   "file_extension": ".py",
   "mimetype": "text/x-python",
   "name": "python",
   "nbconvert_exporter": "python",
   "pygments_lexer": "ipython3",
   "version": "3.5.2"
  }
 },
 "nbformat": 4,
 "nbformat_minor": 2
}
