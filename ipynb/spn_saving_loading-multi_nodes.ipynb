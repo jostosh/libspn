{
 "cells": [
  {
   "cell_type": "code",
   "execution_count": null,
   "metadata": {
    "collapsed": true
   },
   "outputs": [],
   "source": [
    "import libspn as spn\n",
    "import tensorflow as tf"
   ]
  },
  {
   "cell_type": "markdown",
   "metadata": {},
   "source": [
    "# Generate Dense SPN with Random Weights"
   ]
  },
  {
   "cell_type": "code",
   "execution_count": null,
   "metadata": {},
   "outputs": [],
   "source": [
    "iv=spn.IVs(num_vars=3, num_vals=2)\n",
    "gen=spn.DenseSPNGeneratorMultiNodes(num_decomps=1, num_subsets=3, num_mixtures=2)\n",
    "root=gen.generate(iv, root_name=\"root\")\n",
    "spn.generate_weights(root, init_value=spn.ValueType.RANDOM_UNIFORM())"
   ]
  },
  {
   "cell_type": "code",
   "execution_count": null,
   "metadata": {},
   "outputs": [],
   "source": [
    "spn.display_spn_graph(root, skip_params=False)"
   ]
  },
  {
   "cell_type": "markdown",
   "metadata": {},
   "source": [
    "# Save With Uninitialized Weights"
   ]
  },
  {
   "cell_type": "code",
   "execution_count": null,
   "metadata": {},
   "outputs": [],
   "source": [
    "spn.JSONSaver('saved_models/test_uninit.spn', pretty=True).save(root)"
   ]
  },
  {
   "cell_type": "markdown",
   "metadata": {},
   "source": [
    "# Initialize and Save With Initialized Weights"
   ]
  },
  {
   "cell_type": "code",
   "execution_count": null,
   "metadata": {},
   "outputs": [],
   "source": [
    "init=spn.initialize_weights(root)\n",
    "value = root.get_value()\n",
    "with tf.Session() as sess:\n",
    "    sess.run(init)\n",
    "    first_value = sess.run(value, feed_dict={iv: [[-1, -1, -1],\n",
    "                                                  [0,0,0],\n",
    "                                                  [1,1,1]]})\n",
    "    print(first_value)\n",
    "    spn.JSONSaver('saved_models/test_init.spn').save(root)"
   ]
  },
  {
   "cell_type": "markdown",
   "metadata": {},
   "source": [
    "# Load and Run the SPN With Uninitialzed Weights"
   ]
  },
  {
   "cell_type": "code",
   "execution_count": null,
   "metadata": {},
   "outputs": [],
   "source": [
    "loader=spn.JSONLoader('saved_models/test_uninit.spn')\n",
    "root=loader.load()\n",
    "print(root)"
   ]
  },
  {
   "cell_type": "code",
   "execution_count": null,
   "metadata": {},
   "outputs": [],
   "source": [
    "spn.display_spn_graph(root, skip_params=False)"
   ]
  },
  {
   "cell_type": "code",
   "execution_count": null,
   "metadata": {},
   "outputs": [],
   "source": [
    "init=spn.initialize_weights(root)\n",
    "value = root.get_value()\n",
    "iv = loader.find_node(\"IVs\")\n",
    "with tf.Session() as sess:\n",
    "    sess.run(init)\n",
    "    second_value = sess.run(value, feed_dict={iv: [[-1, -1, -1],\n",
    "                                                  [0,0,0],\n",
    "                                                  [1,1,1]]})\n",
    "    print(first_value)\n",
    "    print(second_value)"
   ]
  },
  {
   "cell_type": "markdown",
   "metadata": {},
   "source": [
    "We see that the weights of the loaded SPN were initialized after loading to random uniform distribution, since they were not initialized before saving! Therefore, second_value differs from first_value."
   ]
  },
  {
   "cell_type": "markdown",
   "metadata": {},
   "source": [
    "# Load and Run the SPN With Initialzed Weights"
   ]
  },
  {
   "cell_type": "code",
   "execution_count": null,
   "metadata": {},
   "outputs": [],
   "source": [
    "loader=spn.JSONLoader('saved_models/test_init.spn')\n",
    "root=loader.load()\n",
    "print(root)"
   ]
  },
  {
   "cell_type": "code",
   "execution_count": null,
   "metadata": {},
   "outputs": [],
   "source": [
    "spn.display_spn_graph(root, skip_params=False)"
   ]
  },
  {
   "cell_type": "code",
   "execution_count": null,
   "metadata": {},
   "outputs": [],
   "source": [
    "init=spn.initialize_weights(root)\n",
    "value = root.get_value()\n",
    "iv = loader.find_node(\"IVs\")\n",
    "with tf.Session() as sess:\n",
    "    sess.run(init)\n",
    "    third_value = sess.run(value, feed_dict={iv: [[-1, -1, -1],\n",
    "                                                  [0,0,0],\n",
    "                                                  [1,1,1]]})\n",
    "    print(first_value)\n",
    "    print(third_value)"
   ]
  },
  {
   "cell_type": "markdown",
   "metadata": {},
   "source": [
    "We see that now the variables are initialized to the values to which they were initialized before. Therefore, we get the same result."
   ]
  }
 ],
 "metadata": {
  "kernelspec": {
   "display_name": "Python 3",
   "language": "python",
   "name": "python3"
  },
  "language_info": {
   "codemirror_mode": {
    "name": "ipython",
    "version": 3
   },
   "file_extension": ".py",
   "mimetype": "text/x-python",
   "name": "python",
   "nbconvert_exporter": "python",
   "pygments_lexer": "ipython3",
   "version": "3.5.2"
  }
 },
 "nbformat": 4,
 "nbformat_minor": 1
}
