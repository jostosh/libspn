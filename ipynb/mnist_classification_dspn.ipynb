{
 "cells": [
  {
   "cell_type": "code",
   "execution_count": 1,
   "metadata": {
    "collapsed": true
   },
   "outputs": [],
   "source": [
    "import libspn as spn\n",
    "import tensorflow as tf\n",
    "import numpy as np\n",
    "import matplotlib.pyplot as plt\n",
    "import scipy as scp"
   ]
  },
  {
   "cell_type": "markdown",
   "metadata": {},
   "source": [
    "# Params"
   ]
  },
  {
   "cell_type": "markdown",
   "metadata": {},
   "source": [
    "### Structure"
   ]
  },
  {
   "cell_type": "code",
   "execution_count": 2,
   "metadata": {
    "collapsed": true
   },
   "outputs": [],
   "source": [
    "# Type of input distributions for dense generator\n",
    "input_dist = spn.DenseSPNGenerator.InputDist.RAW\n",
    "\n",
    "num_decomps=3\n",
    "num_subsets=5\n",
    "num_mixtures=2\n",
    "\n",
    "# Number of input mixtures for dense generator\n",
    "num_input_mixtures = 3"
   ]
  },
  {
   "cell_type": "markdown",
   "metadata": {},
   "source": [
    "### Learning"
   ]
  },
  {
   "cell_type": "code",
   "execution_count": 3,
   "metadata": {
    "collapsed": true
   },
   "outputs": [],
   "source": [
    "# Additive smoothing during learning\n",
    "additive_smoothing=10\n",
    "min_additive_smoothing=1\n",
    "smoothing_decay=0.2\n",
    "\n",
    "# Weight initialization\n",
    "# weight_init_value = 1\n",
    "weight_init_value = spn.ValueType.RANDOM_UNIFORM(1, 2)\n",
    "\n",
    "# Type of inference during upward pass of learning\n",
    "value_inference_type = spn.InferenceType.MARGINAL"
   ]
  },
  {
   "cell_type": "markdown",
   "metadata": {},
   "source": [
    "# Training Set"
   ]
  },
  {
   "cell_type": "code",
   "execution_count": 4,
   "metadata": {
    "collapsed": false
   },
   "outputs": [
    {
     "name": "stdout",
     "output_type": "stream",
     "text": [
      "Extracting /home/jos/spn/data/mnist/train-images-idx3-ubyte.gz\n",
      "Extracting /home/jos/spn/data/mnist/train-labels-idx1-ubyte.gz\n",
      "Extracting /home/jos/spn/data/mnist/t10k-images-idx3-ubyte.gz\n",
      "Extracting /home/jos/spn/data/mnist/t10k-labels-idx1-ubyte.gz\n"
     ]
    }
   ],
   "source": [
    "datasets = tf.contrib.learn.datasets.mnist.read_data_sets(\"/home/jos/spn/data/mnist\")"
   ]
  },
  {
   "cell_type": "code",
   "execution_count": 5,
   "metadata": {
    "collapsed": true
   },
   "outputs": [],
   "source": [
    "def show_mnist(img):\n",
    "    img=np.reshape(img, (14,14))\n",
    "    plt.imshow(img, interpolation='none')\n",
    "    plt.show()"
   ]
  },
  {
   "cell_type": "markdown",
   "metadata": {},
   "source": [
    "### Process data"
   ]
  },
  {
   "cell_type": "code",
   "execution_count": 6,
   "metadata": {
    "collapsed": true
   },
   "outputs": [],
   "source": [
    "def process_set(data):\n",
    "    threshold = 20\n",
    "    images = np.reshape(data, (-1, 28,28))\n",
    "    resized=[]\n",
    "    for i in range(images.shape[0]):\n",
    "        resized.append((scp.misc.imresize(images[i, :, :], 0.5, interp='nearest') > threshold).astype(dtype=int))\n",
    "    images=np.stack(resized)\n",
    "    return images"
   ]
  },
  {
   "cell_type": "code",
   "execution_count": 7,
   "metadata": {
    "collapsed": false
   },
   "outputs": [
    {
     "name": "stderr",
     "output_type": "stream",
     "text": [
      "/home/jos/.local/lib/python3.5/site-packages/ipykernel/__main__.py:6: DeprecationWarning: `imresize` is deprecated!\n",
      "`imresize` is deprecated in SciPy 1.0.0, and will be removed in 1.2.0.\n",
      "Use ``skimage.transform.resize`` instead.\n"
     ]
    }
   ],
   "source": [
    "train_images = process_set(datasets.train.images)\n",
    "test_images = process_set(datasets.test.images)\n",
    "train_labels = datasets.train.labels\n",
    "test_labels = datasets.test.labels\n",
    "validation_labels = datasets.validation.labels"
   ]
  },
  {
   "cell_type": "code",
   "execution_count": 8,
   "metadata": {
    "collapsed": false
   },
   "outputs": [
    {
     "data": {
      "image/png": "[encoded data removed]",
      "text/plain": [
       "<matplotlib.figure.Figure at 0x7f19c06f0978>"
      ]
     },
     "metadata": {},
     "output_type": "display_data"
    }
   ],
   "source": [
    "show_mnist(train_images[19])"
   ]
  },
  {
   "cell_type": "code",
   "execution_count": 9,
   "metadata": {
    "collapsed": true
   },
   "outputs": [],
   "source": [
    "train_images_0 = train_images[train_labels==0]\n",
    "train_images_1 = train_images[train_labels==1]\n",
    "test_images_0 = test_images[test_labels==0]\n",
    "test_images_1 = test_images[test_labels==1]"
   ]
  },
  {
   "cell_type": "code",
   "execution_count": 10,
   "metadata": {
    "collapsed": false
   },
   "outputs": [
    {
     "name": "stdout",
     "output_type": "stream",
     "text": [
      "(5444, 14, 14)\n"
     ]
    },
    {
     "data": {
      "image/png": "[encoded data removed]",
      "text/plain": [
       "<matplotlib.figure.Figure at 0x7f19c0721828>"
      ]
     },
     "metadata": {},
     "output_type": "display_data"
    },
    {
     "name": "stdout",
     "output_type": "stream",
     "text": [
      "(6179, 14, 14)\n"
     ]
    },
    {
     "data": {
      "image/png": "[encoded data removed]",
      "text/plain": [
       "<matplotlib.figure.Figure at 0x7f19c06c66d8>"
      ]
     },
     "metadata": {},
     "output_type": "display_data"
    },
    {
     "name": "stdout",
     "output_type": "stream",
     "text": [
      "(980, 14, 14)\n"
     ]
    },
    {
     "data": {
      "image/png": "[encoded data removed]",
      "text/plain": [
       "<matplotlib.figure.Figure at 0x7f19c06877f0>"
      ]
     },
     "metadata": {},
     "output_type": "display_data"
    },
    {
     "name": "stdout",
     "output_type": "stream",
     "text": [
      "(1135, 14, 14)\n"
     ]
    },
    {
     "data": {
      "image/png": "[encoded data removed]",
      "text/plain": [
       "<matplotlib.figure.Figure at 0x7f19c06d1518>"
      ]
     },
     "metadata": {},
     "output_type": "display_data"
    }
   ],
   "source": [
    "print(train_images_0.shape)\n",
    "show_mnist(train_images_0[334])\n",
    "print(train_images_1.shape)\n",
    "show_mnist(train_images_1[22])\n",
    "print(test_images_0.shape)\n",
    "show_mnist(test_images_0[334])\n",
    "print(test_images_1.shape)\n",
    "show_mnist(test_images_1[22])"
   ]
  },
  {
   "cell_type": "markdown",
   "metadata": {},
   "source": [
    "# Generate SPN structure"
   ]
  },
  {
   "cell_type": "code",
   "execution_count": 13,
   "metadata": {},
   "outputs": [],
   "source": [
    "%reload_ext libspn"
   ]
  },
  {
   "cell_type": "code",
   "execution_count": 11,
   "metadata": {
    "collapsed": false
   },
   "outputs": [
    {
     "name": "stdout",
     "output_type": "stream",
     "text": [
      "853\n"
     ]
    }
   ],
   "source": [
    "ivs = spn.DynamicIVs(num_vars=14, num_vals=2, max_steps=14)\n",
    "dense_gen = spn.DenseSPNGenerator(num_decomps=num_decomps, num_subsets=num_subsets, num_mixtures=num_mixtures, \n",
    "                                  input_dist=input_dist, \n",
    "                                  num_input_mixtures=num_input_mixtures)\n",
    "\n",
    "dense0 = dense_gen.generate(ivs)\n",
    "interface0 = spn.DynamicInterface(name=\"interface0\", interface_head=True)\n",
    "prod0 = spn.Product(dense0, interface0, name=\"Prod0\")\n",
    "interface0.set_source(prod0)\n",
    "\n",
    "dense1 = dense_gen.generate(ivs)\n",
    "interface1 = spn.DynamicInterface(name=\"interface1\")\n",
    "prod1 = spn.Product(dense1, interface1, name=\"Prod0\", interface_head=True)\n",
    "interface1.set_source(prod1)\n",
    "\n",
    "root = spn.Sum(prod0, prod1)\n",
    "\n",
    "spn.generate_weights(root, init_value=weight_init_value)\n",
    "latent = root.generate_ivs()\n",
    "print(root.get_num_nodes())"
   ]
  },
  {
   "cell_type": "code",
   "execution_count": 12,
   "metadata": {},
   "outputs": [],
   "source": [
    "step_iv_feed = np.arange(14).reshape((14, 1, 1))"
   ]
  },
  {
   "cell_type": "code",
   "execution_count": 13,
   "metadata": {},
   "outputs": [
    {
     "name": "stdout",
     "output_type": "stream",
     "text": [
      "WARNING:tensorflow:From /home/jos/spn/libspn/libspn/graph/product.py:133: calling reduce_prod (from tensorflow.python.ops.math_ops) with keep_dims is deprecated and will be removed in a future version.\n",
      "Instructions for updating:\n",
      "keep_dims is deprecated, use keepdims instead\n"
     ]
    },
    {
     "name": "stderr",
     "output_type": "stream",
     "text": [
      "[WARNING] [tensorflow:warning] From /home/jos/spn/libspn/libspn/graph/product.py:133: calling reduce_prod (from tensorflow.python.ops.math_ops) with keep_dims is deprecated and will be removed in a future version.\n",
      "Instructions for updating:\n",
      "keep_dims is deprecated, use keepdims instead\n"
     ]
    }
   ],
   "source": [
    "val, val_per_step = spn.DynamicValue(value_inference_type).get_value(root, return_sequence=True)"
   ]
  },
  {
   "cell_type": "code",
   "execution_count": 17,
   "metadata": {},
   "outputs": [],
   "source": [
    "init_weights = spn.initialize_weights(root)\n"
   ]
  },
  {
   "cell_type": "code",
   "execution_count": 19,
   "metadata": {},
   "outputs": [
    {
     "name": "stdout",
     "output_type": "stream",
     "text": [
      "WARNING:tensorflow:From /home/jos/spn/libspn/libspn/graph/product.py:137: calling reduce_sum (from tensorflow.python.ops.math_ops) with keep_dims is deprecated and will be removed in a future version.\n",
      "Instructions for updating:\n",
      "keep_dims is deprecated, use keepdims instead\n"
     ]
    },
    {
     "name": "stderr",
     "output_type": "stream",
     "text": [
      "[WARNING] [tensorflow:warning] From /home/jos/spn/libspn/libspn/graph/product.py:137: calling reduce_sum (from tensorflow.python.ops.math_ops) with keep_dims is deprecated and will be removed in a future version.\n",
      "Instructions for updating:\n",
      "keep_dims is deprecated, use keepdims instead\n"
     ]
    },
    {
     "name": "stdout",
     "output_type": "stream",
     "text": [
      "WARNING:tensorflow:From /home/jos/spn/libspn/libspn/utils/math.py:277: calling reduce_max (from tensorflow.python.ops.math_ops) with keep_dims is deprecated and will be removed in a future version.\n",
      "Instructions for updating:\n",
      "keep_dims is deprecated, use keepdims instead\n"
     ]
    },
    {
     "name": "stderr",
     "output_type": "stream",
     "text": [
      "[WARNING] [tensorflow:warning] From /home/jos/spn/libspn/libspn/utils/math.py:277: calling reduce_max (from tensorflow.python.ops.math_ops) with keep_dims is deprecated and will be removed in a future version.\n",
      "Instructions for updating:\n",
      "keep_dims is deprecated, use keepdims instead\n"
     ]
    }
   ],
   "source": [
    "logval, logval_per_step = spn.DynamicLogValue(value_inference_type).get_value(root, return_sequence=True)"
   ]
  },
  {
   "cell_type": "code",
   "execution_count": null,
   "metadata": {},
   "outputs": [],
   "source": []
  },
  {
   "cell_type": "markdown",
   "metadata": {},
   "source": [
    "# Add Learning Ops"
   ]
  },
  {
   "cell_type": "code",
   "execution_count": 14,
   "metadata": {
    "collapsed": false
   },
   "outputs": [
    {
     "name": "stdout",
     "output_type": "stream",
     "text": [
      "WARNING:tensorflow:From /home/jos/spn/libspn/libspn/graph/product.py:137: calling reduce_sum (from tensorflow.python.ops.math_ops) with keep_dims is deprecated and will be removed in a future version.\n",
      "Instructions for updating:\n",
      "keep_dims is deprecated, use keepdims instead\n"
     ]
    },
    {
     "name": "stderr",
     "output_type": "stream",
     "text": [
      "[WARNING] [tensorflow:warning] From /home/jos/spn/libspn/libspn/graph/product.py:137: calling reduce_sum (from tensorflow.python.ops.math_ops) with keep_dims is deprecated and will be removed in a future version.\n",
      "Instructions for updating:\n",
      "keep_dims is deprecated, use keepdims instead\n"
     ]
    },
    {
     "name": "stdout",
     "output_type": "stream",
     "text": [
      "WARNING:tensorflow:From /home/jos/spn/libspn/libspn/utils/math.py:277: calling reduce_max (from tensorflow.python.ops.math_ops) with keep_dims is deprecated and will be removed in a future version.\n",
      "Instructions for updating:\n",
      "keep_dims is deprecated, use keepdims instead\n"
     ]
    },
    {
     "name": "stderr",
     "output_type": "stream",
     "text": [
      "[WARNING] [tensorflow:warning] From /home/jos/spn/libspn/libspn/utils/math.py:277: calling reduce_max (from tensorflow.python.ops.math_ops) with keep_dims is deprecated and will be removed in a future version.\n",
      "Instructions for updating:\n",
      "keep_dims is deprecated, use keepdims instead\n"
     ]
    },
    {
     "name": "stdout",
     "output_type": "stream",
     "text": [
      "WARNING:tensorflow:From /home/jos/spn/libspn/libspn/graph/sum.py:299: calling argmax (from tensorflow.python.ops.math_ops) with dimension is deprecated and will be removed in a future version.\n",
      "Instructions for updating:\n",
      "Use the `axis` argument instead\n"
     ]
    },
    {
     "name": "stderr",
     "output_type": "stream",
     "text": [
      "[WARNING] [tensorflow:warning] From /home/jos/spn/libspn/libspn/graph/sum.py:299: calling argmax (from tensorflow.python.ops.math_ops) with dimension is deprecated and will be removed in a future version.\n",
      "Instructions for updating:\n",
      "Use the `axis` argument instead\n"
     ]
    }
   ],
   "source": [
    "additive_smoothing_var = tf.Variable(additive_smoothing, dtype=spn.conf.dtype)\n",
    "learning = spn.EMLearning(root, log=True, value_inference_type = value_inference_type,\n",
    "                          additive_smoothing=additive_smoothing_var)\n",
    "init_weights = spn.initialize_weights(root)\n",
    "reset_accumulators = learning.reset_accumulators()\n",
    "accumulate_updates = learning.accumulate_updates()\n",
    "update_spn = learning.update_spn()\n",
    "train_likelihood = learning.value.values[root].read(13)\n",
    "avg_train_likelihood = tf.reduce_mean(train_likelihood)"
   ]
  },
  {
   "cell_type": "markdown",
   "metadata": {},
   "source": [
    "# Run Training"
   ]
  },
  {
   "cell_type": "code",
   "execution_count": 15,
   "metadata": {
    "collapsed": false
   },
   "outputs": [],
   "source": [
    "sess=None"
   ]
  },
  {
   "cell_type": "code",
   "execution_count": 16,
   "metadata": {
    "collapsed": false
   },
   "outputs": [
    {
     "name": "stdout",
     "output_type": "stream",
     "text": [
      "EPOCH 0 BATCH 0 SAMPLES 0 14\n",
      "Smoothing:  10.0\n",
      "Avg likelihood (this batch data on previous weights): -173.27638\n",
      "Avg likelihood: -173.27638244628906\n",
      "EPOCH 1 BATCH 0 SAMPLES 0 14\n",
      "Smoothing:  8.187307\n",
      "Avg likelihood (this batch data on previous weights): -147.88576\n",
      "Avg likelihood: -147.88575744628906\n",
      "EPOCH 2 BATCH 0 SAMPLES 0 14\n",
      "Smoothing:  6.7032003\n",
      "Avg likelihood (this batch data on previous weights): -141.27069\n",
      "Avg likelihood: -141.27069091796875\n",
      "EPOCH 3 BATCH 0 SAMPLES 0 14\n",
      "Smoothing:  5.4881163\n",
      "Avg likelihood (this batch data on previous weights): -136.71483\n",
      "Avg likelihood: -136.71482849121094\n",
      "EPOCH 4 BATCH 0 SAMPLES 0 14\n",
      "Smoothing:  4.4932895\n",
      "Avg likelihood (this batch data on previous weights): -132.74644\n",
      "Avg likelihood: -132.74644470214844\n",
      "EPOCH 5 BATCH 0 SAMPLES 0 14\n",
      "Smoothing:  3.6787944\n",
      "Avg likelihood (this batch data on previous weights): -129.20078\n",
      "Avg likelihood: -129.20077514648438\n",
      "EPOCH 6 BATCH 0 SAMPLES 0 14\n",
      "Smoothing:  3.0119421\n",
      "Avg likelihood (this batch data on previous weights): -125.82253\n",
      "Avg likelihood: -125.8225326538086\n",
      "EPOCH 7 BATCH 0 SAMPLES 0 14\n",
      "Smoothing:  2.4659696\n",
      "Avg likelihood (this batch data on previous weights): -122.55383\n",
      "Avg likelihood: -122.5538330078125\n",
      "EPOCH 8 BATCH 0 SAMPLES 0 14\n",
      "Smoothing:  2.0189652\n",
      "Avg likelihood (this batch data on previous weights): -119.4649\n",
      "Avg likelihood: -119.46489715576172\n",
      "EPOCH 9 BATCH 0 SAMPLES 0 14\n",
      "Smoothing:  1.6529889\n",
      "Avg likelihood (this batch data on previous weights): -116.58154\n",
      "Avg likelihood: -116.58154296875\n",
      "EPOCH 10 BATCH 0 SAMPLES 0 14\n",
      "Smoothing:  1.3533528\n",
      "Avg likelihood (this batch data on previous weights): -113.92232\n",
      "Avg likelihood: -113.92231750488281\n",
      "EPOCH 11 BATCH 0 SAMPLES 0 14\n",
      "Smoothing:  1.1080316\n",
      "Avg likelihood (this batch data on previous weights): -111.49839\n",
      "Avg likelihood: -111.4983901977539\n",
      "EPOCH 12 BATCH 0 SAMPLES 0 14\n",
      "Smoothing:  1.0\n",
      "Avg likelihood (this batch data on previous weights): -109.31367\n",
      "Avg likelihood: -109.31366729736328\n",
      "EPOCH 13 BATCH 0 SAMPLES 0 14\n",
      "Smoothing:  1.0\n",
      "Avg likelihood (this batch data on previous weights): -108.28522\n",
      "Avg likelihood: -108.28521728515625\n",
      "EPOCH 14 BATCH 0 SAMPLES 0 14\n",
      "Smoothing:  1.0\n",
      "Avg likelihood (this batch data on previous weights): -108.28522\n",
      "Avg likelihood: -108.28521728515625\n"
     ]
    }
   ],
   "source": [
    "train_set = np.concatenate([train_images_0, train_images_1], 0)\n",
    "train_set = np.transpose(train_set, (1, 0, 2))\n",
    "train_labels = np.concatenate([np.ones((train_images_0.shape[0]))*0, \n",
    "                               np.ones((train_images_1.shape[0]))*1])\n",
    "train_labels=np.reshape(train_labels, (-1, 1))\n",
    "\n",
    "train_step_iv_feed = np.tile(step_iv_feed, (1, train_set.shape[1], 1))\n",
    "\n",
    "if sess is not None:\n",
    "    sess.close()\n",
    "sess = tf.Session()\n",
    "\n",
    "sess.run(init_weights)\n",
    "sess.run(reset_accumulators)\n",
    "\n",
    "num_batches=1\n",
    "batch_size = train_set.shape[0] // num_batches\n",
    "prev_likelihood = 100\n",
    "likelihood = 0\n",
    "epoch = 0\n",
    "while abs(prev_likelihood - likelihood)>0.025:\n",
    "    prev_likelihood=likelihood\n",
    "    likelihoods = []\n",
    "    for batch in range(num_batches):\n",
    "        start = (batch)*batch_size\n",
    "        stop = (batch+1)*batch_size\n",
    "        print(\"EPOCH\", epoch, \"BATCH\", batch, \"SAMPLES\", start, stop)\n",
    "        # Adjust smoothing\n",
    "        ads=max(np.exp(-epoch*smoothing_decay)*additive_smoothing, min_additive_smoothing)\n",
    "        sess.run(additive_smoothing_var.assign(ads))\n",
    "        print(\"Smoothing: \", sess.run(additive_smoothing_var)) \n",
    "        # Run accumulate_updates\n",
    "        train_likelihoods_arr, avg_train_likelihood_val, _, = \\\n",
    "                sess.run([train_likelihood, avg_train_likelihood, accumulate_updates],\n",
    "                        feed_dict={ivs: train_set[:, start:stop],\n",
    "                                   latent: train_labels[start:stop],\n",
    "                                   step_iv: train_step_iv_feed[:, start:stop]})\n",
    "        # Print avg likelihood of this batch data on previous batch weights\n",
    "        print(\"Avg likelihood (this batch data on previous weights): %s\" % (avg_train_likelihood_val))\n",
    "        likelihoods.append(avg_train_likelihood_val)\n",
    "        # Update weights\n",
    "        sess.run(update_spn)\n",
    "    likelihood = sum(likelihoods) / len(likelihoods)\n",
    "    print(\"Avg likelihood: %s\" % (likelihood))\n",
    "    epoch+=1\n",
    "    sess.run(reset_accumulators)\n",
    "    \n",
    "\n",
    "# print(sess.run(val, feed_dict={ivs: -np.ones((14, 1, 14)), latent: [[-1]]}))\n",
    "# print(sess.run(logval, feed_dict={ivs: -np.ones((14, 1, 14)), latent: [[-1]]}))"
   ]
  },
  {
   "cell_type": "code",
   "execution_count": null,
   "metadata": {},
   "outputs": [],
   "source": [
    "%reload_ext libspn"
   ]
  },
  {
   "cell_type": "code",
   "execution_count": null,
   "metadata": {},
   "outputs": [],
   "source": [
    "%load_ext autoreload\n",
    "\n",
    "%autoreload 2"
   ]
  },
  {
   "cell_type": "markdown",
   "metadata": {},
   "source": [
    "# Generate Testing Ops"
   ]
  },
  {
   "cell_type": "code",
   "execution_count": 17,
   "metadata": {
    "collapsed": true
   },
   "outputs": [],
   "source": [
    "mpe_state_gen = spn.MPEState(log=True, value_inference_type=spn.InferenceType.MPE, dynamic=True)"
   ]
  },
  {
   "cell_type": "code",
   "execution_count": 18,
   "metadata": {
    "collapsed": false
   },
   "outputs": [],
   "source": [
    "mpe_ivs, mpe_latent = mpe_state_gen.get_state(root, ivs, latent)"
   ]
  },
  {
   "cell_type": "code",
   "execution_count": 35,
   "metadata": {},
   "outputs": [],
   "source": [
    "val = sess.run(mpe_state_gen._mpe_path.value.values[root].read(13), {ivs: -np.ones((14, 1, 14)), latent: [[-1]]}, step_iv: step_iv_feed)"
   ]
  },
  {
   "cell_type": "code",
   "execution_count": 36,
   "metadata": {},
   "outputs": [
    {
     "name": "stdout",
     "output_type": "stream",
     "text": [
      "[[-29.413486]]\n"
     ]
    }
   ],
   "source": [
    "print(val)"
   ]
  },
  {
   "cell_type": "markdown",
   "metadata": {},
   "source": [
    "# Run Testing"
   ]
  },
  {
   "cell_type": "markdown",
   "metadata": {},
   "source": [
    "### MPE of the whole network"
   ]
  },
  {
   "cell_type": "code",
   "execution_count": 19,
   "metadata": {
    "collapsed": false
   },
   "outputs": [
    {
     "data": {
      "image/png": "[encoded data removed]",
      "text/plain": [
       "<matplotlib.figure.Figure at 0x7f19baef5400>"
      ]
     },
     "metadata": {},
     "output_type": "display_data"
    }
   ],
   "source": [
    "mpe_ivs_val, mpe_latent_val = sess.run([mpe_ivs, mpe_latent], feed_dict={ivs: np.ones((14, 1, 14), dtype=int) * -1,\n",
    "                                                                       latent: [[-1]], step_iv: step_iv_feed})\n",
    "show_mnist(np.squeeze(mpe_ivs_val))"
   ]
  },
  {
   "cell_type": "code",
   "execution_count": 30,
   "metadata": {},
   "outputs": [
    {
     "name": "stdout",
     "output_type": "stream",
     "text": [
      "(14, 1, 14)\n"
     ]
    }
   ],
   "source": [
    "print(mpe_ivs_val.shape)"
   ]
  },
  {
   "cell_type": "markdown",
   "metadata": {},
   "source": [
    "### MPE for 0"
   ]
  },
  {
   "cell_type": "code",
   "execution_count": 20,
   "metadata": {
    "collapsed": false
   },
   "outputs": [
    {
     "data": {
      "image/png": "[encoded data removed]",
      "text/plain": [
       "<matplotlib.figure.Figure at 0x7f1921c2ad68>"
      ]
     },
     "metadata": {},
     "output_type": "display_data"
    }
   ],
   "source": [
    "mpe_ivs_val, mpe_latent_val = sess.run([mpe_ivs, mpe_latent], feed_dict={ivs: np.ones((14, 1, 14), dtype=int) * -1,\n",
    "                                                                       latent: [[0]], step_iv: step_iv_feed})\n",
    "show_mnist(mpe_ivs_val)"
   ]
  },
  {
   "cell_type": "markdown",
   "metadata": {},
   "source": [
    "### MPE for 1"
   ]
  },
  {
   "cell_type": "code",
   "execution_count": 21,
   "metadata": {
    "collapsed": false
   },
   "outputs": [
    {
     "data": {
      "image/png": "[encoded data removed]",
      "text/plain": [
       "<matplotlib.figure.Figure at 0x7f1921c2aeb8>"
      ]
     },
     "metadata": {},
     "output_type": "display_data"
    }
   ],
   "source": [
    "mpe_ivs_val, mpe_latent_val = sess.run([mpe_ivs, mpe_latent], feed_dict={ivs: np.ones((14, 1, 14), dtype=int) * -1,\n",
    "                                                                       latent: [[1]], step_iv: step_iv_feed})\n",
    "show_mnist(mpe_ivs_val)"
   ]
  },
  {
   "cell_type": "code",
   "execution_count": 28,
   "metadata": {},
   "outputs": [
    {
     "name": "stdout",
     "output_type": "stream",
     "text": [
      "[0. 1.]\n",
      "[[[0]]\n",
      "\n",
      " [[0]]\n",
      "\n",
      " [[0]]\n",
      "\n",
      " [[0]]\n",
      "\n",
      " [[0]]\n",
      "\n",
      " [[0]]\n",
      "\n",
      " [[0]]\n",
      "\n",
      " [[0]]\n",
      "\n",
      " [[0]]\n",
      "\n",
      " [[0]]\n",
      "\n",
      " [[0]]\n",
      "\n",
      " [[0]]\n",
      "\n",
      " [[0]]\n",
      "\n",
      " [[1]]]\n"
     ]
    }
   ],
   "source": [
    "print(np.unique(train_labels))\n",
    "print(mpe_latent_val)"
   ]
  },
  {
   "cell_type": "markdown",
   "metadata": {},
   "source": [
    "### Classification of Training Data"
   ]
  },
  {
   "cell_type": "code",
   "execution_count": 29,
   "metadata": {
    "collapsed": false
   },
   "outputs": [
    {
     "data": {
      "text/plain": [
       "0.46838165705927903"
      ]
     },
     "execution_count": 29,
     "metadata": {},
     "output_type": "execute_result"
    }
   ],
   "source": [
    "mpe_latent_val = sess.run(mpe_latent, feed_dict={ivs: train_set, \n",
    "                                                   latent: np.ones((train_set.shape[1], 1))*-1, step_iv: train_step_iv_feed})\n",
    "result=(mpe_latent_val[-1]==train_labels)\n",
    "np.sum(result) / train_labels.size"
   ]
  },
  {
   "cell_type": "code",
   "execution_count": 28,
   "metadata": {},
   "outputs": [
    {
     "name": "stdout",
     "output_type": "stream",
     "text": [
      "(14, 11623, 1)\n",
      "(11623, 1)\n"
     ]
    }
   ],
   "source": [
    "print(mpe_latent_val.shape)\n",
    "print(train_labels.shape)"
   ]
  },
  {
   "cell_type": "markdown",
   "metadata": {},
   "source": [
    "### Classification of Test Data"
   ]
  },
  {
   "cell_type": "code",
   "execution_count": null,
   "metadata": {
    "collapsed": true
   },
   "outputs": [],
   "source": [
    "test_set = np.concatenate([test_images_0, test_images_1], 0)\n",
    "test_labels = np.concatenate([np.ones((test_images_0.shape[0]))*0, \n",
    "                               np.ones((test_images_1.shape[0]))*1])\n",
    "test_labels=np.reshape(test_labels, (-1, 1))"
   ]
  },
  {
   "cell_type": "code",
   "execution_count": null,
   "metadata": {
    "collapsed": false
   },
   "outputs": [],
   "source": [
    "mpe_latent_val = sess.run([mpe_latent], feed_dict={ivs: test_set, \n",
    "                                                   latent: np.ones((test_set.shape[0], 1))*-1})\n",
    "result=(mpe_latent_val==test_labels)\n",
    "np.sum(result) / test_labels.size"
   ]
  },
  {
   "cell_type": "code",
   "execution_count": null,
   "metadata": {
    "collapsed": true
   },
   "outputs": [],
   "source": []
  }
 ],
 "metadata": {
  "kernelspec": {
   "display_name": "Python 3",
   "language": "python",
   "name": "python3"
  },
  "language_info": {
   "codemirror_mode": {
    "name": "ipython",
    "version": 3
   },
   "file_extension": ".py",
   "mimetype": "text/x-python",
   "name": "python",
   "nbconvert_exporter": "python",
   "pygments_lexer": "ipython3",
   "version": "3.5.2"
  }
 },
 "nbformat": 4,
 "nbformat_minor": 2
}
