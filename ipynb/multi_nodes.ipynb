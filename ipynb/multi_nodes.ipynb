{
 "cells": [
  {
   "cell_type": "code",
   "execution_count": null,
   "metadata": {
    "collapsed": true
   },
   "outputs": [],
   "source": [
    "import libspn as spn\n",
    "import tensorflow as tf\n",
    "import numpy as np\n",
    "sess = tf.InteractiveSession()"
   ]
  },
  {
   "cell_type": "markdown",
   "metadata": {},
   "source": [
    "# Build a custom SPN utilizing all Op node types"
   ]
  },
  {
   "cell_type": "code",
   "execution_count": null,
   "metadata": {},
   "outputs": [],
   "source": [
    "# Inputs\n",
    "iv_1 = spn.IVs(num_vars=2, num_vals=2, name=\"IVs_1\")\n",
    "iv_2 = spn.IVs(num_vars=2, num_vals=2, name=\"IVs_2\")\n",
    "\n",
    "# DECOMPOSITION 1\n",
    "# Layer 1\n",
    "parsums1_1_1 = spn.ParSums((iv_1, [0, 1]), num_sums=2, name=\"Sums1.1/ParSums1\")\n",
    "sums1_2_1 = spn.Sums((iv_1, [2, 3]), (iv_1, [2, 3]), num_sums=2, name=\"Sums1.2/Sums1\")\n",
    "# Layer 2\n",
    "permprods1 = spn.PermProducts(parsums1_1_1, sums1_2_1, name=\"Products1/PermProducts1\")\n",
    "# Layer 3\n",
    "parsums3_1_1 = spn.ParSums(permprods1, num_sums=2, name=\"Sums3.1/ParSums1\")\n",
    "sum3_1_2 = spn.Sum(permprods1, name=\"Sums3.1/Sum2\")\n",
    "\n",
    "# DECOMPOSITION 2\n",
    "# Layer 1\n",
    "sum2_1_1 = spn.Sum((iv_2, [0, 1]), name=\"Sums2.1/Sum1\")\n",
    "parsums2_1_2 = spn.ParSums((iv_2, [0, 1]), name=\"Sums2.1/ParSums2\")\n",
    "sums2_2_1 = spn.Sums((iv_2, [2, 3]), num_sums=1, name=\"Sums2.2/Sums1\")\n",
    "sum2_2_2 = spn.Sum((iv_2, [2, 3]), name=\"Sums2.2/Sum2\")\n",
    "# Layer 2\n",
    "prods2 = spn.Products(sum2_1_1, sums2_2_1,\n",
    "                   sum2_1_1, sum2_2_2,\n",
    "                   parsums2_1_2, sums2_2_1,\n",
    "                   parsums2_1_2, sum2_2_2,\n",
    "                   num_prods = 4, name=\"Products2/Products1\")\n",
    "# Layer 3\n",
    "sum3_2_1 = spn.Sum(prods2, name=\"Sums3.2/Sum1\")\n",
    "sums3_2_2 = spn.Sums(prods2, num_sums=2, name=\"Sums3.2/Sums2\")\n",
    "\n",
    "# Layer 4\n",
    "prod3_1 = spn.Product((parsums3_1_1, 0), sum3_2_1, name=\"Products3/Products1\")\n",
    "prod3_2 = spn.Product((parsums3_1_1, 0), (sums3_2_2, 0), name=\"Products3/Products2\")\n",
    "prods3_3 = spn.Products((parsums3_1_1, 0), (sums3_2_2, 1),\n",
    "                        (parsums3_1_1, 1), sum3_2_1,\n",
    "                        (parsums3_1_1, 1), (sums3_2_2, 0),\n",
    "                        (parsums3_1_1, 1), (sums3_2_2, 1),\n",
    "                        (sum3_1_2, 0), sum3_2_1,\n",
    "                        num_prods=5, name=\"Products3/Products3\")\n",
    "prods3_4 = spn.Products(sum3_1_2, (sums3_2_2, 0), name=\"Products3/Products4\")\n",
    "prod3_5 = spn.Product(sum3_1_2, (sums3_2_2, 0), name=\"Products3/Products5\")\n",
    "\n",
    "# Layer 5\n",
    "root = spn.Sum(prod3_1, prod3_2, prods3_3, prods3_4, prod3_5, name=\"root\")\n",
    "iv_y = root.generate_ivs()\n",
    "\n",
    "# Generate and initialize weights\n",
    "spn.generate_weights(root, init_value=spn.ValueType.RANDOM_UNIFORM())\n",
    "spn.initialize_weights(root).run()"
   ]
  },
  {
   "cell_type": "markdown",
   "metadata": {},
   "source": [
    "## Inspect"
   ]
  },
  {
   "cell_type": "code",
   "execution_count": null,
   "metadata": {},
   "outputs": [],
   "source": [
    "print(\"Number of nodes: \", root.get_num_nodes())\n",
    "print(\"\\nScope of root: \", root.get_scope())\n",
    "print(\"\\nNetwork valid?: \", (\"YES\" if root.is_valid() else \"NO\"))"
   ]
  },
  {
   "cell_type": "markdown",
   "metadata": {},
   "source": [
    "## Visualize SPN graph"
   ]
  },
  {
   "cell_type": "code",
   "execution_count": null,
   "metadata": {},
   "outputs": [],
   "source": [
    "spn.display_spn_graph(root, skip_params=False)"
   ]
  },
  {
   "cell_type": "markdown",
   "metadata": {},
   "source": [
    "# Save Model With Initialized Weights"
   ]
  },
  {
   "cell_type": "code",
   "execution_count": null,
   "metadata": {},
   "outputs": [],
   "source": [
    "spn.JSONSaver('saved_models/test_init.spn').save(root)"
   ]
  },
  {
   "cell_type": "markdown",
   "metadata": {},
   "source": [
    "# Marginal Value"
   ]
  },
  {
   "cell_type": "code",
   "execution_count": null,
   "metadata": {
    "collapsed": true
   },
   "outputs": [],
   "source": [
    "value = root.get_value(spn.InferenceType.MARGINAL)\n",
    "log_value = root.get_log_value(spn.InferenceType.MARGINAL)"
   ]
  },
  {
   "cell_type": "code",
   "execution_count": null,
   "metadata": {},
   "outputs": [],
   "source": [
    "# Inputs Feed\n",
    "iv_x_feed = np.random.randint(2, size=(5, 4))\n",
    "iv_y_feed = np.random.randint(9, size=(5, 1))\n",
    "\n",
    "value_array = value.eval(feed_dict={iv_1: iv_x_feed[:, 0:2], iv_2: iv_x_feed[:, 2:4], iv_y: iv_y_feed})\n",
    "value_array_log = log_value.eval(feed_dict={iv_1: iv_x_feed[:, 0:2], iv_2: iv_x_feed[:, 2:4], iv_y: iv_y_feed})\n",
    "\n",
    "print(\"Marginal Value:\\n\", value_array)\n",
    "print(\"\\nMarginal Value (log):\\n\", value_array_log)"
   ]
  },
  {
   "cell_type": "markdown",
   "metadata": {},
   "source": [
    "## Marginal Path"
   ]
  },
  {
   "cell_type": "code",
   "execution_count": null,
   "metadata": {},
   "outputs": [],
   "source": [
    "mpe_marginal_path_gen = spn.MPEPath(value_inference_type=spn.InferenceType.MARGINAL, log=False)\n",
    "mpe_marginal_path_gen.get_mpe_path(root)\n",
    "\n",
    "print(\"IV_1 Counts:\\n\", mpe_marginal_path_gen.counts[iv_1].eval(feed_dict={iv_1: iv_x_feed[:, 0:2],\n",
    "                                                                           iv_2: iv_x_feed[:, 2:4],\n",
    "                                                                           iv_y: iv_y_feed}))\n",
    "print(\"\\nIV_2 Counts:\\n\", mpe_marginal_path_gen.counts[iv_2].eval(feed_dict={iv_1: iv_x_feed[:, 0:2],\n",
    "                                                                             iv_2: iv_x_feed[:, 2:4],\n",
    "                                                                             iv_y: iv_y_feed}))"
   ]
  },
  {
   "cell_type": "markdown",
   "metadata": {},
   "source": [
    "# MPE Value"
   ]
  },
  {
   "cell_type": "code",
   "execution_count": null,
   "metadata": {
    "collapsed": true
   },
   "outputs": [],
   "source": [
    "value = root.get_value(spn.InferenceType.MPE)\n",
    "log_value = root.get_log_value(spn.InferenceType.MPE)"
   ]
  },
  {
   "cell_type": "code",
   "execution_count": null,
   "metadata": {},
   "outputs": [],
   "source": [
    "value_array = value.eval(feed_dict={iv_1: iv_x_feed[:, 0:2], iv_2: iv_x_feed[:, 2:4], iv_y: iv_y_feed})\n",
    "value_array_log = log_value.eval(feed_dict={iv_1: iv_x_feed[:, 0:2], iv_2: iv_x_feed[:, 2:4], iv_y: iv_y_feed})\n",
    "\n",
    "print(\"MPE Value:\\n\", value_array)\n",
    "print(\"\\nMPE Value (log):\\n\", value_array_log)"
   ]
  },
  {
   "cell_type": "markdown",
   "metadata": {},
   "source": [
    "## MPE Path"
   ]
  },
  {
   "cell_type": "code",
   "execution_count": null,
   "metadata": {},
   "outputs": [],
   "source": [
    "mpe_marginal_path_gen = spn.MPEPath(value_inference_type=spn.InferenceType.MPE, log=False)\n",
    "mpe_marginal_path_gen.get_mpe_path(root)\n",
    "\n",
    "print(\"IV_1 Counts:\\n\", mpe_marginal_path_gen.counts[iv_1].eval(feed_dict={iv_1: iv_x_feed[:, 0:2],\n",
    "                                                                           iv_2: iv_x_feed[:, 2:4],\n",
    "                                                                           iv_y: iv_y_feed}))\n",
    "print(\"\\nIV_2 Counts:\\n\", mpe_marginal_path_gen.counts[iv_2].eval(feed_dict={iv_1: iv_x_feed[:, 0:2],\n",
    "                                                                             iv_2: iv_x_feed[:, 2:4],\n",
    "                                                                             iv_y: iv_y_feed}))"
   ]
  },
  {
   "cell_type": "markdown",
   "metadata": {},
   "source": [
    "# Load SPN With Initialzed Weights from File"
   ]
  },
  {
   "cell_type": "code",
   "execution_count": null,
   "metadata": {},
   "outputs": [],
   "source": [
    "loader = spn.JSONLoader('saved_models/test_init.spn')\n",
    "root_1 = loader.load()"
   ]
  },
  {
   "cell_type": "markdown",
   "metadata": {},
   "source": [
    "## Inspect Loaded SPN Graph"
   ]
  },
  {
   "cell_type": "code",
   "execution_count": null,
   "metadata": {},
   "outputs": [],
   "source": [
    "print(\"Number of nodes: \", root_1.get_num_nodes())\n",
    "print(\"\\nScope of root: \", root_1.get_scope())\n",
    "print(\"\\nNetwork valid?: \", (\"YES\" if root_1.is_valid() else \"NO\"))"
   ]
  },
  {
   "cell_type": "markdown",
   "metadata": {},
   "source": [
    "## Visualize Loaded SPN graph"
   ]
  },
  {
   "cell_type": "code",
   "execution_count": null,
   "metadata": {},
   "outputs": [],
   "source": [
    "spn.display_spn_graph(root_1, skip_params=False)"
   ]
  },
  {
   "cell_type": "code",
   "execution_count": null,
   "metadata": {
    "collapsed": true
   },
   "outputs": [],
   "source": [
    "# Initialize weights\n",
    "spn.initialize_weights(root_1).run()\n",
    "\n",
    "# Find IVs nodes\n",
    "iv_1 = loader.find_node(\"IVs_1\")\n",
    "iv_2 = loader.find_node(\"IVs_2\")\n",
    "iv_y = loader.find_node(\"root_IVs\")"
   ]
  },
  {
   "cell_type": "markdown",
   "metadata": {},
   "source": [
    "# Marginal Value"
   ]
  },
  {
   "cell_type": "code",
   "execution_count": null,
   "metadata": {
    "collapsed": true
   },
   "outputs": [],
   "source": [
    "value_1 = root_1.get_value(spn.InferenceType.MARGINAL)\n",
    "log_value_1 = root_1.get_log_value(spn.InferenceType.MARGINAL)"
   ]
  },
  {
   "cell_type": "code",
   "execution_count": null,
   "metadata": {},
   "outputs": [],
   "source": [
    "value_array_1 = value_1.eval(feed_dict={iv_1: iv_x_feed[:, 0:2], iv_2: iv_x_feed[:, 2:4], iv_y: iv_y_feed})\n",
    "value_array_log_1=log_value_1.eval(feed_dict={iv_1: iv_x_feed[:, 0:2], iv_2: iv_x_feed[:, 2:4], iv_y: iv_y_feed})\n",
    "\n",
    "print(\"Marginal Value:\\n\", value_array_1)\n",
    "print(\"\\nMarginal Value (log):\\n\", value_array_log_1)"
   ]
  },
  {
   "cell_type": "markdown",
   "metadata": {
    "collapsed": true
   },
   "source": [
    "## Marginal Path"
   ]
  },
  {
   "cell_type": "code",
   "execution_count": null,
   "metadata": {},
   "outputs": [],
   "source": [
    "mpe_marginal_path_gen = spn.MPEPath(value_inference_type=spn.InferenceType.MARGINAL, log=False)\n",
    "mpe_marginal_path_gen.get_mpe_path(root_1)\n",
    "\n",
    "print(\"IV_1 Counts:\\n\", mpe_marginal_path_gen.counts[iv_1].eval(feed_dict={iv_1: iv_x_feed[:, 0:2],\n",
    "                                                                           iv_2: iv_x_feed[:, 2:4],\n",
    "                                                                           iv_y: iv_y_feed}))\n",
    "print(\"\\nIV_2 Counts:\\n\", mpe_marginal_path_gen.counts[iv_2].eval(feed_dict={iv_1: iv_x_feed[:, 0:2],\n",
    "                                                                             iv_2: iv_x_feed[:, 2:4],\n",
    "                                                                             iv_y: iv_y_feed}))"
   ]
  },
  {
   "cell_type": "markdown",
   "metadata": {},
   "source": [
    "# MPE Value"
   ]
  },
  {
   "cell_type": "code",
   "execution_count": null,
   "metadata": {
    "collapsed": true
   },
   "outputs": [],
   "source": [
    "value_1 = root_1.get_value(spn.InferenceType.MPE)\n",
    "log_value_1 = root_1.get_log_value(spn.InferenceType.MPE)"
   ]
  },
  {
   "cell_type": "code",
   "execution_count": null,
   "metadata": {},
   "outputs": [],
   "source": [
    "value_array_1 = value_1.eval(feed_dict={iv_1: iv_x_feed[:, 0:2], iv_2: iv_x_feed[:, 2:4], iv_y: iv_y_feed})\n",
    "value_array_log_1 = log_value_1.eval(feed_dict={iv_1: iv_x_feed[:, 0:2], iv_2: iv_x_feed[:, 2:4], iv_y: iv_y_feed})\n",
    "\n",
    "print(\"MPE Value:\\n\", value_array_1)\n",
    "print(\"\\nMPE Value (log):\\n\", value_array_log_1)"
   ]
  },
  {
   "cell_type": "markdown",
   "metadata": {
    "collapsed": true
   },
   "source": [
    "## MPE Path"
   ]
  },
  {
   "cell_type": "code",
   "execution_count": null,
   "metadata": {},
   "outputs": [],
   "source": [
    "mpe_marginal_path_gen = spn.MPEPath(value_inference_type=spn.InferenceType.MPE, log=False)\n",
    "mpe_marginal_path_gen.get_mpe_path(root_1)\n",
    "\n",
    "print(\"IV_1 Counts:\\n\", mpe_marginal_path_gen.counts[iv_1].eval(feed_dict={iv_1: iv_x_feed[:, 0:2],\n",
    "                                                                           iv_2: iv_x_feed[:, 2:4],\n",
    "                                                                           iv_y: iv_y_feed}))\n",
    "print(\"\\nIV_2 Counts:\\n\", mpe_marginal_path_gen.counts[iv_2].eval(feed_dict={iv_1: iv_x_feed[:, 0:2],\n",
    "                                                                             iv_2: iv_x_feed[:, 2:4],\n",
    "                                                                             iv_y: iv_y_feed}))"
   ]
  },
  {
   "cell_type": "code",
   "execution_count": null,
   "metadata": {
    "collapsed": true
   },
   "outputs": [],
   "source": []
  }
 ],
 "metadata": {
  "kernelspec": {
   "display_name": "Python 3",
   "language": "python",
   "name": "python3"
  },
  "language_info": {
   "codemirror_mode": {
    "name": "ipython",
    "version": 3
   },
   "file_extension": ".py",
   "mimetype": "text/x-python",
   "name": "python",
   "nbconvert_exporter": "python",
   "pygments_lexer": "ipython3",
   "version": "3.5.2"
  }
 },
 "nbformat": 4,
 "nbformat_minor": 1
}
