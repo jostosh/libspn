{
 "cells": [
  {
   "cell_type": "code",
   "execution_count": null,
   "metadata": {
    "collapsed": true
   },
   "outputs": [],
   "source": [
    "import libspn as spn"
   ]
  },
  {
   "cell_type": "markdown",
   "metadata": {},
   "source": [
    "# Dense SPN with Multi-nodes and Input Distribution = MIXTURE"
   ]
  },
  {
   "cell_type": "code",
   "execution_count": null,
   "metadata": {
    "collapsed": true
   },
   "outputs": [],
   "source": [
    "gen=spn.DenseSPNGeneratorMultiNodes(num_decomps=1, num_subsets=3, num_mixtures=4, num_input_mixtures=2, \n",
    "                                    balanced=True, multi_nodes=True, \n",
    "                                    input_dist=spn.DenseSPNGeneratorMultiNodes.InputDist.MIXTURE)"
   ]
  },
  {
   "cell_type": "code",
   "execution_count": null,
   "metadata": {
    "collapsed": true
   },
   "outputs": [],
   "source": [
    "ivs_1=spn.IVs(num_vars=7, num_vals=5)\n",
    "root_1=gen.generate(ivs_1, root_name=\"root\")"
   ]
  },
  {
   "cell_type": "markdown",
   "metadata": {},
   "source": [
    "## Inspect"
   ]
  },
  {
   "cell_type": "code",
   "execution_count": null,
   "metadata": {},
   "outputs": [],
   "source": [
    "print(\"Number of nodes: \", root_1.get_num_nodes())\n",
    "print(\"\\nScope of root_1: \", root_1.get_scope())\n",
    "print(\"\\nNetwork valid?: \", root_1.is_valid())"
   ]
  },
  {
   "cell_type": "markdown",
   "metadata": {},
   "source": [
    "## Visualize SPN graph"
   ]
  },
  {
   "cell_type": "code",
   "execution_count": null,
   "metadata": {},
   "outputs": [],
   "source": [
    "spn.display_spn_graph(root_1)"
   ]
  },
  {
   "cell_type": "markdown",
   "metadata": {},
   "source": [
    "# Dense SPN with Single-nodes and Input Distribution = MIXTURE"
   ]
  },
  {
   "cell_type": "code",
   "execution_count": null,
   "metadata": {
    "collapsed": true
   },
   "outputs": [],
   "source": [
    "gen_2=spn.DenseSPNGeneratorMultiNodes(num_decomps=1, num_subsets=3, num_mixtures=4, num_input_mixtures=2, \n",
    "                                      balanced=True, multi_nodes=False, \n",
    "                                      input_dist=spn.DenseSPNGeneratorMultiNodes.InputDist.MIXTURE)"
   ]
  },
  {
   "cell_type": "code",
   "execution_count": null,
   "metadata": {
    "collapsed": true
   },
   "outputs": [],
   "source": [
    "ivs_2=spn.IVs(num_vars=7, num_vals=5)\n",
    "root_2=gen_2.generate(ivs_2, root_name=\"root_2\")"
   ]
  },
  {
   "cell_type": "markdown",
   "metadata": {},
   "source": [
    "## Inspect"
   ]
  },
  {
   "cell_type": "code",
   "execution_count": null,
   "metadata": {},
   "outputs": [],
   "source": [
    "print(\"Number of nodes: \", root_2.get_num_nodes())\n",
    "print(\"\\nScope of root_2: \", root_2.get_scope())\n",
    "print(\"\\nNetwork valid?: \", root_2.is_valid())"
   ]
  },
  {
   "cell_type": "markdown",
   "metadata": {},
   "source": [
    "## Visualize SPN graph"
   ]
  },
  {
   "cell_type": "code",
   "execution_count": null,
   "metadata": {},
   "outputs": [],
   "source": [
    "spn.display_spn_graph(root_2)"
   ]
  },
  {
   "cell_type": "markdown",
   "metadata": {
    "collapsed": true
   },
   "source": [
    "# Dense SPN with Multi-nodes and Input Distribution = RAW"
   ]
  },
  {
   "cell_type": "code",
   "execution_count": null,
   "metadata": {
    "collapsed": true
   },
   "outputs": [],
   "source": [
    "gen_3=spn.DenseSPNGeneratorMultiNodes(num_decomps=1, num_subsets=3, num_mixtures=4, num_input_mixtures=2, \n",
    "                                      balanced=True, multi_nodes=True, \n",
    "                                      input_dist=spn.DenseSPNGeneratorMultiNodes.InputDist.RAW)"
   ]
  },
  {
   "cell_type": "code",
   "execution_count": null,
   "metadata": {},
   "outputs": [],
   "source": [
    "ivs_3=spn.IVs(num_vars=7, num_vals=5)\n",
    "root_3=gen_3.generate(ivs_3, root_name=\"root_3\")"
   ]
  },
  {
   "cell_type": "markdown",
   "metadata": {},
   "source": [
    "## Inspect"
   ]
  },
  {
   "cell_type": "code",
   "execution_count": null,
   "metadata": {},
   "outputs": [],
   "source": [
    "print(\"Number of nodes: \", root_1.get_num_nodes())\n",
    "print(\"\\nScope of root_1: \", root_1.get_scope())\n",
    "print(\"\\nNetwork valid?: \", root_1.is_valid())"
   ]
  },
  {
   "cell_type": "markdown",
   "metadata": {},
   "source": [
    "## Visualize SPN graph"
   ]
  },
  {
   "cell_type": "code",
   "execution_count": null,
   "metadata": {},
   "outputs": [],
   "source": [
    "spn.display_spn_graph(root_3)"
   ]
  },
  {
   "cell_type": "markdown",
   "metadata": {
    "collapsed": true
   },
   "source": [
    "# Dense SPN with Single-nodes and Input Distribution = RAW"
   ]
  },
  {
   "cell_type": "code",
   "execution_count": null,
   "metadata": {
    "collapsed": true
   },
   "outputs": [],
   "source": [
    "gen_4=spn.DenseSPNGeneratorMultiNodes(num_decomps=1, num_subsets=3, num_mixtures=4, num_input_mixtures=2, \n",
    "                                      balanced=True, multi_nodes=False, \n",
    "                                      input_dist=spn.DenseSPNGeneratorMultiNodes.InputDist.RAW)"
   ]
  },
  {
   "cell_type": "code",
   "execution_count": null,
   "metadata": {
    "collapsed": true
   },
   "outputs": [],
   "source": [
    "ivs_4=spn.IVs(num_vars=7, num_vals=5)\n",
    "root_4=gen_4.generate(ivs_4, root_name=\"root_4\")"
   ]
  },
  {
   "cell_type": "markdown",
   "metadata": {},
   "source": [
    "## Inspect"
   ]
  },
  {
   "cell_type": "code",
   "execution_count": null,
   "metadata": {},
   "outputs": [],
   "source": [
    "print(\"Number of nodes: \", root_4.get_num_nodes())\n",
    "print(\"\\nScope of root_4: \", root_4.get_scope())\n",
    "print(\"\\nNetwork valid?: \", root_4.is_valid())"
   ]
  },
  {
   "cell_type": "markdown",
   "metadata": {},
   "source": [
    "## Visualize SPN graph"
   ]
  },
  {
   "cell_type": "code",
   "execution_count": null,
   "metadata": {},
   "outputs": [],
   "source": [
    "spn.display_spn_graph(root_4)"
   ]
  },
  {
   "cell_type": "code",
   "execution_count": null,
   "metadata": {
    "collapsed": true
   },
   "outputs": [],
   "source": []
  }
 ],
 "metadata": {
  "kernelspec": {
   "display_name": "Python 3",
   "language": "python",
   "name": "python3"
  },
  "language_info": {
   "codemirror_mode": {
    "name": "ipython",
    "version": 3
   },
   "file_extension": ".py",
   "mimetype": "text/x-python",
   "name": "python",
   "nbconvert_exporter": "python",
   "pygments_lexer": "ipython3",
   "version": "3.5.2"
  }
 },
 "nbformat": 4,
 "nbformat_minor": 1
}
