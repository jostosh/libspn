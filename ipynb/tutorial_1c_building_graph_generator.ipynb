{
 "cells": [
  {
   "cell_type": "markdown",
   "metadata": {},
   "source": [
    "# Tutorial 1c: Building the SPN Graph Using A Generator"
   ]
  },
  {
   "cell_type": "code",
   "execution_count": 1,
   "metadata": {},
   "outputs": [],
   "source": [
    "import libspn as spn"
   ]
  },
  {
   "cell_type": "markdown",
   "metadata": {},
   "source": [
    "### Build"
   ]
  },
  {
   "cell_type": "code",
   "execution_count": 5,
   "metadata": {},
   "outputs": [],
   "source": [
    "iv_x = spn.IVs(num_vars=2, num_vals=2, name=\"iv_x\")\n",
    "gen=spn.DenseSPNGenerator(num_decomps=1, num_subsets=2, num_mixtures=2)\n",
    "root=gen.generate(iv_x, root_name=\"root\")\n",
    "#iv_y = root.generate_ivs(name=\"iv_y\") # Can be added manually\n",
    "spn.generate_weights(root, init_value=spn.ValueType.RANDOM_UNIFORM(0, 1)) # Can be added manually"
   ]
  },
  {
   "cell_type": "markdown",
   "metadata": {},
   "source": [
    "### Inspect"
   ]
  },
  {
   "cell_type": "code",
   "execution_count": 6,
   "metadata": {},
   "outputs": [
    {
     "name": "stdout",
     "output_type": "stream",
     "text": [
      "15\n",
      "[Scope({iv_x_1:1, iv_x_1:0})]\n",
      "True\n"
     ]
    }
   ],
   "source": [
    "print(root.get_num_nodes())\n",
    "print(root.get_scope())\n",
    "print(root.is_valid())"
   ]
  },
  {
   "cell_type": "markdown",
   "metadata": {},
   "source": [
    "### Visualize the SPN Graph"
   ]
  },
  {
   "cell_type": "code",
   "execution_count": 7,
   "metadata": {},
   "outputs": [
    {
     "data": {
      "text/html": [
       "<svg id=\"S16f875336d9e49aeb87f04bb095383e5\" width=\"950\" height=\"800\"></svg>\n",
       "<script>\n",
       " require.config({\n",
       "   paths: {\n",
       "     d3: 'https://d3js.org/d3.v4.min'\n",
       "   }\n",
       " });\n",
       " require(['d3'], function(d3){\n",
       "\n",
       "   var graph = {\"nodes\": [{\"id\": \"Sums1.2_1/Sum2\", \"name\": \"Sums1.2_1/Sum2\", \"type\": 2, \"tooltip\": \"Sums1.2_1/Sum2\"}, {\"id\": \"Weights_1/Sums1.2_1/Sum2_Weights_1\", \"name\": \"Weights_1/Sums1.2_1/Sum2_Weights\", \"type\": 1, \"tooltip\": \"Weights_1/Sums1.2_1/Sum2_Weights\"}, {\"id\": \"iv_x_1_2\", \"name\": \"iv_x_1[2]\", \"type\": 0, \"tooltip\": \"iv_x_1\"}, {\"id\": \"iv_x_1_3\", \"name\": \"iv_x_1[3]\", \"type\": 0, \"tooltip\": \"iv_x_1\"}, {\"id\": \"Sums1.1_1/Sum2\", \"name\": \"Sums1.1_1/Sum2\", \"type\": 2, \"tooltip\": \"Sums1.1_1/Sum2\"}, {\"id\": \"Weights_1/Sums1.1_1/Sum2_Weights_4\", \"name\": \"Weights_1/Sums1.1_1/Sum2_Weights\", \"type\": 1, \"tooltip\": \"Weights_1/Sums1.1_1/Sum2_Weights\"}, {\"id\": \"iv_x_1_5\", \"name\": \"iv_x_1[0]\", \"type\": 0, \"tooltip\": \"iv_x_1\"}, {\"id\": \"iv_x_1_6\", \"name\": \"iv_x_1[1]\", \"type\": 0, \"tooltip\": \"iv_x_1\"}, {\"id\": \"Products1_1/Product4\", \"name\": \"Products1_1/Product4\", \"type\": 3, \"tooltip\": \"Products1_1/Product4\"}, {\"id\": \"Sums1.1_1/Sum1\", \"name\": \"Sums1.1_1/Sum1\", \"type\": 2, \"tooltip\": \"Sums1.1_1/Sum1\"}, {\"id\": \"Weights_1/Sums1.1_1/Sum1_Weights_7\", \"name\": \"Weights_1/Sums1.1_1/Sum1_Weights\", \"type\": 1, \"tooltip\": \"Weights_1/Sums1.1_1/Sum1_Weights\"}, {\"id\": \"iv_x_1_8\", \"name\": \"iv_x_1[0]\", \"type\": 0, \"tooltip\": \"iv_x_1\"}, {\"id\": \"iv_x_1_9\", \"name\": \"iv_x_1[1]\", \"type\": 0, \"tooltip\": \"iv_x_1\"}, {\"id\": \"Products1_1/Product3\", \"name\": \"Products1_1/Product3\", \"type\": 3, \"tooltip\": \"Products1_1/Product3\"}, {\"id\": \"Sums1.2_1/Sum1\", \"name\": \"Sums1.2_1/Sum1\", \"type\": 2, \"tooltip\": \"Sums1.2_1/Sum1\"}, {\"id\": \"Weights_1/Sums1.2_1/Sum1_Weights_10\", \"name\": \"Weights_1/Sums1.2_1/Sum1_Weights\", \"type\": 1, \"tooltip\": \"Weights_1/Sums1.2_1/Sum1_Weights\"}, {\"id\": \"iv_x_1_11\", \"name\": \"iv_x_1[2]\", \"type\": 0, \"tooltip\": \"iv_x_1\"}, {\"id\": \"iv_x_1_12\", \"name\": \"iv_x_1[3]\", \"type\": 0, \"tooltip\": \"iv_x_1\"}, {\"id\": \"Products1_1/Product2\", \"name\": \"Products1_1/Product2\", \"type\": 3, \"tooltip\": \"Products1_1/Product2\"}, {\"id\": \"Products1_1/Product1\", \"name\": \"Products1_1/Product1\", \"type\": 3, \"tooltip\": \"Products1_1/Product1\"}, {\"id\": \"root_1\", \"name\": \"root_1\", \"type\": 2, \"tooltip\": \"root_1\"}, {\"id\": \"Weights_1/root_1_Weights_13\", \"name\": \"Weights_1/root_1_Weights\", \"type\": 1, \"tooltip\": \"Weights_1/root_1_Weights\"}], \"links\": [{\"value\": 2, \"target\": \"Sums1.2_1/Sum2\", \"source\": \"Weights_1/Sums1.2_1/Sum2_Weights_1\"}, {\"value\": 1, \"target\": \"Sums1.2_1/Sum2\", \"source\": \"iv_x_1_2\"}, {\"value\": 1, \"target\": \"Sums1.2_1/Sum2\", \"source\": \"iv_x_1_3\"}, {\"value\": 2, \"target\": \"Sums1.1_1/Sum2\", \"source\": \"Weights_1/Sums1.1_1/Sum2_Weights_4\"}, {\"value\": 1, \"target\": \"Sums1.1_1/Sum2\", \"source\": \"iv_x_1_5\"}, {\"value\": 1, \"target\": \"Sums1.1_1/Sum2\", \"source\": \"iv_x_1_6\"}, {\"value\": 1, \"target\": \"Products1_1/Product4\", \"source\": \"Sums1.1_1/Sum2\"}, {\"value\": 1, \"target\": \"Products1_1/Product4\", \"source\": \"Sums1.2_1/Sum2\"}, {\"value\": 2, \"target\": \"Sums1.1_1/Sum1\", \"source\": \"Weights_1/Sums1.1_1/Sum1_Weights_7\"}, {\"value\": 1, \"target\": \"Sums1.1_1/Sum1\", \"source\": \"iv_x_1_8\"}, {\"value\": 1, \"target\": \"Sums1.1_1/Sum1\", \"source\": \"iv_x_1_9\"}, {\"value\": 1, \"target\": \"Products1_1/Product3\", \"source\": \"Sums1.1_1/Sum1\"}, {\"value\": 1, \"target\": \"Products1_1/Product3\", \"source\": \"Sums1.2_1/Sum2\"}, {\"value\": 2, \"target\": \"Sums1.2_1/Sum1\", \"source\": \"Weights_1/Sums1.2_1/Sum1_Weights_10\"}, {\"value\": 1, \"target\": \"Sums1.2_1/Sum1\", \"source\": \"iv_x_1_11\"}, {\"value\": 1, \"target\": \"Sums1.2_1/Sum1\", \"source\": \"iv_x_1_12\"}, {\"value\": 1, \"target\": \"Products1_1/Product2\", \"source\": \"Sums1.1_1/Sum2\"}, {\"value\": 1, \"target\": \"Products1_1/Product2\", \"source\": \"Sums1.2_1/Sum1\"}, {\"value\": 1, \"target\": \"Products1_1/Product1\", \"source\": \"Sums1.1_1/Sum1\"}, {\"value\": 1, \"target\": \"Products1_1/Product1\", \"source\": \"Sums1.2_1/Sum1\"}, {\"value\": 4, \"target\": \"root_1\", \"source\": \"Weights_1/root_1_Weights_13\"}, {\"value\": 1, \"target\": \"root_1\", \"source\": \"Products1_1/Product1\"}, {\"value\": 1, \"target\": \"root_1\", \"source\": \"Products1_1/Product2\"}, {\"value\": 1, \"target\": \"root_1\", \"source\": \"Products1_1/Product3\"}, {\"value\": 1, \"target\": \"root_1\", \"source\": \"Products1_1/Product4\"}]};\n",
       "\n",
       "   var color = d3.scaleOrdinal(d3.schemeCategory10);\n",
       "\n",
       "   var zoom = d3.zoom()\n",
       "                .scaleExtent([0.1, 10])\n",
       "                .on(\"zoom\", zoomed);\n",
       "\n",
       "   var svg = d3.select(\"#S16f875336d9e49aeb87f04bb095383e5\").\n",
       "                call(zoom);\n",
       "\n",
       "   var width = svg.attr(\"width\");\n",
       "   var height = svg.attr(\"height\");\n",
       "\n",
       "   var simulation = d3.forceSimulation(graph.nodes)\n",
       "                      .on(\"tick\", ticked)\n",
       "                      .force(\"link\", d3.forceLink(graph.links)\n",
       "                                       .distance(80)\n",
       "                                       .id(function(d) { return d.id; }))\n",
       "                      .force(\"charge\", d3.forceManyBody().\n",
       "                                          strength(-1000))\n",
       "                      .force(\"center\", d3.forceCenter(width / 2, height / 2));\n",
       "\n",
       "   /* Contents */\n",
       "   var container = svg.append(\"g\").\n",
       "                       attr(\"class\", \"container\");\n",
       "\n",
       "   var link = container.append(\"g\")\n",
       "                       .selectAll(\"link\")\n",
       "                       .data(graph.links)\n",
       "                       .enter().append(\"line\")\n",
       "                       .attr(\"stroke\", \"#444\")\n",
       "                       .attr(\"stroke-opacity\", \"0.6\")\n",
       "                       .attr(\"stroke-width\",\n",
       "                             function(d) {\n",
       "                               return d.value;\n",
       "                               /*return Math.sqrt(d.value);*/\n",
       "                             });\n",
       "\n",
       "   var link_value = container.append(\"g\")\n",
       "                             .selectAll(\"linkvalue\")\n",
       "                             .data(graph.links)\n",
       "                             .enter().append(\"text\")\n",
       "                             .attr(\"alignment-baseline\", \"middle\")\n",
       "                             .style(\"text-anchor\", \"middle\")\n",
       "                             .text(function(d) { return d.value; });\n",
       "\n",
       "   var node = container.append(\"g\")\n",
       "                       .selectAll(\"node\")\n",
       "                       .data(graph.nodes)\n",
       "                       .enter().append(\"g\")\n",
       "                       .call(d3.drag()\n",
       "                               .on(\"start\", dragstarted)\n",
       "                               .on(\"drag\", dragged)\n",
       "                               .on(\"end\", dragended));\n",
       "\n",
       "   /* Node appearance */\n",
       "   node.append(\"rect\")\n",
       "       .attr(\"height\", 0)\n",
       "       .attr(\"width\", 0)\n",
       "       .attr(\"fill\", function(d) { return color(d.type); })\n",
       "       .attr(\"stroke\", \"#000\")\n",
       "       .attr(\"stroke-width\", \"1px\");\n",
       "\n",
       "   node.append(\"text\")\n",
       "       .attr(\"alignment-baseline\", \"middle\")\n",
       "       .style(\"text-anchor\", \"middle\")\n",
       "       .text(function(d) { return d.name; });\n",
       "\n",
       "   /* Adjust rect width to text */\n",
       "   var margin=10;\n",
       "   node.selectAll('rect')\n",
       "       .attr(\"x\", function(d) {return d3.select(this).attr(\"x\") - (this.parentNode.getBBox().width + margin)/2.0;})\n",
       "       .attr(\"y\", function(d) {return d3.select(this).attr(\"y\") - (this.parentNode.getBBox().height + margin)/2.0;})\n",
       "       .attr(\"width\", function(d) {return this.parentNode.getBBox().width + margin;})\n",
       "       .attr(\"height\", function(d) {return this.parentNode.getBBox().height + margin;});\n",
       "\n",
       "   /* Tooltips */\n",
       "   node.append(\"title\")\n",
       "       .text(function(d) { return d.tooltip; });\n",
       "\n",
       "   /* Functions */\n",
       "   function zoomed() {\n",
       "     container.attr(\"transform\", d3.event.transform);\n",
       "   }\n",
       "\n",
       "   function ticked() {\n",
       "     link\n",
       "       .attr(\"x1\", function(d) { return d.source.x; })\n",
       "       .attr(\"y1\", function(d) { return d.source.y; })\n",
       "       .attr(\"x2\", function(d) { return d.target.x; })\n",
       "       .attr(\"y2\", function(d) { return d.target.y; });\n",
       "\n",
       "     link_value\n",
       "       .attr(\"x\", function(d) { return (d.source.x+d.target.x)/2; })\n",
       "       .attr(\"y\", function(d) { return (d.source.y+d.target.y)/2; })\n",
       "\n",
       "     node.attr(\"transform\",\n",
       "               function(d) { return \"translate(\" + d.x + \",\" + d.y + \")\"; });\n",
       "   }\n",
       "\n",
       "   function dragstarted(d) {\n",
       "     if (!d3.event.active) simulation.alphaTarget(0.3).restart();\n",
       "     d.fx = d.x;\n",
       "     d.fy = d.y;\n",
       "   }\n",
       "\n",
       "   function dragged(d) {\n",
       "     d.fx = d3.event.x;\n",
       "     d.fy = d3.event.y;\n",
       "   }\n",
       "\n",
       "   function dragended(d) {\n",
       "     if (!d3.event.active) simulation.alphaTarget(0);\n",
       "     d.fx = null;\n",
       "     d.fy = null;\n",
       "   }\n",
       "\n",
       " });\n",
       "</script>\n"
      ],
      "text/plain": [
       "<IPython.core.display.HTML object>"
      ]
     },
     "metadata": {},
     "output_type": "display_data"
    }
   ],
   "source": [
    "spn.display_spn_graph(root)"
   ]
  }
 ],
 "metadata": {
  "kernelspec": {
   "display_name": "Python [default]",
   "language": "python",
   "name": "python3"
  },
  "language_info": {
   "codemirror_mode": {
    "name": "ipython",
    "version": 3
   },
   "file_extension": ".py",
   "mimetype": "text/x-python",
   "name": "python",
   "nbconvert_exporter": "python",
   "pygments_lexer": "ipython3",
   "version": "3.5.4"
  }
 },
 "nbformat": 4,
 "nbformat_minor": 2
}
