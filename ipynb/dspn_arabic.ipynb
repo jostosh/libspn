{
 "cells": [
  {
   "cell_type": "code",
   "execution_count": 1,
   "metadata": {},
   "outputs": [],
   "source": [
    "# import sys\n",
    "# sys.path.append(\"../../\")\n",
    "import libspn as spn\n",
    "import numpy as np\n",
    "import tensorflow as tf"
   ]
  },
  {
   "cell_type": "code",
   "execution_count": 2,
   "metadata": {},
   "outputs": [],
   "source": [
    "num_decomps = 2\n",
    "num_subsets = 2\n",
    "num_input_mixtures = 2\n",
    "num_roots = 1\n",
    "num_mixtures = 2\n",
    "input_dist = spn.DenseSPNGeneratorLayerNodes.InputDist.MIXTURE\n",
    "\n",
    "# Additive smoothing during learning\n",
    "additive_smoothing=10\n",
    "min_additive_smoothing=1\n",
    "smoothing_decay=0.2\n",
    "\n",
    "# Weight initialization\n",
    "# weight_init_value = 1\n",
    "weight_init_value = spn.ValueType.RANDOM_UNIFORM(1, 1)\n",
    "\n",
    "# Type of inference during upward pass of learning\n",
    "value_inference_type = spn.InferenceType.MARGINAL"
   ]
  },
  {
   "cell_type": "code",
   "execution_count": 3,
   "metadata": {},
   "outputs": [],
   "source": [
    "male_data = []\n",
    "male_labels = np.concatenate([np.ones(330) * i for i in range(10)])\n",
    "female_data = []\n",
    "female_labels = np.concatenate([np.ones(330) * i for i in range(10)])\n",
    "with open('/home/jos/data/arabic/Train_Arabic_Digit.txt') as f:\n",
    "    count = 0\n",
    "    block = []\n",
    "    for line in f.readlines():\n",
    "        words = line.split(' ')\n",
    "        if len(words) == 13 and all(words):\n",
    "            block.append([float(w) for w in words])\n",
    "        else:\n",
    "            if block:\n",
    "                if (count // 330) % 2 == 0:\n",
    "                    male_data.append(block)\n",
    "                else:\n",
    "                    female_data.append(block)\n",
    "            count += 1\n",
    "            block = []\n",
    "    if block:\n",
    "        female_data.append(block)\n",
    "            \n",
    "# import pandas as pd\n",
    "\n",
    "# train_data = pd.read_csv('/home/jos/datasets/arabic/pendigits.tra', delimiter=',', header=None)"
   ]
  },
  {
   "cell_type": "code",
   "execution_count": 4,
   "metadata": {},
   "outputs": [],
   "source": [
    "all_data = male_data + female_data\n"
   ]
  },
  {
   "cell_type": "code",
   "execution_count": 5,
   "metadata": {},
   "outputs": [],
   "source": [
    "def sequence_lens(sequences):\n",
    "    return [len(seq) for seq in sequences]\n",
    "\n",
    "def pad_sequences(sequences, sequence_maxlen, padding_val=-1):\n",
    "    ret = []\n",
    "    for seq in sequences:\n",
    "        arr = np.asarray(seq)\n",
    "        ret.append(np.concatenate([\n",
    "            padding_val * np.ones((sequence_maxlen - len(seq),) + arr.shape[1:]),\n",
    "            arr\n",
    "        ]))\n",
    "    return np.asarray(ret)\n",
    "\n"
   ]
  },
  {
   "cell_type": "code",
   "execution_count": 6,
   "metadata": {},
   "outputs": [
    {
     "name": "stdout",
     "output_type": "stream",
     "text": [
      "(263256, 13)\n"
     ]
    }
   ],
   "source": [
    "data_stacked = np.concatenate(all_data, axis=0)\n",
    "print(data_stacked.shape)\n",
    "padded = pad_sequences(all_data[:2], 93)"
   ]
  },
  {
   "cell_type": "code",
   "execution_count": 7,
   "metadata": {},
   "outputs": [
    {
     "name": "stdout",
     "output_type": "stream",
     "text": [
      "(6600, 93, 13)\n"
     ]
    }
   ],
   "source": [
    "seq_lens = np.asarray(sequence_lens(all_data))\n",
    "X = pad_sequences(all_data, 93)\n",
    "y = np.expand_dims(np.concatenate([male_labels, female_labels]), 1)\n",
    "print(X.shape)"
   ]
  },
  {
   "cell_type": "markdown",
   "metadata": {},
   "source": [
    "As you can see the dataset is perfectly balanced."
   ]
  },
  {
   "cell_type": "code",
   "execution_count": 8,
   "metadata": {},
   "outputs": [
    {
     "name": "stderr",
     "output_type": "stream",
     "text": [
      "/home/jos/.local/lib/python3.5/site-packages/matplotlib/axes/_axes.py:6462: UserWarning: The 'normed' kwarg is deprecated, and has been replaced by the 'density' kwarg.\n",
      "  warnings.warn(\"The 'normed' kwarg is deprecated, and has been \"\n"
     ]
    },
    {
     "data": {
      "text/plain": [
       "<matplotlib.axes._subplots.AxesSubplot at 0x7f20cd95a550>"
      ]
     },
     "execution_count": 8,
     "metadata": {},
     "output_type": "execute_result"
    },
    {
     "data": {
      "image/png": "[encoded data removed]",
      "text/plain": [
       "<Figure size 432x288 with 1 Axes>"
      ]
     },
     "metadata": {},
     "output_type": "display_data"
    }
   ],
   "source": [
    "%matplotlib inline\n",
    "import seaborn as sns\n",
    "sns.distplot(y, bins=np.arange(-0.5, 10))"
   ]
  },
  {
   "cell_type": "code",
   "execution_count": null,
   "metadata": {},
   "outputs": [],
   "source": []
  },
  {
   "cell_type": "code",
   "execution_count": 9,
   "metadata": {},
   "outputs": [
    {
     "name": "stdout",
     "output_type": "stream",
     "text": [
      "174\n"
     ]
    }
   ],
   "source": [
    "tf.reset_default_graph()\n",
    "dense_gen = spn.DenseSPNGeneratorLayerNodes(num_decomps=num_decomps, num_subsets=num_subsets, num_mixtures=num_mixtures, \n",
    "                                            input_dist=input_dist, num_input_mixtures=num_input_mixtures, \n",
    "                                            node_type=spn.DenseSPNGeneratorLayerNodes.NodeType.LAYER)\n",
    "\n",
    "\n",
    "\n",
    "contvars = spn.GaussianLeaf(\n",
    "    max_steps=93, num_vars=13, num_components=4, data=data_stacked, dynamic=True, use_prior=False,\n",
    "    learn_dist_params=True, total_counts_init=100, min_stddev=1e-8)\n",
    "\n",
    "top_per_digit = []\n",
    "for d in range(10):\n",
    "    root = dense_gen.generate(contvars)\n",
    "#     print(root.values[0].node)\n",
    "    template_head = root.values[0].node\n",
    "    \n",
    "    interface = spn.DynamicInterface(name=\"Interface\")\n",
    "    interface.set_source(template_head)\n",
    "    \n",
    "    interface_mixtures = spn.ParSums(interface, num_sums=template_head.num_prods, name=\"InterfaceMixtures\", interface_head=True)\n",
    "    \n",
    "    prod_sizes = template_head.num_or_size_prods\n",
    "    offset = 0\n",
    "    new_inputs, new_prod_sizes = [], []\n",
    "    for i, size in enumerate(prod_sizes):\n",
    "        new_inputs.extend(template_head.inputs[offset:offset+size])\n",
    "        new_inputs.append(spn.Input(node=interface_mixtures, indices=i))\n",
    "        new_prod_sizes.append(size + 1)\n",
    "        offset += size\n",
    "    template_head.set_values(*new_inputs)\n",
    "    template_head.set_prod_sizes(new_prod_sizes)\n",
    "    \n",
    "    top_per_digit.append(root)\n",
    "    #     top_per_digit.append(spn.Sum(*template_heads, name=\"Top{}\".format(d)))\n",
    "    \n",
    "root = spn.Sum(*top_per_digit)\n",
    "spn.generate_weights(root, init_value=weight_init_value)\n",
    "latent = root.generate_ivs()\n",
    "\n",
    "print(root.get_num_nodes())\n"
   ]
  },
  {
   "cell_type": "code",
   "execution_count": 9,
   "metadata": {},
   "outputs": [],
   "source": [
    "%load_ext autoreload\n",
    "%autoreload 2"
   ]
  },
  {
   "cell_type": "code",
   "execution_count": 10,
   "metadata": {},
   "outputs": [
    {
     "name": "stdout",
     "output_type": "stream",
     "text": [
      "WARNING:tensorflow:From /home/jos/spn/libspn/libspn/utils/math.py:491: calling reduce_max (from tensorflow.python.ops.math_ops) with keep_dims is deprecated and will be removed in a future version.\n",
      "Instructions for updating:\n",
      "keep_dims is deprecated, use keepdims instead\n"
     ]
    },
    {
     "name": "stderr",
     "output_type": "stream",
     "text": [
      "[WARNING] [tensorflow:warning] From /home/jos/spn/libspn/libspn/utils/math.py:491: calling reduce_max (from tensorflow.python.ops.math_ops) with keep_dims is deprecated and will be removed in a future version.\n",
      "Instructions for updating:\n",
      "keep_dims is deprecated, use keepdims instead\n"
     ]
    },
    {
     "name": "stdout",
     "output_type": "stream",
     "text": [
      "WARNING:tensorflow:From /home/jos/spn/libspn/libspn/utils/math.py:497: calling reduce_sum (from tensorflow.python.ops.math_ops) with keep_dims is deprecated and will be removed in a future version.\n",
      "Instructions for updating:\n",
      "keep_dims is deprecated, use keepdims instead\n"
     ]
    },
    {
     "name": "stderr",
     "output_type": "stream",
     "text": [
      "[WARNING] [tensorflow:warning] From /home/jos/spn/libspn/libspn/utils/math.py:497: calling reduce_sum (from tensorflow.python.ops.math_ops) with keep_dims is deprecated and will be removed in a future version.\n",
      "Instructions for updating:\n",
      "keep_dims is deprecated, use keepdims instead\n"
     ]
    },
    {
     "name": "stdout",
     "output_type": "stream",
     "text": [
      "WARNING:tensorflow:From /home/jos/spn/libspn/libspn/graph/sum.py:299: calling argmax (from tensorflow.python.ops.math_ops) with dimension is deprecated and will be removed in a future version.\n",
      "Instructions for updating:\n",
      "Use the `axis` argument instead\n"
     ]
    },
    {
     "name": "stderr",
     "output_type": "stream",
     "text": [
      "[WARNING] [tensorflow:warning] From /home/jos/spn/libspn/libspn/graph/sum.py:299: calling argmax (from tensorflow.python.ops.math_ops) with dimension is deprecated and will be removed in a future version.\n",
      "Instructions for updating:\n",
      "Use the `axis` argument instead\n"
     ]
    }
   ],
   "source": [
    "sequence_len_ph = tf.placeholder(tf.int32, [None])\n",
    "additive_smoothing_var = tf.Variable(additive_smoothing, dtype=spn.conf.dtype)\n",
    "learning = spn.EMLearning(root, log=True, value_inference_type = value_inference_type,\n",
    "                          additive_smoothing=additive_smoothing_var, sequence_lens=sequence_len_ph,\n",
    "                          initial_accum_value=100)\n",
    "init_weights = spn.initialize_weights(root)\n",
    "reset_accumulators = learning.reset_accumulators()\n",
    "accumulate_updates = learning.accumulate_updates()\n",
    "update_spn = learning.update_spn()\n",
    "train_likelihood = learning.likelihood()\n",
    "avg_train_likelihood = tf.reduce_mean(train_likelihood)"
   ]
  },
  {
   "cell_type": "code",
   "execution_count": 13,
   "metadata": {},
   "outputs": [
    {
     "name": "stdout",
     "output_type": "stream",
     "text": [
      "(6600,) (6600, 93, 13) (6600, 1)\n"
     ]
    }
   ],
   "source": [
    "print(seq_lens.shape, X.shape, y.shape)"
   ]
  },
  {
   "cell_type": "code",
   "execution_count": 11,
   "metadata": {},
   "outputs": [],
   "source": [
    "mpe_state_gen = spn.MPEState(log=True, value_inference_type=spn.InferenceType.MPE, dynamic=True)\n",
    "mpe_ivs, mpe_latent = mpe_state_gen.get_state(root, contvars, latent)"
   ]
  },
  {
   "cell_type": "code",
   "execution_count": 12,
   "metadata": {},
   "outputs": [],
   "source": [
    "sess = None\n",
    "from tqdm import tqdm_notebook\n",
    "from sklearn.utils import shuffle\n",
    "from sklearn.model_selection import KFold"
   ]
  },
  {
   "cell_type": "code",
   "execution_count": 13,
   "metadata": {},
   "outputs": [
    {
     "data": {
      "application/vnd.jupyter.widget-view+json": {
       "model_id": "eec761b28ed84342a9ae473da39e27a6",
       "version_major": 2,
       "version_minor": 0
      },
      "text/plain": [
       "HBox(children=(IntProgress(value=0, max=8), HTML(value='')))"
      ]
     },
     "metadata": {},
     "output_type": "display_data"
    },
    {
     "name": "stdout",
     "output_type": "stream",
     "text": [
      "\n",
      "Avg likelihood: -757.893180847168\n"
     ]
    },
    {
     "data": {
      "application/vnd.jupyter.widget-view+json": {
       "model_id": "f3ae0438892c4ac297b71f1218d13280",
       "version_major": 2,
       "version_minor": 0
      },
      "text/plain": [
       "HBox(children=(IntProgress(value=0, max=8), HTML(value='')))"
      ]
     },
     "metadata": {},
     "output_type": "display_data"
    },
    {
     "name": "stdout",
     "output_type": "stream",
     "text": [
      "\n",
      "Avg likelihood: -723.1368026733398\n"
     ]
    },
    {
     "data": {
      "application/vnd.jupyter.widget-view+json": {
       "model_id": "ddf49f1170aa463b9a92f7ac5edd75fc",
       "version_major": 2,
       "version_minor": 0
      },
      "text/plain": [
       "HBox(children=(IntProgress(value=0, max=8), HTML(value='')))"
      ]
     },
     "metadata": {},
     "output_type": "display_data"
    },
    {
     "name": "stdout",
     "output_type": "stream",
     "text": [
      "\n",
      "Avg likelihood: -710.2462310791016\n"
     ]
    },
    {
     "data": {
      "application/vnd.jupyter.widget-view+json": {
       "model_id": "3674cd44d7e84ee789ac3261de1f9069",
       "version_major": 2,
       "version_minor": 0
      },
      "text/plain": [
       "HBox(children=(IntProgress(value=0, max=8), HTML(value='')))"
      ]
     },
     "metadata": {},
     "output_type": "display_data"
    },
    {
     "name": "stdout",
     "output_type": "stream",
     "text": [
      "\n",
      "Avg likelihood: -696.2178344726562\n"
     ]
    },
    {
     "data": {
      "application/vnd.jupyter.widget-view+json": {
       "model_id": "7bfa764fc2434e48bf6e5af8d49b8b53",
       "version_major": 2,
       "version_minor": 0
      },
      "text/plain": [
       "HBox(children=(IntProgress(value=0, max=8), HTML(value='')))"
      ]
     },
     "metadata": {},
     "output_type": "display_data"
    },
    {
     "name": "stdout",
     "output_type": "stream",
     "text": [
      "\n",
      "Avg likelihood: -685.6963043212891\n"
     ]
    },
    {
     "data": {
      "application/vnd.jupyter.widget-view+json": {
       "model_id": "805548072418468e9b7dfb0b5f73878e",
       "version_major": 2,
       "version_minor": 0
      },
      "text/plain": [
       "HBox(children=(IntProgress(value=0, max=8), HTML(value='')))"
      ]
     },
     "metadata": {},
     "output_type": "display_data"
    },
    {
     "name": "stdout",
     "output_type": "stream",
     "text": [
      "\n",
      "Avg likelihood: -678.1603012084961\n"
     ]
    },
    {
     "data": {
      "application/vnd.jupyter.widget-view+json": {
       "model_id": "0a29dbe25d704b9088ce93ada4bc7069",
       "version_major": 2,
       "version_minor": 0
      },
      "text/plain": [
       "HBox(children=(IntProgress(value=0, max=8), HTML(value='')))"
      ]
     },
     "metadata": {},
     "output_type": "display_data"
    },
    {
     "name": "stdout",
     "output_type": "stream",
     "text": [
      "\n",
      "Avg likelihood: -672.1075286865234\n"
     ]
    },
    {
     "data": {
      "application/vnd.jupyter.widget-view+json": {
       "model_id": "a874e57316364a5790c718772552707b",
       "version_major": 2,
       "version_minor": 0
      },
      "text/plain": [
       "HBox(children=(IntProgress(value=0, max=8), HTML(value='')))"
      ]
     },
     "metadata": {},
     "output_type": "display_data"
    },
    {
     "name": "stdout",
     "output_type": "stream",
     "text": [
      "\n",
      "Avg likelihood: -667.0933380126953\n"
     ]
    },
    {
     "data": {
      "application/vnd.jupyter.widget-view+json": {
       "model_id": "57622d77494e436fa4dbd748c3d7fb0d",
       "version_major": 2,
       "version_minor": 0
      },
      "text/plain": [
       "HBox(children=(IntProgress(value=0, max=8), HTML(value='')))"
      ]
     },
     "metadata": {},
     "output_type": "display_data"
    },
    {
     "ename": "KeyboardInterrupt",
     "evalue": "",
     "output_type": "error",
     "traceback": [
      "\u001b[0;31m---------------------------------------------------------------------------\u001b[0m",
      "\u001b[0;31mKeyboardInterrupt\u001b[0m                         Traceback (most recent call last)",
      "\u001b[0;32m<ipython-input-13-f9fb9ec62c63>\u001b[0m in \u001b[0;36m<module>\u001b[0;34m()\u001b[0m\n\u001b[1;32m     53\u001b[0m             \u001b[0;31m# Adjust smoothing\u001b[0m\u001b[0;34m\u001b[0m\u001b[0;34m\u001b[0m\u001b[0m\n\u001b[1;32m     54\u001b[0m             \u001b[0mads\u001b[0m\u001b[0;34m=\u001b[0m\u001b[0mmax\u001b[0m\u001b[0;34m(\u001b[0m\u001b[0mnp\u001b[0m\u001b[0;34m.\u001b[0m\u001b[0mexp\u001b[0m\u001b[0;34m(\u001b[0m\u001b[0;34m-\u001b[0m\u001b[0mepoch\u001b[0m\u001b[0;34m*\u001b[0m\u001b[0msmoothing_decay\u001b[0m\u001b[0;34m)\u001b[0m\u001b[0;34m*\u001b[0m\u001b[0madditive_smoothing\u001b[0m\u001b[0;34m,\u001b[0m \u001b[0mmin_additive_smoothing\u001b[0m\u001b[0;34m)\u001b[0m\u001b[0;34m\u001b[0m\u001b[0m\n\u001b[0;32m---> 55\u001b[0;31m             \u001b[0msess\u001b[0m\u001b[0;34m.\u001b[0m\u001b[0mrun\u001b[0m\u001b[0;34m(\u001b[0m\u001b[0madditive_smoothing_var\u001b[0m\u001b[0;34m.\u001b[0m\u001b[0massign\u001b[0m\u001b[0;34m(\u001b[0m\u001b[0mads\u001b[0m\u001b[0;34m)\u001b[0m\u001b[0;34m)\u001b[0m\u001b[0;34m\u001b[0m\u001b[0m\n\u001b[0m\u001b[1;32m     56\u001b[0m             \u001b[0;31m# Run accumulate_updates\u001b[0m\u001b[0;34m\u001b[0m\u001b[0;34m\u001b[0m\u001b[0m\n\u001b[1;32m     57\u001b[0m             avg_train_likelihood_val, _, =                     sess.run([avg_train_likelihood, accumulate_updates], \n",
      "\u001b[0;32m~/.local/lib/python3.5/site-packages/tensorflow/python/client/session.py\u001b[0m in \u001b[0;36mrun\u001b[0;34m(self, fetches, feed_dict, options, run_metadata)\u001b[0m\n\u001b[1;32m    893\u001b[0m     \u001b[0;32mtry\u001b[0m\u001b[0;34m:\u001b[0m\u001b[0;34m\u001b[0m\u001b[0m\n\u001b[1;32m    894\u001b[0m       result = self._run(None, fetches, feed_dict, options_ptr,\n\u001b[0;32m--> 895\u001b[0;31m                          run_metadata_ptr)\n\u001b[0m\u001b[1;32m    896\u001b[0m       \u001b[0;32mif\u001b[0m \u001b[0mrun_metadata\u001b[0m\u001b[0;34m:\u001b[0m\u001b[0;34m\u001b[0m\u001b[0m\n\u001b[1;32m    897\u001b[0m         \u001b[0mproto_data\u001b[0m \u001b[0;34m=\u001b[0m \u001b[0mtf_session\u001b[0m\u001b[0;34m.\u001b[0m\u001b[0mTF_GetBuffer\u001b[0m\u001b[0;34m(\u001b[0m\u001b[0mrun_metadata_ptr\u001b[0m\u001b[0;34m)\u001b[0m\u001b[0;34m\u001b[0m\u001b[0m\n",
      "\u001b[0;32m~/.local/lib/python3.5/site-packages/tensorflow/python/client/session.py\u001b[0m in \u001b[0;36m_run\u001b[0;34m(self, handle, fetches, feed_dict, options, run_metadata)\u001b[0m\n\u001b[1;32m   1126\u001b[0m     \u001b[0;32mif\u001b[0m \u001b[0mfinal_fetches\u001b[0m \u001b[0;32mor\u001b[0m \u001b[0mfinal_targets\u001b[0m \u001b[0;32mor\u001b[0m \u001b[0;34m(\u001b[0m\u001b[0mhandle\u001b[0m \u001b[0;32mand\u001b[0m \u001b[0mfeed_dict_tensor\u001b[0m\u001b[0;34m)\u001b[0m\u001b[0;34m:\u001b[0m\u001b[0;34m\u001b[0m\u001b[0m\n\u001b[1;32m   1127\u001b[0m       results = self._do_run(handle, final_targets, final_fetches,\n\u001b[0;32m-> 1128\u001b[0;31m                              feed_dict_tensor, options, run_metadata)\n\u001b[0m\u001b[1;32m   1129\u001b[0m     \u001b[0;32melse\u001b[0m\u001b[0;34m:\u001b[0m\u001b[0;34m\u001b[0m\u001b[0m\n\u001b[1;32m   1130\u001b[0m       \u001b[0mresults\u001b[0m \u001b[0;34m=\u001b[0m \u001b[0;34m[\u001b[0m\u001b[0;34m]\u001b[0m\u001b[0;34m\u001b[0m\u001b[0m\n",
      "\u001b[0;32m~/.local/lib/python3.5/site-packages/tensorflow/python/client/session.py\u001b[0m in \u001b[0;36m_do_run\u001b[0;34m(self, handle, target_list, fetch_list, feed_dict, options, run_metadata)\u001b[0m\n\u001b[1;32m   1342\u001b[0m     \u001b[0;32mif\u001b[0m \u001b[0mhandle\u001b[0m \u001b[0;32mis\u001b[0m \u001b[0;32mNone\u001b[0m\u001b[0;34m:\u001b[0m\u001b[0;34m\u001b[0m\u001b[0m\n\u001b[1;32m   1343\u001b[0m       return self._do_call(_run_fn, self._session, feeds, fetches, targets,\n\u001b[0;32m-> 1344\u001b[0;31m                            options, run_metadata)\n\u001b[0m\u001b[1;32m   1345\u001b[0m     \u001b[0;32melse\u001b[0m\u001b[0;34m:\u001b[0m\u001b[0;34m\u001b[0m\u001b[0m\n\u001b[1;32m   1346\u001b[0m       \u001b[0;32mreturn\u001b[0m \u001b[0mself\u001b[0m\u001b[0;34m.\u001b[0m\u001b[0m_do_call\u001b[0m\u001b[0;34m(\u001b[0m\u001b[0m_prun_fn\u001b[0m\u001b[0;34m,\u001b[0m \u001b[0mself\u001b[0m\u001b[0;34m.\u001b[0m\u001b[0m_session\u001b[0m\u001b[0;34m,\u001b[0m \u001b[0mhandle\u001b[0m\u001b[0;34m,\u001b[0m \u001b[0mfeeds\u001b[0m\u001b[0;34m,\u001b[0m \u001b[0mfetches\u001b[0m\u001b[0;34m)\u001b[0m\u001b[0;34m\u001b[0m\u001b[0m\n",
      "\u001b[0;32m~/.local/lib/python3.5/site-packages/tensorflow/python/client/session.py\u001b[0m in \u001b[0;36m_do_call\u001b[0;34m(self, fn, *args)\u001b[0m\n\u001b[1;32m   1348\u001b[0m   \u001b[0;32mdef\u001b[0m \u001b[0m_do_call\u001b[0m\u001b[0;34m(\u001b[0m\u001b[0mself\u001b[0m\u001b[0;34m,\u001b[0m \u001b[0mfn\u001b[0m\u001b[0;34m,\u001b[0m \u001b[0;34m*\u001b[0m\u001b[0margs\u001b[0m\u001b[0;34m)\u001b[0m\u001b[0;34m:\u001b[0m\u001b[0;34m\u001b[0m\u001b[0m\n\u001b[1;32m   1349\u001b[0m     \u001b[0;32mtry\u001b[0m\u001b[0;34m:\u001b[0m\u001b[0;34m\u001b[0m\u001b[0m\n\u001b[0;32m-> 1350\u001b[0;31m       \u001b[0;32mreturn\u001b[0m \u001b[0mfn\u001b[0m\u001b[0;34m(\u001b[0m\u001b[0;34m*\u001b[0m\u001b[0margs\u001b[0m\u001b[0;34m)\u001b[0m\u001b[0;34m\u001b[0m\u001b[0m\n\u001b[0m\u001b[1;32m   1351\u001b[0m     \u001b[0;32mexcept\u001b[0m \u001b[0merrors\u001b[0m\u001b[0;34m.\u001b[0m\u001b[0mOpError\u001b[0m \u001b[0;32mas\u001b[0m \u001b[0me\u001b[0m\u001b[0;34m:\u001b[0m\u001b[0;34m\u001b[0m\u001b[0m\n\u001b[1;32m   1352\u001b[0m       \u001b[0mmessage\u001b[0m \u001b[0;34m=\u001b[0m \u001b[0mcompat\u001b[0m\u001b[0;34m.\u001b[0m\u001b[0mas_text\u001b[0m\u001b[0;34m(\u001b[0m\u001b[0me\u001b[0m\u001b[0;34m.\u001b[0m\u001b[0mmessage\u001b[0m\u001b[0;34m)\u001b[0m\u001b[0;34m\u001b[0m\u001b[0m\n",
      "\u001b[0;32m~/.local/lib/python3.5/site-packages/tensorflow/python/client/session.py\u001b[0m in \u001b[0;36m_run_fn\u001b[0;34m(session, feed_dict, fetch_list, target_list, options, run_metadata)\u001b[0m\n\u001b[1;32m   1327\u001b[0m           return tf_session.TF_Run(session, options,\n\u001b[1;32m   1328\u001b[0m                                    \u001b[0mfeed_dict\u001b[0m\u001b[0;34m,\u001b[0m \u001b[0mfetch_list\u001b[0m\u001b[0;34m,\u001b[0m \u001b[0mtarget_list\u001b[0m\u001b[0;34m,\u001b[0m\u001b[0;34m\u001b[0m\u001b[0m\n\u001b[0;32m-> 1329\u001b[0;31m                                    status, run_metadata)\n\u001b[0m\u001b[1;32m   1330\u001b[0m \u001b[0;34m\u001b[0m\u001b[0m\n\u001b[1;32m   1331\u001b[0m     \u001b[0;32mdef\u001b[0m \u001b[0m_prun_fn\u001b[0m\u001b[0;34m(\u001b[0m\u001b[0msession\u001b[0m\u001b[0;34m,\u001b[0m \u001b[0mhandle\u001b[0m\u001b[0;34m,\u001b[0m \u001b[0mfeed_dict\u001b[0m\u001b[0;34m,\u001b[0m \u001b[0mfetch_list\u001b[0m\u001b[0;34m)\u001b[0m\u001b[0;34m:\u001b[0m\u001b[0;34m\u001b[0m\u001b[0m\n",
      "\u001b[0;31mKeyboardInterrupt\u001b[0m: "
     ]
    }
   ],
   "source": [
    "K = 10\n",
    "kf = KFold(n_splits=K)\n",
    "num_batches = 8\n",
    "num_epochs = 15\n",
    "shuffle_data = True\n",
    "\n",
    "test_likelihood = np.zeros((K, num_epochs + 1))\n",
    "test_likelihood_labels = np.zeros((K, num_epochs + 1))\n",
    "test_classification = np.zeros((K, num_epochs + 1))\n",
    "train_likelihood = np.zeros((K, num_epochs, num_batches))\n",
    "\n",
    "    \n",
    "for k, (train_index, test_index) in enumerate(kf.split(X)):\n",
    "    X_train = X[train_index].transpose((1, 0, 2))\n",
    "    y_train = y[train_index]\n",
    "    seq_len_train = seq_lens[train_index]\n",
    "    \n",
    "    X_test = X[test_index].transpose((1, 0, 2))\n",
    "    y_test = y[test_index]\n",
    "    seq_len_test = seq_lens[test_index]\n",
    "    \n",
    "    batch_size = X_train.shape[1] // num_batches\n",
    "    \n",
    "    if sess is not None:\n",
    "        sess.close()\n",
    "    sess = tf.Session()\n",
    "\n",
    "    sess.run(init_weights)\n",
    "    sess.run(reset_accumulators)\n",
    "\n",
    "    prev_likelihood = 100\n",
    "    likelihood = 0\n",
    "    for epoch in range(num_epochs):\n",
    "        prev_likelihood=likelihood\n",
    "        likelihoods = []\n",
    "        pbar = tqdm_notebook(range(num_batches))\n",
    "        if shuffle_data:\n",
    "            X_train, y_train, seq_len_train = shuffle(\n",
    "                X_train.transpose((1, 0, 2)), y_train, seq_len_train)\n",
    "            X_train = X_train.transpose((1, 0, 2))\n",
    "\n",
    "        test_fd = {contvars: X_test, latent: np.ones((X_test.shape[1], 1))*-1,sequence_len_ph: seq_len_test}\n",
    "        y_hat_test = sess.run(mpe_latent, feed_dict=test_fd)\n",
    "        test_classification[k, epoch] = np.mean(y_hat_test[-1] == y_test)\n",
    "        test_likelihood[k, epoch] = sess.run(avg_train_likelihood, feed_dict=test_fd)\n",
    "        test_fd[latent] = y_test\n",
    "        test_likelihood_labels[k, epoch] = sess.run(avg_train_likelihood, feed_dict=test_fd)\n",
    "\n",
    "\n",
    "        for i, batch in enumerate(pbar):\n",
    "            start = (batch)*batch_size\n",
    "            stop = (batch+1)*batch_size\n",
    "            # Adjust smoothing\n",
    "            ads=max(np.exp(-epoch*smoothing_decay)*additive_smoothing, min_additive_smoothing)\n",
    "            sess.run(additive_smoothing_var.assign(ads))\n",
    "            # Run accumulate_updates\n",
    "            avg_train_likelihood_val, _, = \\\n",
    "                    sess.run([avg_train_likelihood, accumulate_updates], \n",
    "                             feed_dict={contvars: X_train[:, start:stop],\n",
    "                                       latent: y_train[start:stop],\n",
    "                                       sequence_len_ph: seq_len_train[start:stop]})\n",
    "            # Print avg likelihood of this batch data on previous batch weights\n",
    "            likelihoods.append(avg_train_likelihood_val)\n",
    "            train_likelihood[k, epoch, i] = avg_train_likelihood_val\n",
    "            pbar.set_description(\"lh: {}\".format(avg_train_likelihood_val))\n",
    "            # Update weights\n",
    "        sess.run(update_spn)\n",
    "        likelihood = sum(likelihoods) / len(likelihoods)\n",
    "        print(\"Avg likelihood: %s\" % (likelihood))\n",
    "        if epoch + 1 % 5 == 0:\n",
    "            sess.run(reset_accumulators)\n",
    "\n",
    "    test_fd = {contvars: X_test, latent: np.ones((X_test.shape[1], 1))*-1,sequence_len_ph: seq_len_test}\n",
    "    y_hat_test = sess.run(mpe_latent, feed_dict=test_fd)\n",
    "    test_classification[k, num_epochs] = np.mean(y_hat_test[-1] == y_test)\n",
    "    test_likelihood[k, num_epochs] = sess.run(avg_train_likelihood, feed_dict=test_fd)\n",
    "    test_fd[latent] = y_test\n",
    "    test_likelihood_labels[k, num_epochs] = sess.run(avg_train_likelihood, feed_dict=test_fd)\n",
    "\n",
    "\n"
   ]
  }
 ],
 "metadata": {
  "kernelspec": {
   "display_name": "Python 3",
   "language": "python",
   "name": "python3"
  },
  "language_info": {
   "codemirror_mode": {
    "name": "ipython",
    "version": 3
   },
   "file_extension": ".py",
   "mimetype": "text/x-python",
   "name": "python",
   "nbconvert_exporter": "python",
   "pygments_lexer": "ipython3",
   "version": "3.5.2"
  }
 },
 "nbformat": 4,
 "nbformat_minor": 2
}
