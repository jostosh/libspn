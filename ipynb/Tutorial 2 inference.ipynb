{
 "cells": [
  {
   "cell_type": "markdown",
   "metadata": {},
   "source": [
    "# Tutorial 2: Inference\n",
    "You can do marginal and MPE inferences using SPNs."
   ]
  },
  {
   "cell_type": "code",
   "execution_count": 1,
   "metadata": {},
   "outputs": [],
   "source": [
    "import libspn as spn\n",
    "import tensorflow as tf"
   ]
  },
  {
   "cell_type": "markdown",
   "metadata": {},
   "source": [
    "## Build the SPN"
   ]
  },
  {
   "cell_type": "code",
   "execution_count": 2,
   "metadata": {},
   "outputs": [
    {
     "name": "stderr",
     "output_type": "stream",
     "text": [
      "[WARNING] [tensorflow:__getattr__] From /home/jos/spn/libspn/libspn/graph/node.py:40: The name tf.get_default_graph is deprecated. Please use tf.compat.v1.get_default_graph instead.\n",
      "\n",
      "[WARNING] [tensorflow:__getattr__] From /home/jos/spn/libspn/libspn/graph/leaf/indicator.py:63: The name tf.placeholder is deprecated. Please use tf.compat.v1.placeholder instead.\n",
      "\n"
     ]
    },
    {
     "name": "stdout",
     "output_type": "stream",
     "text": [
      "<tensorflow.python.ops.init_ops.Constant object at 0x7f7b50f429b0>\n"
     ]
    }
   ],
   "source": [
    "indicator_x = spn.IndicatorLeaf(\n",
    "    num_vars=2, num_vals=2, name=\"indicator_x\")\n",
    "\n",
    "# Build structure and attach weight\n",
    "sum_11 = spn.Sum((indicator_x, [0,1]), name=\"sum_11\")\n",
    "sum_11.generate_weights(initializer=tf.initializers.constant([0.4, 0.6]))\n",
    "sum_12 = spn.Sum((indicator_x, [0,1]), name=\"sum_12\")\n",
    "sum_12.generate_weights(initializer=tf.initializers.constant([0.1, 0.9]))\n",
    "sum_21 = spn.Sum((indicator_x, [2,3]), name=\"sum_21\")\n",
    "sum_21.generate_weights(initializer=tf.initializers.constant([0.7, 0.3]))\n",
    "sum_22 = spn.Sum((indicator_x, [2,3]), name=\"sum_22\")\n",
    "sum_22.generate_weights(initializer=tf.initializers.constant([0.8, 0.2]))\n",
    "prod_1 = spn.Product(sum_11, sum_21, name=\"prod_1\")\n",
    "prod_2 = spn.Product(sum_11, sum_22, name=\"prod_2\")\n",
    "prod_3 = spn.Product(sum_12, sum_22, name=\"prod_3\")\n",
    "root = spn.Sum(prod_1, prod_2, prod_3, name=\"root\")\n",
    "root.generate_weights(initializer=tf.initializers.constant([0.5, 0.2, 0.3]))\n",
    "\n",
    "# Connect a latent indicator\n",
    "indicator_y = root.generate_latent_indicators(name=\"indicator_y\") # Can be added manually"
   ]
  },
  {
   "cell_type": "markdown",
   "metadata": {},
   "source": [
    "## Inspect"
   ]
  },
  {
   "cell_type": "code",
   "execution_count": 3,
   "metadata": {},
   "outputs": [
    {
     "name": "stdout",
     "output_type": "stream",
     "text": [
      "15\n",
      "[Scope({indicator_x:1, indicator_x:0, indicator_y:0})]\n",
      "True\n"
     ]
    }
   ],
   "source": [
    "# Inspect\n",
    "print(root.get_num_nodes())\n",
    "print(root.get_scope())\n",
    "print(root.is_valid())"
   ]
  },
  {
   "cell_type": "markdown",
   "metadata": {},
   "source": [
    "## Visualize the SPN Graph\n",
    "The visualization below uses `graphviz`. Depending on your setup (e.g. `jupyter lab` vs. `jupyter notebook`) this might fail to show. At least `Chrome` + `jupyter notebook` seems to work."
   ]
  },
  {
   "cell_type": "code",
   "execution_count": 4,
   "metadata": {},
   "outputs": [
    {
     "data": {
      "text/html": [
       "<svg id=\"S199dcb8c78354ccdaae16166cff6049e\" width=\"950\" height=\"800\"></svg>\n",
       "<script>\n",
       " require.config({\n",
       "   paths: {\n",
       "     d3: 'https://d3js.org/d3.v4.min'\n",
       "   }\n",
       " });\n",
       " require(['d3'], function(d3){\n",
       "\n",
       "   var graph = {\"links\": [{\"target\": \"sum_22\", \"value\": 2, \"source\": \"sum_22_Weights_1\"}, {\"target\": \"sum_22\", \"value\": 2, \"source\": \"indicator_x_2\"}, {\"target\": \"sum_12\", \"value\": 2, \"source\": \"sum_12_Weights_3\"}, {\"target\": \"sum_12\", \"value\": 2, \"source\": \"indicator_x_4\"}, {\"target\": \"prod_3\", \"value\": 1, \"source\": \"sum_12\"}, {\"target\": \"prod_3\", \"value\": 1, \"source\": \"sum_22\"}, {\"target\": \"sum_11\", \"value\": 2, \"source\": \"sum_11_Weights_5\"}, {\"target\": \"sum_11\", \"value\": 2, \"source\": \"indicator_x_6\"}, {\"target\": \"prod_2\", \"value\": 1, \"source\": \"sum_11\"}, {\"target\": \"prod_2\", \"value\": 1, \"source\": \"sum_22\"}, {\"target\": \"sum_21\", \"value\": 2, \"source\": \"sum_21_Weights_7\"}, {\"target\": \"sum_21\", \"value\": 2, \"source\": \"indicator_x_8\"}, {\"target\": \"prod_1\", \"value\": 1, \"source\": \"sum_11\"}, {\"target\": \"prod_1\", \"value\": 1, \"source\": \"sum_21\"}, {\"target\": \"root\", \"value\": 3, \"source\": \"root_Weights_9\"}, {\"target\": \"root\", \"value\": 3, \"source\": \"indicator_y_10\"}, {\"target\": \"root\", \"value\": 1, \"source\": \"prod_1\"}, {\"target\": \"root\", \"value\": 1, \"source\": \"prod_2\"}, {\"target\": \"root\", \"value\": 1, \"source\": \"prod_3\"}], \"nodes\": [{\"name\": \"sum_22\", \"tooltip\": \"sum_22\", \"type\": 2, \"id\": \"sum_22\"}, {\"name\": \"sum_22_Weights\", \"tooltip\": \"sum_22_Weights\", \"type\": 1, \"id\": \"sum_22_Weights_1\"}, {\"name\": \"indicator_x[2, 3]\", \"tooltip\": \"indicator_x\", \"type\": 0, \"id\": \"indicator_x_2\"}, {\"name\": \"sum_12\", \"tooltip\": \"sum_12\", \"type\": 2, \"id\": \"sum_12\"}, {\"name\": \"sum_12_Weights\", \"tooltip\": \"sum_12_Weights\", \"type\": 1, \"id\": \"sum_12_Weights_3\"}, {\"name\": \"indicator_x[0, 1]\", \"tooltip\": \"indicator_x\", \"type\": 0, \"id\": \"indicator_x_4\"}, {\"name\": \"prod_3\", \"tooltip\": \"prod_3\", \"type\": 3, \"id\": \"prod_3\"}, {\"name\": \"sum_11\", \"tooltip\": \"sum_11\", \"type\": 2, \"id\": \"sum_11\"}, {\"name\": \"sum_11_Weights\", \"tooltip\": \"sum_11_Weights\", \"type\": 1, \"id\": \"sum_11_Weights_5\"}, {\"name\": \"indicator_x[0, 1]\", \"tooltip\": \"indicator_x\", \"type\": 0, \"id\": \"indicator_x_6\"}, {\"name\": \"prod_2\", \"tooltip\": \"prod_2\", \"type\": 3, \"id\": \"prod_2\"}, {\"name\": \"sum_21\", \"tooltip\": \"sum_21\", \"type\": 2, \"id\": \"sum_21\"}, {\"name\": \"sum_21_Weights\", \"tooltip\": \"sum_21_Weights\", \"type\": 1, \"id\": \"sum_21_Weights_7\"}, {\"name\": \"indicator_x[2, 3]\", \"tooltip\": \"indicator_x\", \"type\": 0, \"id\": \"indicator_x_8\"}, {\"name\": \"prod_1\", \"tooltip\": \"prod_1\", \"type\": 3, \"id\": \"prod_1\"}, {\"name\": \"root\", \"tooltip\": \"root\", \"type\": 2, \"id\": \"root\"}, {\"name\": \"root_Weights\", \"tooltip\": \"root_Weights\", \"type\": 1, \"id\": \"root_Weights_9\"}, {\"name\": \"indicator_y\", \"tooltip\": \"indicator_y\", \"type\": 0, \"id\": \"indicator_y_10\"}]};\n",
       "\n",
       "   var color = d3.scaleOrdinal(d3.schemeCategory10);\n",
       "\n",
       "   var zoom = d3.zoom()\n",
       "                .scaleExtent([0.1, 10])\n",
       "                .on(\"zoom\", zoomed);\n",
       "\n",
       "   var svg = d3.select(\"#S199dcb8c78354ccdaae16166cff6049e\").\n",
       "                call(zoom);\n",
       "\n",
       "   var width = svg.attr(\"width\");\n",
       "   var height = svg.attr(\"height\");\n",
       "\n",
       "   var simulation = d3.forceSimulation(graph.nodes)\n",
       "                      .on(\"tick\", ticked)\n",
       "                      .force(\"link\", d3.forceLink(graph.links)\n",
       "                                       .distance(80)\n",
       "                                       .id(function(d) { return d.id; }))\n",
       "                      .force(\"charge\", d3.forceManyBody().\n",
       "                                          strength(-1000))\n",
       "                      .force(\"center\", d3.forceCenter(width / 2, height / 2));\n",
       "\n",
       "   /* Contents */\n",
       "   var container = svg.append(\"g\").\n",
       "                       attr(\"class\", \"container\");\n",
       "\n",
       "   var link = container.append(\"g\")\n",
       "                       .selectAll(\"link\")\n",
       "                       .data(graph.links)\n",
       "                       .enter().append(\"line\")\n",
       "                       .attr(\"stroke\", \"#444\")\n",
       "                       .attr(\"stroke-opacity\", \"0.6\")\n",
       "                       .attr(\"stroke-width\",\n",
       "                             function(d) {\n",
       "                               return d.value;\n",
       "                               /*return Math.sqrt(d.value);*/\n",
       "                             });\n",
       "\n",
       "   var link_value = container.append(\"g\")\n",
       "                             .selectAll(\"linkvalue\")\n",
       "                             .data(graph.links)\n",
       "                             .enter().append(\"text\")\n",
       "                             .attr(\"alignment-baseline\", \"middle\")\n",
       "                             .style(\"text-anchor\", \"middle\")\n",
       "                             .text(function(d) { return d.value; });\n",
       "\n",
       "   var node = container.append(\"g\")\n",
       "                       .selectAll(\"node\")\n",
       "                       .data(graph.nodes)\n",
       "                       .enter().append(\"g\")\n",
       "                       .call(d3.drag()\n",
       "                               .on(\"start\", dragstarted)\n",
       "                               .on(\"drag\", dragged)\n",
       "                               .on(\"end\", dragended));\n",
       "\n",
       "   /* Node appearance */\n",
       "   node.append(\"rect\")\n",
       "       .attr(\"height\", 0)\n",
       "       .attr(\"width\", 0)\n",
       "       .attr(\"fill\", function(d) { return color(d.type); })\n",
       "       .attr(\"stroke\", \"#000\")\n",
       "       .attr(\"stroke-width\", \"1px\");\n",
       "\n",
       "   node.append(\"text\")\n",
       "       .attr(\"alignment-baseline\", \"middle\")\n",
       "       .style(\"text-anchor\", \"middle\")\n",
       "       .text(function(d) { return d.name; });\n",
       "\n",
       "   /* Adjust rect width to text */\n",
       "   var margin=10;\n",
       "   node.selectAll('rect')\n",
       "       .attr(\"x\", function(d) {return d3.select(this).attr(\"x\") - (this.parentNode.getBBox().width + margin)/2.0;})\n",
       "       .attr(\"y\", function(d) {return d3.select(this).attr(\"y\") - (this.parentNode.getBBox().height + margin)/2.0;})\n",
       "       .attr(\"width\", function(d) {return this.parentNode.getBBox().width + margin;})\n",
       "       .attr(\"height\", function(d) {return this.parentNode.getBBox().height + margin;});\n",
       "\n",
       "   /* Tooltips */\n",
       "   node.append(\"title\")\n",
       "       .text(function(d) { return d.tooltip; });\n",
       "\n",
       "   /* Functions */\n",
       "   function zoomed() {\n",
       "     container.attr(\"transform\", d3.event.transform);\n",
       "   }\n",
       "\n",
       "   function ticked() {\n",
       "     link\n",
       "       .attr(\"x1\", function(d) { return d.source.x; })\n",
       "       .attr(\"y1\", function(d) { return d.source.y; })\n",
       "       .attr(\"x2\", function(d) { return d.target.x; })\n",
       "       .attr(\"y2\", function(d) { return d.target.y; });\n",
       "\n",
       "     link_value\n",
       "       .attr(\"x\", function(d) { return (d.source.x+d.target.x)/2; })\n",
       "       .attr(\"y\", function(d) { return (d.source.y+d.target.y)/2; })\n",
       "\n",
       "     node.attr(\"transform\",\n",
       "               function(d) { return \"translate(\" + d.x + \",\" + d.y + \")\"; });\n",
       "   }\n",
       "\n",
       "   function dragstarted(d) {\n",
       "     if (!d3.event.active) simulation.alphaTarget(0.3).restart();\n",
       "     d.fx = d.x;\n",
       "     d.fy = d.y;\n",
       "   }\n",
       "\n",
       "   function dragged(d) {\n",
       "     d.fx = d3.event.x;\n",
       "     d.fy = d3.event.y;\n",
       "   }\n",
       "\n",
       "   function dragended(d) {\n",
       "     if (!d3.event.active) simulation.alphaTarget(0);\n",
       "     d.fx = null;\n",
       "     d.fy = null;\n",
       "   }\n",
       "\n",
       " });\n",
       "</script>\n"
      ],
      "text/plain": [
       "<IPython.core.display.HTML object>"
      ]
     },
     "metadata": {},
     "output_type": "display_data"
    }
   ],
   "source": [
    "# Visualize SPN graph\n",
    "spn.display_spn_graph(root)"
   ]
  },
  {
   "cell_type": "markdown",
   "metadata": {},
   "source": [
    "## Initialize weights and build inference Ops"
   ]
  },
  {
   "cell_type": "code",
   "execution_count": 5,
   "metadata": {},
   "outputs": [
    {
     "name": "stderr",
     "output_type": "stream",
     "text": [
      "[WARNING] [tensorflow:__getattr__] From /home/jos/spn/libspn/libspn/graph/leaf/indicator.py:91: The name tf.log is deprecated. Please use tf.math.log instead.\n",
      "\n",
      "[WARNING] [tensorflow:new_func] From /home/jos/.local/lib/python3.5/site-packages/tensorflow/python/ops/math_ops.py:2403: add_dispatch_support.<locals>.wrapper (from tensorflow.python.ops.array_ops) is deprecated and will be removed in a future version.\n",
      "Instructions for updating:\n",
      "Use tf.where in 2.0, which has the same broadcast rule as np.where\n"
     ]
    }
   ],
   "source": [
    "init_weights = spn.initialize_weights(root)\n",
    "marginal_val = root.get_value(inference_type=spn.InferenceType.MARGINAL)\n",
    "mpe_val = root.get_value(inference_type=spn.InferenceType.MPE)"
   ]
  },
  {
   "cell_type": "code",
   "execution_count": 6,
   "metadata": {},
   "outputs": [
    {
     "name": "stdout",
     "output_type": "stream",
     "text": [
      "[[0.06      ]\n",
      " [0.30999994]\n",
      " [1.        ]]\n",
      "[[0.06 ]\n",
      " [0.14 ]\n",
      " [0.216]]\n"
     ]
    }
   ],
   "source": [
    "indicator_x_data = [\n",
    "    [0, 1],\n",
    "    [0, -1],\n",
    "    [-1,-1]\n",
    "]\n",
    "\n",
    "indicator_y_data = [[0], [-1], [-1]]\n",
    "\n",
    "with tf.Session() as sess:\n",
    "    init_weights.run()\n",
    "    marginal_val_arr = sess.run(marginal_val, feed_dict={indicator_x: indicator_x_data, indicator_y: indicator_y_data})\n",
    "    mpe_val_arr = sess.run(mpe_val, feed_dict={indicator_x: indicator_x_data, indicator_y: indicator_y_data})\n",
    "\n",
    "print(marginal_val_arr)\n",
    "print(mpe_val_arr)"
   ]
  }
 ],
 "metadata": {
  "kernelspec": {
   "display_name": "Python 3",
   "language": "python",
   "name": "python3"
  },
  "language_info": {
   "codemirror_mode": {
    "name": "ipython",
    "version": 3
   },
   "file_extension": ".py",
   "mimetype": "text/x-python",
   "name": "python",
   "nbconvert_exporter": "python",
   "pygments_lexer": "ipython3",
   "version": "3.5.2"
  }
 },
 "nbformat": 4,
 "nbformat_minor": 2
}
