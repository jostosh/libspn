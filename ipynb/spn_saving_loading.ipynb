{
 "cells": [
  {
   "cell_type": "code",
   "execution_count": 1,
   "metadata": {
    "collapsed": false
   },
   "outputs": [],
   "source": [
    "import libspn as spn\n",
    "import tensorflow as tf"
   ]
  },
  {
   "cell_type": "markdown",
   "metadata": {},
   "source": [
    "# Generate Dense SPN with Random Weights"
   ]
  },
  {
   "cell_type": "code",
   "execution_count": 2,
   "metadata": {
    "collapsed": false
   },
   "outputs": [],
   "source": [
    "iv=spn.IVs(num_vars=3, num_vals=2)\n",
    "gen=spn.DenseSPNGenerator(num_decomps=1, num_subsets=3, num_mixtures=2)\n",
    "root=gen.generate(iv)\n",
    "spn.generate_weights(root, init_value=tf.initializers.random_uniform())"
   ]
  },
  {
   "cell_type": "code",
   "execution_count": 3,
   "metadata": {
    "collapsed": false
   },
   "outputs": [
    {
     "data": {
      "text/html": [
       "<svg id=\"S0b3d3701d94e4cd68b2849d17ff4f7f5\" width=\"950\" height=\"800\"></svg>\n",
       "<script>\n",
       " require.config({\n",
       "   paths: {\n",
       "     d3: 'https://d3js.org/d3.v4.min'\n",
       "   }\n",
       " });\n",
       " require(['d3'], function(d3){\n",
       "\n",
       "   var graph = {\"links\": [{\"source\": \"Sums1.3/Sum2_Weights_1\", \"target\": \"Sums1.3/Sum2\", \"value\": 2}, {\"source\": \"IVs_2\", \"target\": \"Sums1.3/Sum2\", \"value\": 1}, {\"source\": \"IVs_3\", \"target\": \"Sums1.3/Sum2\", \"value\": 1}, {\"source\": \"Sums1.2/Sum2_Weights_4\", \"target\": \"Sums1.2/Sum2\", \"value\": 2}, {\"source\": \"IVs_5\", \"target\": \"Sums1.2/Sum2\", \"value\": 1}, {\"source\": \"IVs_6\", \"target\": \"Sums1.2/Sum2\", \"value\": 1}, {\"source\": \"Sums1.1/Sum2_Weights_7\", \"target\": \"Sums1.1/Sum2\", \"value\": 2}, {\"source\": \"IVs_8\", \"target\": \"Sums1.1/Sum2\", \"value\": 1}, {\"source\": \"IVs_9\", \"target\": \"Sums1.1/Sum2\", \"value\": 1}, {\"source\": \"Sums1.1/Sum2\", \"target\": \"Products1/Product8\", \"value\": 1}, {\"source\": \"Sums1.2/Sum2\", \"target\": \"Products1/Product8\", \"value\": 1}, {\"source\": \"Sums1.3/Sum2\", \"target\": \"Products1/Product8\", \"value\": 1}, {\"source\": \"Sums1.1/Sum1_Weights_10\", \"target\": \"Sums1.1/Sum1\", \"value\": 2}, {\"source\": \"IVs_11\", \"target\": \"Sums1.1/Sum1\", \"value\": 1}, {\"source\": \"IVs_12\", \"target\": \"Sums1.1/Sum1\", \"value\": 1}, {\"source\": \"Sums1.1/Sum1\", \"target\": \"Products1/Product7\", \"value\": 1}, {\"source\": \"Sums1.2/Sum2\", \"target\": \"Products1/Product7\", \"value\": 1}, {\"source\": \"Sums1.3/Sum2\", \"target\": \"Products1/Product7\", \"value\": 1}, {\"source\": \"Sums1.2/Sum1_Weights_13\", \"target\": \"Sums1.2/Sum1\", \"value\": 2}, {\"source\": \"IVs_14\", \"target\": \"Sums1.2/Sum1\", \"value\": 1}, {\"source\": \"IVs_15\", \"target\": \"Sums1.2/Sum1\", \"value\": 1}, {\"source\": \"Sums1.1/Sum2\", \"target\": \"Products1/Product6\", \"value\": 1}, {\"source\": \"Sums1.2/Sum1\", \"target\": \"Products1/Product6\", \"value\": 1}, {\"source\": \"Sums1.3/Sum2\", \"target\": \"Products1/Product6\", \"value\": 1}, {\"source\": \"Sums1.1/Sum1\", \"target\": \"Products1/Product5\", \"value\": 1}, {\"source\": \"Sums1.2/Sum1\", \"target\": \"Products1/Product5\", \"value\": 1}, {\"source\": \"Sums1.3/Sum2\", \"target\": \"Products1/Product5\", \"value\": 1}, {\"source\": \"Sums1.3/Sum1_Weights_16\", \"target\": \"Sums1.3/Sum1\", \"value\": 2}, {\"source\": \"IVs_17\", \"target\": \"Sums1.3/Sum1\", \"value\": 1}, {\"source\": \"IVs_18\", \"target\": \"Sums1.3/Sum1\", \"value\": 1}, {\"source\": \"Sums1.1/Sum2\", \"target\": \"Products1/Product4\", \"value\": 1}, {\"source\": \"Sums1.2/Sum2\", \"target\": \"Products1/Product4\", \"value\": 1}, {\"source\": \"Sums1.3/Sum1\", \"target\": \"Products1/Product4\", \"value\": 1}, {\"source\": \"Sums1.1/Sum1\", \"target\": \"Products1/Product3\", \"value\": 1}, {\"source\": \"Sums1.2/Sum2\", \"target\": \"Products1/Product3\", \"value\": 1}, {\"source\": \"Sums1.3/Sum1\", \"target\": \"Products1/Product3\", \"value\": 1}, {\"source\": \"Sums1.1/Sum2\", \"target\": \"Products1/Product2\", \"value\": 1}, {\"source\": \"Sums1.2/Sum1\", \"target\": \"Products1/Product2\", \"value\": 1}, {\"source\": \"Sums1.3/Sum1\", \"target\": \"Products1/Product2\", \"value\": 1}, {\"source\": \"Sums1.1/Sum1\", \"target\": \"Products1/Product1\", \"value\": 1}, {\"source\": \"Sums1.2/Sum1\", \"target\": \"Products1/Product1\", \"value\": 1}, {\"source\": \"Sums1.3/Sum1\", \"target\": \"Products1/Product1\", \"value\": 1}, {\"source\": \"Sum_Weights_19\", \"target\": \"Sum\", \"value\": 8}, {\"source\": \"Products1/Product1\", \"target\": \"Sum\", \"value\": 1}, {\"source\": \"Products1/Product2\", \"target\": \"Sum\", \"value\": 1}, {\"source\": \"Products1/Product3\", \"target\": \"Sum\", \"value\": 1}, {\"source\": \"Products1/Product4\", \"target\": \"Sum\", \"value\": 1}, {\"source\": \"Products1/Product5\", \"target\": \"Sum\", \"value\": 1}, {\"source\": \"Products1/Product6\", \"target\": \"Sum\", \"value\": 1}, {\"source\": \"Products1/Product7\", \"target\": \"Sum\", \"value\": 1}, {\"source\": \"Products1/Product8\", \"target\": \"Sum\", \"value\": 1}], \"nodes\": [{\"tooltip\": \"Sums1.3/Sum2\", \"name\": \"Sums1.3/Sum2\", \"type\": 2, \"id\": \"Sums1.3/Sum2\"}, {\"tooltip\": \"Sums1.3/Sum2_Weights\", \"name\": \"Sums1.3/Sum2_Weights\", \"type\": 1, \"id\": \"Sums1.3/Sum2_Weights_1\"}, {\"tooltip\": \"IVs\", \"name\": \"IVs[0]\", \"type\": 0, \"id\": \"IVs_2\"}, {\"tooltip\": \"IVs\", \"name\": \"IVs[1]\", \"type\": 0, \"id\": \"IVs_3\"}, {\"tooltip\": \"Sums1.2/Sum2\", \"name\": \"Sums1.2/Sum2\", \"type\": 2, \"id\": \"Sums1.2/Sum2\"}, {\"tooltip\": \"Sums1.2/Sum2_Weights\", \"name\": \"Sums1.2/Sum2_Weights\", \"type\": 1, \"id\": \"Sums1.2/Sum2_Weights_4\"}, {\"tooltip\": \"IVs\", \"name\": \"IVs[2]\", \"type\": 0, \"id\": \"IVs_5\"}, {\"tooltip\": \"IVs\", \"name\": \"IVs[3]\", \"type\": 0, \"id\": \"IVs_6\"}, {\"tooltip\": \"Sums1.1/Sum2\", \"name\": \"Sums1.1/Sum2\", \"type\": 2, \"id\": \"Sums1.1/Sum2\"}, {\"tooltip\": \"Sums1.1/Sum2_Weights\", \"name\": \"Sums1.1/Sum2_Weights\", \"type\": 1, \"id\": \"Sums1.1/Sum2_Weights_7\"}, {\"tooltip\": \"IVs\", \"name\": \"IVs[4]\", \"type\": 0, \"id\": \"IVs_8\"}, {\"tooltip\": \"IVs\", \"name\": \"IVs[5]\", \"type\": 0, \"id\": \"IVs_9\"}, {\"tooltip\": \"Products1/Product8\", \"name\": \"Products1/Product8\", \"type\": 3, \"id\": \"Products1/Product8\"}, {\"tooltip\": \"Sums1.1/Sum1\", \"name\": \"Sums1.1/Sum1\", \"type\": 2, \"id\": \"Sums1.1/Sum1\"}, {\"tooltip\": \"Sums1.1/Sum1_Weights\", \"name\": \"Sums1.1/Sum1_Weights\", \"type\": 1, \"id\": \"Sums1.1/Sum1_Weights_10\"}, {\"tooltip\": \"IVs\", \"name\": \"IVs[4]\", \"type\": 0, \"id\": \"IVs_11\"}, {\"tooltip\": \"IVs\", \"name\": \"IVs[5]\", \"type\": 0, \"id\": \"IVs_12\"}, {\"tooltip\": \"Products1/Product7\", \"name\": \"Products1/Product7\", \"type\": 3, \"id\": \"Products1/Product7\"}, {\"tooltip\": \"Sums1.2/Sum1\", \"name\": \"Sums1.2/Sum1\", \"type\": 2, \"id\": \"Sums1.2/Sum1\"}, {\"tooltip\": \"Sums1.2/Sum1_Weights\", \"name\": \"Sums1.2/Sum1_Weights\", \"type\": 1, \"id\": \"Sums1.2/Sum1_Weights_13\"}, {\"tooltip\": \"IVs\", \"name\": \"IVs[2]\", \"type\": 0, \"id\": \"IVs_14\"}, {\"tooltip\": \"IVs\", \"name\": \"IVs[3]\", \"type\": 0, \"id\": \"IVs_15\"}, {\"tooltip\": \"Products1/Product6\", \"name\": \"Products1/Product6\", \"type\": 3, \"id\": \"Products1/Product6\"}, {\"tooltip\": \"Products1/Product5\", \"name\": \"Products1/Product5\", \"type\": 3, \"id\": \"Products1/Product5\"}, {\"tooltip\": \"Sums1.3/Sum1\", \"name\": \"Sums1.3/Sum1\", \"type\": 2, \"id\": \"Sums1.3/Sum1\"}, {\"tooltip\": \"Sums1.3/Sum1_Weights\", \"name\": \"Sums1.3/Sum1_Weights\", \"type\": 1, \"id\": \"Sums1.3/Sum1_Weights_16\"}, {\"tooltip\": \"IVs\", \"name\": \"IVs[0]\", \"type\": 0, \"id\": \"IVs_17\"}, {\"tooltip\": \"IVs\", \"name\": \"IVs[1]\", \"type\": 0, \"id\": \"IVs_18\"}, {\"tooltip\": \"Products1/Product4\", \"name\": \"Products1/Product4\", \"type\": 3, \"id\": \"Products1/Product4\"}, {\"tooltip\": \"Products1/Product3\", \"name\": \"Products1/Product3\", \"type\": 3, \"id\": \"Products1/Product3\"}, {\"tooltip\": \"Products1/Product2\", \"name\": \"Products1/Product2\", \"type\": 3, \"id\": \"Products1/Product2\"}, {\"tooltip\": \"Products1/Product1\", \"name\": \"Products1/Product1\", \"type\": 3, \"id\": \"Products1/Product1\"}, {\"tooltip\": \"Sum\", \"name\": \"Sum\", \"type\": 2, \"id\": \"Sum\"}, {\"tooltip\": \"Sum_Weights\", \"name\": \"Sum_Weights\", \"type\": 1, \"id\": \"Sum_Weights_19\"}]};\n",
       "\n",
       "   var color = d3.scaleOrdinal(d3.schemeCategory10);\n",
       "\n",
       "   var zoom = d3.zoom()\n",
       "                .scaleExtent([0.1, 10])\n",
       "                .on(\"zoom\", zoomed);\n",
       "\n",
       "   var svg = d3.select(\"#S0b3d3701d94e4cd68b2849d17ff4f7f5\").\n",
       "                call(zoom);\n",
       "\n",
       "   var width = svg.attr(\"width\");\n",
       "   var height = svg.attr(\"height\");\n",
       "\n",
       "   var simulation = d3.forceSimulation(graph.nodes)\n",
       "                      .on(\"tick\", ticked)\n",
       "                      .force(\"link\", d3.forceLink(graph.links)\n",
       "                                       .distance(80)\n",
       "                                       .id(function(d) { return d.id; }))\n",
       "                      .force(\"charge\", d3.forceManyBody().\n",
       "                                          strength(-1000))\n",
       "                      .force(\"center\", d3.forceCenter(width / 2, height / 2));\n",
       "\n",
       "   /* Contents */\n",
       "   var container = svg.append(\"g\").\n",
       "                       attr(\"class\", \"container\");\n",
       "\n",
       "   var link = container.append(\"g\")\n",
       "                       .selectAll(\"link\")\n",
       "                       .data(graph.links)\n",
       "                       .enter().append(\"line\")\n",
       "                       .attr(\"stroke\", \"#444\")\n",
       "                       .attr(\"stroke-opacity\", \"0.6\")\n",
       "                       .attr(\"stroke-width\",\n",
       "                             function(d) {\n",
       "                               return d.value;\n",
       "                               /*return Math.sqrt(d.value);*/\n",
       "                             });\n",
       "\n",
       "   var link_value = container.append(\"g\")\n",
       "                             .selectAll(\"linkvalue\")\n",
       "                             .data(graph.links)\n",
       "                             .enter().append(\"text\")\n",
       "                             .attr(\"alignment-baseline\", \"middle\")\n",
       "                             .style(\"text-anchor\", \"middle\")\n",
       "                             .text(function(d) { return d.value; });\n",
       "\n",
       "   var node = container.append(\"g\")\n",
       "                       .selectAll(\"node\")\n",
       "                       .data(graph.nodes)\n",
       "                       .enter().append(\"g\")\n",
       "                       .call(d3.drag()\n",
       "                               .on(\"start\", dragstarted)\n",
       "                               .on(\"drag\", dragged)\n",
       "                               .on(\"end\", dragended));\n",
       "\n",
       "   /* Node appearance */\n",
       "   node.append(\"rect\")\n",
       "       .attr(\"height\", 0)\n",
       "       .attr(\"width\", 0)\n",
       "       .attr(\"fill\", function(d) { return color(d.type); })\n",
       "       .attr(\"stroke\", \"#000\")\n",
       "       .attr(\"stroke-width\", \"1px\");\n",
       "\n",
       "   node.append(\"text\")\n",
       "       .attr(\"alignment-baseline\", \"middle\")\n",
       "       .style(\"text-anchor\", \"middle\")\n",
       "       .text(function(d) { return d.name; });\n",
       "\n",
       "   /* Adjust rect width to text */\n",
       "   var margin=10;\n",
       "   node.selectAll('rect')\n",
       "       .attr(\"x\", function(d) {return d3.select(this).attr(\"x\") - (this.parentNode.getBBox().width + margin)/2.0;})\n",
       "       .attr(\"y\", function(d) {return d3.select(this).attr(\"y\") - (this.parentNode.getBBox().height + margin)/2.0;})\n",
       "       .attr(\"width\", function(d) {return this.parentNode.getBBox().width + margin;})\n",
       "       .attr(\"height\", function(d) {return this.parentNode.getBBox().height + margin;});\n",
       "\n",
       "   /* Tooltips */\n",
       "   node.append(\"title\")\n",
       "       .text(function(d) { return d.tooltip; });\n",
       "\n",
       "   /* Functions */\n",
       "   function zoomed() {\n",
       "     container.attr(\"transform\", d3.event.transform);\n",
       "   }\n",
       "\n",
       "   function ticked() {\n",
       "     link\n",
       "       .attr(\"x1\", function(d) { return d.source.x; })\n",
       "       .attr(\"y1\", function(d) { return d.source.y; })\n",
       "       .attr(\"x2\", function(d) { return d.target.x; })\n",
       "       .attr(\"y2\", function(d) { return d.target.y; });\n",
       "\n",
       "     link_value\n",
       "       .attr(\"x\", function(d) { return (d.source.x+d.target.x)/2; })\n",
       "       .attr(\"y\", function(d) { return (d.source.y+d.target.y)/2; })\n",
       "\n",
       "     node.attr(\"transform\",\n",
       "               function(d) { return \"translate(\" + d.x + \",\" + d.y + \")\"; });\n",
       "   }\n",
       "\n",
       "   function dragstarted(d) {\n",
       "     if (!d3.event.active) simulation.alphaTarget(0.3).restart();\n",
       "     d.fx = d.x;\n",
       "     d.fy = d.y;\n",
       "   }\n",
       "\n",
       "   function dragged(d) {\n",
       "     d.fx = d3.event.x;\n",
       "     d.fy = d3.event.y;\n",
       "   }\n",
       "\n",
       "   function dragended(d) {\n",
       "     if (!d3.event.active) simulation.alphaTarget(0);\n",
       "     d.fx = null;\n",
       "     d.fy = null;\n",
       "   }\n",
       "\n",
       " });\n",
       "</script>\n"
      ],
      "text/plain": [
       "<IPython.core.display.HTML object>"
      ]
     },
     "metadata": {},
     "output_type": "execute_result"
    }
   ],
   "source": [
    "spn.display_spn_graph(root, skip_params=False)"
   ]
  },
  {
   "cell_type": "markdown",
   "metadata": {},
   "source": [
    "# Save With Uninitialized Weights"
   ]
  },
  {
   "cell_type": "code",
   "execution_count": 4,
   "metadata": {
    "collapsed": false
   },
   "outputs": [],
   "source": [
    "spn.JSONSaver('/home/czikus/test_uninit.spn', pretty=True).save(root)"
   ]
  },
  {
   "cell_type": "markdown",
   "metadata": {},
   "source": [
    "# Initialize and Save With Initialized Weights"
   ]
  },
  {
   "cell_type": "code",
   "execution_count": 5,
   "metadata": {
    "collapsed": false
   },
   "outputs": [
    {
     "name": "stdout",
     "output_type": "stream",
     "text": [
      "[[ 1.        ]\n",
      " [ 0.0619872 ]\n",
      " [ 0.19847235]]\n"
     ]
    }
   ],
   "source": [
    "init=spn.initialize_weights(root)\n",
    "value = root.get_value()\n",
    "with tf.Session() as sess:\n",
    "    sess.run(init)\n",
    "    first_value = sess.run(value, feed_dict={iv: [[-1, -1, -1],\n",
    "                                                  [0,0,0],\n",
    "                                                  [1,1,1]]})\n",
    "    print(first_value)\n",
    "    spn.JSONSaver('/home/czikus/test_init.spn').save(root)"
   ]
  },
  {
   "cell_type": "markdown",
   "metadata": {},
   "source": [
    "# Load and Run the SPN With Uninitialzed Weights"
   ]
  },
  {
   "cell_type": "code",
   "execution_count": 6,
   "metadata": {
    "collapsed": false
   },
   "outputs": [
    {
     "name": "stdout",
     "output_type": "stream",
     "text": [
      "Sum_1\n"
     ]
    }
   ],
   "source": [
    "loader=spn.JSONLoader('/home/czikus/test_uninit.spn')\n",
    "root=loader.load()\n",
    "print(root)"
   ]
  },
  {
   "cell_type": "code",
   "execution_count": 7,
   "metadata": {
    "collapsed": false
   },
   "outputs": [
    {
     "data": {
      "text/html": [
       "<svg id=\"S66273dec64c94d649129a35e32cbfb17\" width=\"950\" height=\"800\"></svg>\n",
       "<script>\n",
       " require.config({\n",
       "   paths: {\n",
       "     d3: 'https://d3js.org/d3.v4.min'\n",
       "   }\n",
       " });\n",
       " require(['d3'], function(d3){\n",
       "\n",
       "   var graph = {\"links\": [{\"source\": \"Sums1.3/Sum2_Weights_1_1\", \"target\": \"Sums1.3/Sum2_1\", \"value\": 2}, {\"source\": \"IVs_1_2\", \"target\": \"Sums1.3/Sum2_1\", \"value\": 1}, {\"source\": \"IVs_1_3\", \"target\": \"Sums1.3/Sum2_1\", \"value\": 1}, {\"source\": \"Sums1.2/Sum2_Weights_1_4\", \"target\": \"Sums1.2/Sum2_1\", \"value\": 2}, {\"source\": \"IVs_1_5\", \"target\": \"Sums1.2/Sum2_1\", \"value\": 1}, {\"source\": \"IVs_1_6\", \"target\": \"Sums1.2/Sum2_1\", \"value\": 1}, {\"source\": \"Sums1.1/Sum2_Weights_1_7\", \"target\": \"Sums1.1/Sum2_1\", \"value\": 2}, {\"source\": \"IVs_1_8\", \"target\": \"Sums1.1/Sum2_1\", \"value\": 1}, {\"source\": \"IVs_1_9\", \"target\": \"Sums1.1/Sum2_1\", \"value\": 1}, {\"source\": \"Sums1.1/Sum2_1\", \"target\": \"Products1/Product8_1\", \"value\": 1}, {\"source\": \"Sums1.2/Sum2_1\", \"target\": \"Products1/Product8_1\", \"value\": 1}, {\"source\": \"Sums1.3/Sum2_1\", \"target\": \"Products1/Product8_1\", \"value\": 1}, {\"source\": \"Sums1.1/Sum1_Weights_1_10\", \"target\": \"Sums1.1/Sum1_1\", \"value\": 2}, {\"source\": \"IVs_1_11\", \"target\": \"Sums1.1/Sum1_1\", \"value\": 1}, {\"source\": \"IVs_1_12\", \"target\": \"Sums1.1/Sum1_1\", \"value\": 1}, {\"source\": \"Sums1.1/Sum1_1\", \"target\": \"Products1/Product7_1\", \"value\": 1}, {\"source\": \"Sums1.2/Sum2_1\", \"target\": \"Products1/Product7_1\", \"value\": 1}, {\"source\": \"Sums1.3/Sum2_1\", \"target\": \"Products1/Product7_1\", \"value\": 1}, {\"source\": \"Sums1.2/Sum1_Weights_1_13\", \"target\": \"Sums1.2/Sum1_1\", \"value\": 2}, {\"source\": \"IVs_1_14\", \"target\": \"Sums1.2/Sum1_1\", \"value\": 1}, {\"source\": \"IVs_1_15\", \"target\": \"Sums1.2/Sum1_1\", \"value\": 1}, {\"source\": \"Sums1.1/Sum2_1\", \"target\": \"Products1/Product6_1\", \"value\": 1}, {\"source\": \"Sums1.2/Sum1_1\", \"target\": \"Products1/Product6_1\", \"value\": 1}, {\"source\": \"Sums1.3/Sum2_1\", \"target\": \"Products1/Product6_1\", \"value\": 1}, {\"source\": \"Sums1.1/Sum1_1\", \"target\": \"Products1/Product5_1\", \"value\": 1}, {\"source\": \"Sums1.2/Sum1_1\", \"target\": \"Products1/Product5_1\", \"value\": 1}, {\"source\": \"Sums1.3/Sum2_1\", \"target\": \"Products1/Product5_1\", \"value\": 1}, {\"source\": \"Sums1.3/Sum1_Weights_1_16\", \"target\": \"Sums1.3/Sum1_1\", \"value\": 2}, {\"source\": \"IVs_1_17\", \"target\": \"Sums1.3/Sum1_1\", \"value\": 1}, {\"source\": \"IVs_1_18\", \"target\": \"Sums1.3/Sum1_1\", \"value\": 1}, {\"source\": \"Sums1.1/Sum2_1\", \"target\": \"Products1/Product4_1\", \"value\": 1}, {\"source\": \"Sums1.2/Sum2_1\", \"target\": \"Products1/Product4_1\", \"value\": 1}, {\"source\": \"Sums1.3/Sum1_1\", \"target\": \"Products1/Product4_1\", \"value\": 1}, {\"source\": \"Sums1.1/Sum1_1\", \"target\": \"Products1/Product3_1\", \"value\": 1}, {\"source\": \"Sums1.2/Sum2_1\", \"target\": \"Products1/Product3_1\", \"value\": 1}, {\"source\": \"Sums1.3/Sum1_1\", \"target\": \"Products1/Product3_1\", \"value\": 1}, {\"source\": \"Sums1.1/Sum2_1\", \"target\": \"Products1/Product2_1\", \"value\": 1}, {\"source\": \"Sums1.2/Sum1_1\", \"target\": \"Products1/Product2_1\", \"value\": 1}, {\"source\": \"Sums1.3/Sum1_1\", \"target\": \"Products1/Product2_1\", \"value\": 1}, {\"source\": \"Sums1.1/Sum1_1\", \"target\": \"Products1/Product1_1\", \"value\": 1}, {\"source\": \"Sums1.2/Sum1_1\", \"target\": \"Products1/Product1_1\", \"value\": 1}, {\"source\": \"Sums1.3/Sum1_1\", \"target\": \"Products1/Product1_1\", \"value\": 1}, {\"source\": \"Sum_Weights_1_19\", \"target\": \"Sum_1\", \"value\": 8}, {\"source\": \"Products1/Product1_1\", \"target\": \"Sum_1\", \"value\": 1}, {\"source\": \"Products1/Product2_1\", \"target\": \"Sum_1\", \"value\": 1}, {\"source\": \"Products1/Product3_1\", \"target\": \"Sum_1\", \"value\": 1}, {\"source\": \"Products1/Product4_1\", \"target\": \"Sum_1\", \"value\": 1}, {\"source\": \"Products1/Product5_1\", \"target\": \"Sum_1\", \"value\": 1}, {\"source\": \"Products1/Product6_1\", \"target\": \"Sum_1\", \"value\": 1}, {\"source\": \"Products1/Product7_1\", \"target\": \"Sum_1\", \"value\": 1}, {\"source\": \"Products1/Product8_1\", \"target\": \"Sum_1\", \"value\": 1}], \"nodes\": [{\"tooltip\": \"Sums1.3/Sum2_1\", \"name\": \"Sums1.3/Sum2_1\", \"type\": 2, \"id\": \"Sums1.3/Sum2_1\"}, {\"tooltip\": \"Sums1.3/Sum2_Weights_1\", \"name\": \"Sums1.3/Sum2_Weights_1\", \"type\": 1, \"id\": \"Sums1.3/Sum2_Weights_1_1\"}, {\"tooltip\": \"IVs_1\", \"name\": \"IVs_1[0]\", \"type\": 0, \"id\": \"IVs_1_2\"}, {\"tooltip\": \"IVs_1\", \"name\": \"IVs_1[1]\", \"type\": 0, \"id\": \"IVs_1_3\"}, {\"tooltip\": \"Sums1.2/Sum2_1\", \"name\": \"Sums1.2/Sum2_1\", \"type\": 2, \"id\": \"Sums1.2/Sum2_1\"}, {\"tooltip\": \"Sums1.2/Sum2_Weights_1\", \"name\": \"Sums1.2/Sum2_Weights_1\", \"type\": 1, \"id\": \"Sums1.2/Sum2_Weights_1_4\"}, {\"tooltip\": \"IVs_1\", \"name\": \"IVs_1[2]\", \"type\": 0, \"id\": \"IVs_1_5\"}, {\"tooltip\": \"IVs_1\", \"name\": \"IVs_1[3]\", \"type\": 0, \"id\": \"IVs_1_6\"}, {\"tooltip\": \"Sums1.1/Sum2_1\", \"name\": \"Sums1.1/Sum2_1\", \"type\": 2, \"id\": \"Sums1.1/Sum2_1\"}, {\"tooltip\": \"Sums1.1/Sum2_Weights_1\", \"name\": \"Sums1.1/Sum2_Weights_1\", \"type\": 1, \"id\": \"Sums1.1/Sum2_Weights_1_7\"}, {\"tooltip\": \"IVs_1\", \"name\": \"IVs_1[4]\", \"type\": 0, \"id\": \"IVs_1_8\"}, {\"tooltip\": \"IVs_1\", \"name\": \"IVs_1[5]\", \"type\": 0, \"id\": \"IVs_1_9\"}, {\"tooltip\": \"Products1/Product8_1\", \"name\": \"Products1/Product8_1\", \"type\": 3, \"id\": \"Products1/Product8_1\"}, {\"tooltip\": \"Sums1.1/Sum1_1\", \"name\": \"Sums1.1/Sum1_1\", \"type\": 2, \"id\": \"Sums1.1/Sum1_1\"}, {\"tooltip\": \"Sums1.1/Sum1_Weights_1\", \"name\": \"Sums1.1/Sum1_Weights_1\", \"type\": 1, \"id\": \"Sums1.1/Sum1_Weights_1_10\"}, {\"tooltip\": \"IVs_1\", \"name\": \"IVs_1[4]\", \"type\": 0, \"id\": \"IVs_1_11\"}, {\"tooltip\": \"IVs_1\", \"name\": \"IVs_1[5]\", \"type\": 0, \"id\": \"IVs_1_12\"}, {\"tooltip\": \"Products1/Product7_1\", \"name\": \"Products1/Product7_1\", \"type\": 3, \"id\": \"Products1/Product7_1\"}, {\"tooltip\": \"Sums1.2/Sum1_1\", \"name\": \"Sums1.2/Sum1_1\", \"type\": 2, \"id\": \"Sums1.2/Sum1_1\"}, {\"tooltip\": \"Sums1.2/Sum1_Weights_1\", \"name\": \"Sums1.2/Sum1_Weights_1\", \"type\": 1, \"id\": \"Sums1.2/Sum1_Weights_1_13\"}, {\"tooltip\": \"IVs_1\", \"name\": \"IVs_1[2]\", \"type\": 0, \"id\": \"IVs_1_14\"}, {\"tooltip\": \"IVs_1\", \"name\": \"IVs_1[3]\", \"type\": 0, \"id\": \"IVs_1_15\"}, {\"tooltip\": \"Products1/Product6_1\", \"name\": \"Products1/Product6_1\", \"type\": 3, \"id\": \"Products1/Product6_1\"}, {\"tooltip\": \"Products1/Product5_1\", \"name\": \"Products1/Product5_1\", \"type\": 3, \"id\": \"Products1/Product5_1\"}, {\"tooltip\": \"Sums1.3/Sum1_1\", \"name\": \"Sums1.3/Sum1_1\", \"type\": 2, \"id\": \"Sums1.3/Sum1_1\"}, {\"tooltip\": \"Sums1.3/Sum1_Weights_1\", \"name\": \"Sums1.3/Sum1_Weights_1\", \"type\": 1, \"id\": \"Sums1.3/Sum1_Weights_1_16\"}, {\"tooltip\": \"IVs_1\", \"name\": \"IVs_1[0]\", \"type\": 0, \"id\": \"IVs_1_17\"}, {\"tooltip\": \"IVs_1\", \"name\": \"IVs_1[1]\", \"type\": 0, \"id\": \"IVs_1_18\"}, {\"tooltip\": \"Products1/Product4_1\", \"name\": \"Products1/Product4_1\", \"type\": 3, \"id\": \"Products1/Product4_1\"}, {\"tooltip\": \"Products1/Product3_1\", \"name\": \"Products1/Product3_1\", \"type\": 3, \"id\": \"Products1/Product3_1\"}, {\"tooltip\": \"Products1/Product2_1\", \"name\": \"Products1/Product2_1\", \"type\": 3, \"id\": \"Products1/Product2_1\"}, {\"tooltip\": \"Products1/Product1_1\", \"name\": \"Products1/Product1_1\", \"type\": 3, \"id\": \"Products1/Product1_1\"}, {\"tooltip\": \"Sum_1\", \"name\": \"Sum_1\", \"type\": 2, \"id\": \"Sum_1\"}, {\"tooltip\": \"Sum_Weights_1\", \"name\": \"Sum_Weights_1\", \"type\": 1, \"id\": \"Sum_Weights_1_19\"}]};\n",
       "\n",
       "   var color = d3.scaleOrdinal(d3.schemeCategory10);\n",
       "\n",
       "   var zoom = d3.zoom()\n",
       "                .scaleExtent([0.1, 10])\n",
       "                .on(\"zoom\", zoomed);\n",
       "\n",
       "   var svg = d3.select(\"#S66273dec64c94d649129a35e32cbfb17\").\n",
       "                call(zoom);\n",
       "\n",
       "   var width = svg.attr(\"width\");\n",
       "   var height = svg.attr(\"height\");\n",
       "\n",
       "   var simulation = d3.forceSimulation(graph.nodes)\n",
       "                      .on(\"tick\", ticked)\n",
       "                      .force(\"link\", d3.forceLink(graph.links)\n",
       "                                       .distance(80)\n",
       "                                       .id(function(d) { return d.id; }))\n",
       "                      .force(\"charge\", d3.forceManyBody().\n",
       "                                          strength(-1000))\n",
       "                      .force(\"center\", d3.forceCenter(width / 2, height / 2));\n",
       "\n",
       "   /* Contents */\n",
       "   var container = svg.append(\"g\").\n",
       "                       attr(\"class\", \"container\");\n",
       "\n",
       "   var link = container.append(\"g\")\n",
       "                       .selectAll(\"link\")\n",
       "                       .data(graph.links)\n",
       "                       .enter().append(\"line\")\n",
       "                       .attr(\"stroke\", \"#444\")\n",
       "                       .attr(\"stroke-opacity\", \"0.6\")\n",
       "                       .attr(\"stroke-width\",\n",
       "                             function(d) {\n",
       "                               return d.value;\n",
       "                               /*return Math.sqrt(d.value);*/\n",
       "                             });\n",
       "\n",
       "   var link_value = container.append(\"g\")\n",
       "                             .selectAll(\"linkvalue\")\n",
       "                             .data(graph.links)\n",
       "                             .enter().append(\"text\")\n",
       "                             .attr(\"alignment-baseline\", \"middle\")\n",
       "                             .style(\"text-anchor\", \"middle\")\n",
       "                             .text(function(d) { return d.value; });\n",
       "\n",
       "   var node = container.append(\"g\")\n",
       "                       .selectAll(\"node\")\n",
       "                       .data(graph.nodes)\n",
       "                       .enter().append(\"g\")\n",
       "                       .call(d3.drag()\n",
       "                               .on(\"start\", dragstarted)\n",
       "                               .on(\"drag\", dragged)\n",
       "                               .on(\"end\", dragended));\n",
       "\n",
       "   /* Node appearance */\n",
       "   node.append(\"rect\")\n",
       "       .attr(\"height\", 0)\n",
       "       .attr(\"width\", 0)\n",
       "       .attr(\"fill\", function(d) { return color(d.type); })\n",
       "       .attr(\"stroke\", \"#000\")\n",
       "       .attr(\"stroke-width\", \"1px\");\n",
       "\n",
       "   node.append(\"text\")\n",
       "       .attr(\"alignment-baseline\", \"middle\")\n",
       "       .style(\"text-anchor\", \"middle\")\n",
       "       .text(function(d) { return d.name; });\n",
       "\n",
       "   /* Adjust rect width to text */\n",
       "   var margin=10;\n",
       "   node.selectAll('rect')\n",
       "       .attr(\"x\", function(d) {return d3.select(this).attr(\"x\") - (this.parentNode.getBBox().width + margin)/2.0;})\n",
       "       .attr(\"y\", function(d) {return d3.select(this).attr(\"y\") - (this.parentNode.getBBox().height + margin)/2.0;})\n",
       "       .attr(\"width\", function(d) {return this.parentNode.getBBox().width + margin;})\n",
       "       .attr(\"height\", function(d) {return this.parentNode.getBBox().height + margin;});\n",
       "\n",
       "   /* Tooltips */\n",
       "   node.append(\"title\")\n",
       "       .text(function(d) { return d.tooltip; });\n",
       "\n",
       "   /* Functions */\n",
       "   function zoomed() {\n",
       "     container.attr(\"transform\", d3.event.transform);\n",
       "   }\n",
       "\n",
       "   function ticked() {\n",
       "     link\n",
       "       .attr(\"x1\", function(d) { return d.source.x; })\n",
       "       .attr(\"y1\", function(d) { return d.source.y; })\n",
       "       .attr(\"x2\", function(d) { return d.target.x; })\n",
       "       .attr(\"y2\", function(d) { return d.target.y; });\n",
       "\n",
       "     link_value\n",
       "       .attr(\"x\", function(d) { return (d.source.x+d.target.x)/2; })\n",
       "       .attr(\"y\", function(d) { return (d.source.y+d.target.y)/2; })\n",
       "\n",
       "     node.attr(\"transform\",\n",
       "               function(d) { return \"translate(\" + d.x + \",\" + d.y + \")\"; });\n",
       "   }\n",
       "\n",
       "   function dragstarted(d) {\n",
       "     if (!d3.event.active) simulation.alphaTarget(0.3).restart();\n",
       "     d.fx = d.x;\n",
       "     d.fy = d.y;\n",
       "   }\n",
       "\n",
       "   function dragged(d) {\n",
       "     d.fx = d3.event.x;\n",
       "     d.fy = d3.event.y;\n",
       "   }\n",
       "\n",
       "   function dragended(d) {\n",
       "     if (!d3.event.active) simulation.alphaTarget(0);\n",
       "     d.fx = null;\n",
       "     d.fy = null;\n",
       "   }\n",
       "\n",
       " });\n",
       "</script>\n"
      ],
      "text/plain": [
       "<IPython.core.display.HTML object>"
      ]
     },
     "metadata": {},
     "output_type": "execute_result"
    }
   ],
   "source": [
    "spn.display_spn_graph(root, skip_params=False)"
   ]
  },
  {
   "cell_type": "code",
   "execution_count": 8,
   "metadata": {
    "collapsed": false
   },
   "outputs": [
    {
     "name": "stdout",
     "output_type": "stream",
     "text": [
      "[[ 1.        ]\n",
      " [ 0.0619872 ]\n",
      " [ 0.19847235]]\n",
      "[[ 1.        ]\n",
      " [ 0.07838841]\n",
      " [ 0.13082872]]\n"
     ]
    }
   ],
   "source": [
    "init=spn.initialize_weights(root)\n",
    "value = root.get_value()\n",
    "iv = loader.find_node(\"IVs\")\n",
    "with tf.Session() as sess:\n",
    "    sess.run(init)\n",
    "    second_value = sess.run(value, feed_dict={iv: [[-1, -1, -1],\n",
    "                                                  [0,0,0],\n",
    "                                                  [1,1,1]]})\n",
    "    print(first_value)\n",
    "    print(second_value)"
   ]
  },
  {
   "cell_type": "markdown",
   "metadata": {},
   "source": [
    "We see that the weights of the loaded SPN were initialized after loading to random uniform distribution, since they were not initialized before saving! Therefore, second_value differs from first_value."
   ]
  },
  {
   "cell_type": "markdown",
   "metadata": {},
   "source": [
    "# Load and Run the SPN With Initialzed Weights"
   ]
  },
  {
   "cell_type": "code",
   "execution_count": 9,
   "metadata": {
    "collapsed": false
   },
   "outputs": [
    {
     "name": "stdout",
     "output_type": "stream",
     "text": [
      "Sum_2\n"
     ]
    }
   ],
   "source": [
    "loader=spn.JSONLoader('/home/czikus/test_init.spn')\n",
    "root=loader.load()\n",
    "print(root)"
   ]
  },
  {
   "cell_type": "code",
   "execution_count": 10,
   "metadata": {
    "collapsed": false
   },
   "outputs": [
    {
     "data": {
      "text/html": [
       "<svg id=\"Sf09ab203eeaa4cd880863c0fe9ea74ff\" width=\"950\" height=\"800\"></svg>\n",
       "<script>\n",
       " require.config({\n",
       "   paths: {\n",
       "     d3: 'https://d3js.org/d3.v4.min'\n",
       "   }\n",
       " });\n",
       " require(['d3'], function(d3){\n",
       "\n",
       "   var graph = {\"links\": [{\"source\": \"Sums1.3/Sum2_Weights_2_1\", \"target\": \"Sums1.3/Sum2_2\", \"value\": 2}, {\"source\": \"IVs_2_2\", \"target\": \"Sums1.3/Sum2_2\", \"value\": 1}, {\"source\": \"IVs_2_3\", \"target\": \"Sums1.3/Sum2_2\", \"value\": 1}, {\"source\": \"Sums1.2/Sum2_Weights_2_4\", \"target\": \"Sums1.2/Sum2_2\", \"value\": 2}, {\"source\": \"IVs_2_5\", \"target\": \"Sums1.2/Sum2_2\", \"value\": 1}, {\"source\": \"IVs_2_6\", \"target\": \"Sums1.2/Sum2_2\", \"value\": 1}, {\"source\": \"Sums1.1/Sum2_Weights_2_7\", \"target\": \"Sums1.1/Sum2_2\", \"value\": 2}, {\"source\": \"IVs_2_8\", \"target\": \"Sums1.1/Sum2_2\", \"value\": 1}, {\"source\": \"IVs_2_9\", \"target\": \"Sums1.1/Sum2_2\", \"value\": 1}, {\"source\": \"Sums1.1/Sum2_2\", \"target\": \"Products1/Product8_2\", \"value\": 1}, {\"source\": \"Sums1.2/Sum2_2\", \"target\": \"Products1/Product8_2\", \"value\": 1}, {\"source\": \"Sums1.3/Sum2_2\", \"target\": \"Products1/Product8_2\", \"value\": 1}, {\"source\": \"Sums1.1/Sum1_Weights_2_10\", \"target\": \"Sums1.1/Sum1_2\", \"value\": 2}, {\"source\": \"IVs_2_11\", \"target\": \"Sums1.1/Sum1_2\", \"value\": 1}, {\"source\": \"IVs_2_12\", \"target\": \"Sums1.1/Sum1_2\", \"value\": 1}, {\"source\": \"Sums1.1/Sum1_2\", \"target\": \"Products1/Product7_2\", \"value\": 1}, {\"source\": \"Sums1.2/Sum2_2\", \"target\": \"Products1/Product7_2\", \"value\": 1}, {\"source\": \"Sums1.3/Sum2_2\", \"target\": \"Products1/Product7_2\", \"value\": 1}, {\"source\": \"Sums1.2/Sum1_Weights_2_13\", \"target\": \"Sums1.2/Sum1_2\", \"value\": 2}, {\"source\": \"IVs_2_14\", \"target\": \"Sums1.2/Sum1_2\", \"value\": 1}, {\"source\": \"IVs_2_15\", \"target\": \"Sums1.2/Sum1_2\", \"value\": 1}, {\"source\": \"Sums1.1/Sum2_2\", \"target\": \"Products1/Product6_2\", \"value\": 1}, {\"source\": \"Sums1.2/Sum1_2\", \"target\": \"Products1/Product6_2\", \"value\": 1}, {\"source\": \"Sums1.3/Sum2_2\", \"target\": \"Products1/Product6_2\", \"value\": 1}, {\"source\": \"Sums1.1/Sum1_2\", \"target\": \"Products1/Product5_2\", \"value\": 1}, {\"source\": \"Sums1.2/Sum1_2\", \"target\": \"Products1/Product5_2\", \"value\": 1}, {\"source\": \"Sums1.3/Sum2_2\", \"target\": \"Products1/Product5_2\", \"value\": 1}, {\"source\": \"Sums1.3/Sum1_Weights_2_16\", \"target\": \"Sums1.3/Sum1_2\", \"value\": 2}, {\"source\": \"IVs_2_17\", \"target\": \"Sums1.3/Sum1_2\", \"value\": 1}, {\"source\": \"IVs_2_18\", \"target\": \"Sums1.3/Sum1_2\", \"value\": 1}, {\"source\": \"Sums1.1/Sum2_2\", \"target\": \"Products1/Product4_2\", \"value\": 1}, {\"source\": \"Sums1.2/Sum2_2\", \"target\": \"Products1/Product4_2\", \"value\": 1}, {\"source\": \"Sums1.3/Sum1_2\", \"target\": \"Products1/Product4_2\", \"value\": 1}, {\"source\": \"Sums1.1/Sum1_2\", \"target\": \"Products1/Product3_2\", \"value\": 1}, {\"source\": \"Sums1.2/Sum2_2\", \"target\": \"Products1/Product3_2\", \"value\": 1}, {\"source\": \"Sums1.3/Sum1_2\", \"target\": \"Products1/Product3_2\", \"value\": 1}, {\"source\": \"Sums1.1/Sum2_2\", \"target\": \"Products1/Product2_2\", \"value\": 1}, {\"source\": \"Sums1.2/Sum1_2\", \"target\": \"Products1/Product2_2\", \"value\": 1}, {\"source\": \"Sums1.3/Sum1_2\", \"target\": \"Products1/Product2_2\", \"value\": 1}, {\"source\": \"Sums1.1/Sum1_2\", \"target\": \"Products1/Product1_2\", \"value\": 1}, {\"source\": \"Sums1.2/Sum1_2\", \"target\": \"Products1/Product1_2\", \"value\": 1}, {\"source\": \"Sums1.3/Sum1_2\", \"target\": \"Products1/Product1_2\", \"value\": 1}, {\"source\": \"Sum_Weights_2_19\", \"target\": \"Sum_2\", \"value\": 8}, {\"source\": \"Products1/Product1_2\", \"target\": \"Sum_2\", \"value\": 1}, {\"source\": \"Products1/Product2_2\", \"target\": \"Sum_2\", \"value\": 1}, {\"source\": \"Products1/Product3_2\", \"target\": \"Sum_2\", \"value\": 1}, {\"source\": \"Products1/Product4_2\", \"target\": \"Sum_2\", \"value\": 1}, {\"source\": \"Products1/Product5_2\", \"target\": \"Sum_2\", \"value\": 1}, {\"source\": \"Products1/Product6_2\", \"target\": \"Sum_2\", \"value\": 1}, {\"source\": \"Products1/Product7_2\", \"target\": \"Sum_2\", \"value\": 1}, {\"source\": \"Products1/Product8_2\", \"target\": \"Sum_2\", \"value\": 1}], \"nodes\": [{\"tooltip\": \"Sums1.3/Sum2_2\", \"name\": \"Sums1.3/Sum2_2\", \"type\": 2, \"id\": \"Sums1.3/Sum2_2\"}, {\"tooltip\": \"Sums1.3/Sum2_Weights_2\", \"name\": \"Sums1.3/Sum2_Weights_2\", \"type\": 1, \"id\": \"Sums1.3/Sum2_Weights_2_1\"}, {\"tooltip\": \"IVs_2\", \"name\": \"IVs_2[0]\", \"type\": 0, \"id\": \"IVs_2_2\"}, {\"tooltip\": \"IVs_2\", \"name\": \"IVs_2[1]\", \"type\": 0, \"id\": \"IVs_2_3\"}, {\"tooltip\": \"Sums1.2/Sum2_2\", \"name\": \"Sums1.2/Sum2_2\", \"type\": 2, \"id\": \"Sums1.2/Sum2_2\"}, {\"tooltip\": \"Sums1.2/Sum2_Weights_2\", \"name\": \"Sums1.2/Sum2_Weights_2\", \"type\": 1, \"id\": \"Sums1.2/Sum2_Weights_2_4\"}, {\"tooltip\": \"IVs_2\", \"name\": \"IVs_2[2]\", \"type\": 0, \"id\": \"IVs_2_5\"}, {\"tooltip\": \"IVs_2\", \"name\": \"IVs_2[3]\", \"type\": 0, \"id\": \"IVs_2_6\"}, {\"tooltip\": \"Sums1.1/Sum2_2\", \"name\": \"Sums1.1/Sum2_2\", \"type\": 2, \"id\": \"Sums1.1/Sum2_2\"}, {\"tooltip\": \"Sums1.1/Sum2_Weights_2\", \"name\": \"Sums1.1/Sum2_Weights_2\", \"type\": 1, \"id\": \"Sums1.1/Sum2_Weights_2_7\"}, {\"tooltip\": \"IVs_2\", \"name\": \"IVs_2[4]\", \"type\": 0, \"id\": \"IVs_2_8\"}, {\"tooltip\": \"IVs_2\", \"name\": \"IVs_2[5]\", \"type\": 0, \"id\": \"IVs_2_9\"}, {\"tooltip\": \"Products1/Product8_2\", \"name\": \"Products1/Product8_2\", \"type\": 3, \"id\": \"Products1/Product8_2\"}, {\"tooltip\": \"Sums1.1/Sum1_2\", \"name\": \"Sums1.1/Sum1_2\", \"type\": 2, \"id\": \"Sums1.1/Sum1_2\"}, {\"tooltip\": \"Sums1.1/Sum1_Weights_2\", \"name\": \"Sums1.1/Sum1_Weights_2\", \"type\": 1, \"id\": \"Sums1.1/Sum1_Weights_2_10\"}, {\"tooltip\": \"IVs_2\", \"name\": \"IVs_2[4]\", \"type\": 0, \"id\": \"IVs_2_11\"}, {\"tooltip\": \"IVs_2\", \"name\": \"IVs_2[5]\", \"type\": 0, \"id\": \"IVs_2_12\"}, {\"tooltip\": \"Products1/Product7_2\", \"name\": \"Products1/Product7_2\", \"type\": 3, \"id\": \"Products1/Product7_2\"}, {\"tooltip\": \"Sums1.2/Sum1_2\", \"name\": \"Sums1.2/Sum1_2\", \"type\": 2, \"id\": \"Sums1.2/Sum1_2\"}, {\"tooltip\": \"Sums1.2/Sum1_Weights_2\", \"name\": \"Sums1.2/Sum1_Weights_2\", \"type\": 1, \"id\": \"Sums1.2/Sum1_Weights_2_13\"}, {\"tooltip\": \"IVs_2\", \"name\": \"IVs_2[2]\", \"type\": 0, \"id\": \"IVs_2_14\"}, {\"tooltip\": \"IVs_2\", \"name\": \"IVs_2[3]\", \"type\": 0, \"id\": \"IVs_2_15\"}, {\"tooltip\": \"Products1/Product6_2\", \"name\": \"Products1/Product6_2\", \"type\": 3, \"id\": \"Products1/Product6_2\"}, {\"tooltip\": \"Products1/Product5_2\", \"name\": \"Products1/Product5_2\", \"type\": 3, \"id\": \"Products1/Product5_2\"}, {\"tooltip\": \"Sums1.3/Sum1_2\", \"name\": \"Sums1.3/Sum1_2\", \"type\": 2, \"id\": \"Sums1.3/Sum1_2\"}, {\"tooltip\": \"Sums1.3/Sum1_Weights_2\", \"name\": \"Sums1.3/Sum1_Weights_2\", \"type\": 1, \"id\": \"Sums1.3/Sum1_Weights_2_16\"}, {\"tooltip\": \"IVs_2\", \"name\": \"IVs_2[0]\", \"type\": 0, \"id\": \"IVs_2_17\"}, {\"tooltip\": \"IVs_2\", \"name\": \"IVs_2[1]\", \"type\": 0, \"id\": \"IVs_2_18\"}, {\"tooltip\": \"Products1/Product4_2\", \"name\": \"Products1/Product4_2\", \"type\": 3, \"id\": \"Products1/Product4_2\"}, {\"tooltip\": \"Products1/Product3_2\", \"name\": \"Products1/Product3_2\", \"type\": 3, \"id\": \"Products1/Product3_2\"}, {\"tooltip\": \"Products1/Product2_2\", \"name\": \"Products1/Product2_2\", \"type\": 3, \"id\": \"Products1/Product2_2\"}, {\"tooltip\": \"Products1/Product1_2\", \"name\": \"Products1/Product1_2\", \"type\": 3, \"id\": \"Products1/Product1_2\"}, {\"tooltip\": \"Sum_2\", \"name\": \"Sum_2\", \"type\": 2, \"id\": \"Sum_2\"}, {\"tooltip\": \"Sum_Weights_2\", \"name\": \"Sum_Weights_2\", \"type\": 1, \"id\": \"Sum_Weights_2_19\"}]};\n",
       "\n",
       "   var color = d3.scaleOrdinal(d3.schemeCategory10);\n",
       "\n",
       "   var zoom = d3.zoom()\n",
       "                .scaleExtent([0.1, 10])\n",
       "                .on(\"zoom\", zoomed);\n",
       "\n",
       "   var svg = d3.select(\"#Sf09ab203eeaa4cd880863c0fe9ea74ff\").\n",
       "                call(zoom);\n",
       "\n",
       "   var width = svg.attr(\"width\");\n",
       "   var height = svg.attr(\"height\");\n",
       "\n",
       "   var simulation = d3.forceSimulation(graph.nodes)\n",
       "                      .on(\"tick\", ticked)\n",
       "                      .force(\"link\", d3.forceLink(graph.links)\n",
       "                                       .distance(80)\n",
       "                                       .id(function(d) { return d.id; }))\n",
       "                      .force(\"charge\", d3.forceManyBody().\n",
       "                                          strength(-1000))\n",
       "                      .force(\"center\", d3.forceCenter(width / 2, height / 2));\n",
       "\n",
       "   /* Contents */\n",
       "   var container = svg.append(\"g\").\n",
       "                       attr(\"class\", \"container\");\n",
       "\n",
       "   var link = container.append(\"g\")\n",
       "                       .selectAll(\"link\")\n",
       "                       .data(graph.links)\n",
       "                       .enter().append(\"line\")\n",
       "                       .attr(\"stroke\", \"#444\")\n",
       "                       .attr(\"stroke-opacity\", \"0.6\")\n",
       "                       .attr(\"stroke-width\",\n",
       "                             function(d) {\n",
       "                               return d.value;\n",
       "                               /*return Math.sqrt(d.value);*/\n",
       "                             });\n",
       "\n",
       "   var link_value = container.append(\"g\")\n",
       "                             .selectAll(\"linkvalue\")\n",
       "                             .data(graph.links)\n",
       "                             .enter().append(\"text\")\n",
       "                             .attr(\"alignment-baseline\", \"middle\")\n",
       "                             .style(\"text-anchor\", \"middle\")\n",
       "                             .text(function(d) { return d.value; });\n",
       "\n",
       "   var node = container.append(\"g\")\n",
       "                       .selectAll(\"node\")\n",
       "                       .data(graph.nodes)\n",
       "                       .enter().append(\"g\")\n",
       "                       .call(d3.drag()\n",
       "                               .on(\"start\", dragstarted)\n",
       "                               .on(\"drag\", dragged)\n",
       "                               .on(\"end\", dragended));\n",
       "\n",
       "   /* Node appearance */\n",
       "   node.append(\"rect\")\n",
       "       .attr(\"height\", 0)\n",
       "       .attr(\"width\", 0)\n",
       "       .attr(\"fill\", function(d) { return color(d.type); })\n",
       "       .attr(\"stroke\", \"#000\")\n",
       "       .attr(\"stroke-width\", \"1px\");\n",
       "\n",
       "   node.append(\"text\")\n",
       "       .attr(\"alignment-baseline\", \"middle\")\n",
       "       .style(\"text-anchor\", \"middle\")\n",
       "       .text(function(d) { return d.name; });\n",
       "\n",
       "   /* Adjust rect width to text */\n",
       "   var margin=10;\n",
       "   node.selectAll('rect')\n",
       "       .attr(\"x\", function(d) {return d3.select(this).attr(\"x\") - (this.parentNode.getBBox().width + margin)/2.0;})\n",
       "       .attr(\"y\", function(d) {return d3.select(this).attr(\"y\") - (this.parentNode.getBBox().height + margin)/2.0;})\n",
       "       .attr(\"width\", function(d) {return this.parentNode.getBBox().width + margin;})\n",
       "       .attr(\"height\", function(d) {return this.parentNode.getBBox().height + margin;});\n",
       "\n",
       "   /* Tooltips */\n",
       "   node.append(\"title\")\n",
       "       .text(function(d) { return d.tooltip; });\n",
       "\n",
       "   /* Functions */\n",
       "   function zoomed() {\n",
       "     container.attr(\"transform\", d3.event.transform);\n",
       "   }\n",
       "\n",
       "   function ticked() {\n",
       "     link\n",
       "       .attr(\"x1\", function(d) { return d.source.x; })\n",
       "       .attr(\"y1\", function(d) { return d.source.y; })\n",
       "       .attr(\"x2\", function(d) { return d.target.x; })\n",
       "       .attr(\"y2\", function(d) { return d.target.y; });\n",
       "\n",
       "     link_value\n",
       "       .attr(\"x\", function(d) { return (d.source.x+d.target.x)/2; })\n",
       "       .attr(\"y\", function(d) { return (d.source.y+d.target.y)/2; })\n",
       "\n",
       "     node.attr(\"transform\",\n",
       "               function(d) { return \"translate(\" + d.x + \",\" + d.y + \")\"; });\n",
       "   }\n",
       "\n",
       "   function dragstarted(d) {\n",
       "     if (!d3.event.active) simulation.alphaTarget(0.3).restart();\n",
       "     d.fx = d.x;\n",
       "     d.fy = d.y;\n",
       "   }\n",
       "\n",
       "   function dragged(d) {\n",
       "     d.fx = d3.event.x;\n",
       "     d.fy = d3.event.y;\n",
       "   }\n",
       "\n",
       "   function dragended(d) {\n",
       "     if (!d3.event.active) simulation.alphaTarget(0);\n",
       "     d.fx = null;\n",
       "     d.fy = null;\n",
       "   }\n",
       "\n",
       " });\n",
       "</script>\n"
      ],
      "text/plain": [
       "<IPython.core.display.HTML object>"
      ]
     },
     "metadata": {},
     "output_type": "execute_result"
    }
   ],
   "source": [
    "spn.display_spn_graph(root, skip_params=False)"
   ]
  },
  {
   "cell_type": "code",
   "execution_count": 11,
   "metadata": {
    "collapsed": false
   },
   "outputs": [
    {
     "name": "stdout",
     "output_type": "stream",
     "text": [
      "[[ 1.        ]\n",
      " [ 0.0619872 ]\n",
      " [ 0.19847235]]\n",
      "[[ 1.        ]\n",
      " [ 0.0619872 ]\n",
      " [ 0.19847235]]\n"
     ]
    }
   ],
   "source": [
    "init=spn.initialize_weights(root)\n",
    "value = root.get_value()\n",
    "iv = loader.find_node(\"IVs\")\n",
    "with tf.Session() as sess:\n",
    "    sess.run(init)\n",
    "    third_value = sess.run(value, feed_dict={iv: [[-1, -1, -1],\n",
    "                                                  [0,0,0],\n",
    "                                                  [1,1,1]]})\n",
    "    print(first_value)\n",
    "    print(third_value)"
   ]
  },
  {
   "cell_type": "markdown",
   "metadata": {},
   "source": [
    "We see that now the variables are initialized to the values to which they were initialized before. Therefore, we get the same result."
   ]
  }
 ],
 "metadata": {
  "kernelspec": {
   "display_name": "Python 3",
   "language": "python",
   "name": "python3"
  },
  "language_info": {
   "codemirror_mode": {
    "name": "ipython",
    "version": 3
   },
   "file_extension": ".py",
   "mimetype": "text/x-python",
   "name": "python",
   "nbconvert_exporter": "python",
   "pygments_lexer": "ipython3",
   "version": "3.5.2"
  }
 },
 "nbformat": 4,
 "nbformat_minor": 2
}
